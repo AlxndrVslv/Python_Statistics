{
 "cells": [
  {
   "cell_type": "code",
   "execution_count": 245,
   "id": "b0588ad1-0072-4841-8453-bc70a7a15df1",
   "metadata": {},
   "outputs": [],
   "source": [
    "from numpy import random\n",
    "from scipy.stats import t\n",
    "import numpy as np\n",
    "import scipy.stats as st\n",
    "import pandas as pd\n",
    "import math\n",
    "import matplotlib.pyplot as plt\n",
    "from statsmodels.stats.multicomp import pairwise_tukeyhsd\n",
    "import seaborn as sns"
   ]
  },
  {
   "cell_type": "code",
   "execution_count": 246,
   "id": "b3b9b062-1f36-4829-a9e5-e0527955e181",
   "metadata": {},
   "outputs": [
    {
     "name": "stdout",
     "output_type": "stream",
     "text": [
      "True\n"
     ]
    },
    {
     "data": {
      "image/png": "[encoded data removed]",
      "text/plain": [
       "<Figure size 2000x400 with 4 Axes>"
      ]
     },
     "metadata": {},
     "output_type": "display_data"
    }
   ],
   "source": [
    "fig, axs = plt.subplots(ncols = 4, figsize = (20, 4))\n",
    "n_samples = [16]\n",
    "fig.suptitle('Процент ошибок при попарном сравнении выборок t-критерием')\n",
    "for n, ax in zip(n_samples, axs):\n",
    "    samples = random.randn(n, 30)\n",
    "    n_samples = samples.shape[0]\n",
    "    n_combinations = n_samples*(n_samples-1)//2\n",
    "    result = np.zeros(n_combinations, dtype = bool)\n",
    "    k = 0\n",
    "    for i in range(n_samples):\n",
    "        for j in range(i + 1, n_samples):\n",
    "            N = samples[i].size\n",
    "            std_err = np.sqrt((samples[i].std()**2 / N) + (samples[j].std()**2 / N))\n",
    "            t_value = (samples[i].mean() + samples[j].mean()) / std_err\n",
    "            p = t.sf(t_value, N-2)\n",
    "            result[k] = p >= 0.05/((n*(n-1))/2)\n",
    "            k += 1\n",
    "    print(np.all(result))\n",
    "    "
   ]
  },
  {
   "cell_type": "code",
   "execution_count": 247,
   "id": "f3fef9c2-6ed1-40cc-a940-85d5a3784dfa",
   "metadata": {},
   "outputs": [
    {
     "name": "stdout",
     "output_type": "stream",
     "text": [
      "Статистика = 4.328, p = 0.115\n",
      "Не отклоняем нулевую гипотезу, распределения, вероятно, одинаковые\n"
     ]
    }
   ],
   "source": [
    "data1 = [6.873, 4.817, 4.121, -0.045, -0.055, -0.0436, 4.360, -0.478, -0.0637, -0.089]\n",
    "data2 = [1.142, -0.432, -0.938, -0.729, -0.846, -0.157, 0.500, 1.183, -1.075, -0.169]\n",
    "data3 = [-0.208, 0.696, 0.928, -1.148, -0.213, 0.229, 0.137, 0.269, -0.870, -1.204]\n",
    "\n",
    "stat, p = st.kruskal(data1, data2, data3)\n",
    "\n",
    "print(f\"Статистика = {stat:.3f}, p = {p:.3f}\")\n",
    "\n",
    "if p > 0.05:\n",
    "    print('Не отклоняем нулевую гипотезу, распределения, вероятно, одинаковые')\n",
    "else:\n",
    "    print('Отклоняем нулевую гипотезу, распределения, вероятно, различаются')"
   ]
  },
  {
   "cell_type": "code",
   "execution_count": 248,
   "id": "8b53d364-83af-41c7-8a7e-bb3a5e64ea3d",
   "metadata": {},
   "outputs": [],
   "source": [
    "# Импорт библиотек\n",
    "import numpy as np\n",
    "import pandas as pd\n",
    "import scipy.stats as stats\n",
    "import statsmodels.stats.api as sms\n",
    "import matplotlib as mpl\n",
    "import matplotlib.pyplot as plt\n",
    "import seaborn as sns\n",
    "from math import ceil"
   ]
  },
  {
   "cell_type": "code",
   "execution_count": 249,
   "id": "9b14aa21-0f62-46b2-a0d8-2f6c7fab7d3d",
   "metadata": {},
   "outputs": [],
   "source": [
    "%matplotlib inline"
   ]
  },
  {
   "cell_type": "code",
   "execution_count": 250,
   "id": "75e122ae-dcef-451d-b8ee-0cf5c3c477d6",
   "metadata": {},
   "outputs": [],
   "source": [
    "plt.style.use('default')\n",
    "font = {'family' : 'Helvetica',\n",
    "        'weight' : 'bold',\n",
    "        'size'   : 16}"
   ]
  },
  {
   "cell_type": "code",
   "execution_count": 251,
   "id": "929014cf-05af-456b-a8df-aa35e4e56e9e",
   "metadata": {},
   "outputs": [],
   "source": [
    "p1 = 0.13\n",
    "p2 = 0.15"
   ]
  },
  {
   "cell_type": "code",
   "execution_count": 252,
   "id": "827c2efd-a7c7-475a-8b43-9fa12df38555",
   "metadata": {},
   "outputs": [],
   "source": [
    "za = 1.96\n",
    "zb = 0.84"
   ]
  },
  {
   "cell_type": "code",
   "execution_count": 253,
   "id": "1819c1fc-8d01-423e-9ad6-a0baf7a61b6a",
   "metadata": {},
   "outputs": [
    {
     "data": {
      "text/plain": [
       "4716"
      ]
     },
     "execution_count": 253,
     "metadata": {},
     "output_type": "execute_result"
    }
   ],
   "source": [
    "required_n = ceil(((za + zb)**2)*(p1*(1-p1) + p2*(1-p2))/((p1-p2)**2))\n",
    "required_n"
   ]
  },
  {
   "cell_type": "code",
   "execution_count": 254,
   "id": "1311c399-bab2-448f-a2b5-11fbe7d26f75",
   "metadata": {},
   "outputs": [
    {
     "data": {
      "text/html": [
       "<div>\n",
       "<style scoped>\n",
       "    .dataframe tbody tr th:only-of-type {\n",
       "        vertical-align: middle;\n",
       "    }\n",
       "\n",
       "    .dataframe tbody tr th {\n",
       "        vertical-align: top;\n",
       "    }\n",
       "\n",
       "    .dataframe thead th {\n",
       "        text-align: right;\n",
       "    }\n",
       "</style>\n",
       "<table border=\"1\" class=\"dataframe\">\n",
       "  <thead>\n",
       "    <tr style=\"text-align: right;\">\n",
       "      <th></th>\n",
       "      <th>user_id</th>\n",
       "      <th>variation</th>\n",
       "      <th>converted</th>\n",
       "    </tr>\n",
       "  </thead>\n",
       "  <tbody>\n",
       "    <tr>\n",
       "      <th>0</th>\n",
       "      <td>4681</td>\n",
       "      <td>control</td>\n",
       "      <td>1</td>\n",
       "    </tr>\n",
       "    <tr>\n",
       "      <th>1</th>\n",
       "      <td>9052</td>\n",
       "      <td>treatment</td>\n",
       "      <td>0</td>\n",
       "    </tr>\n",
       "    <tr>\n",
       "      <th>2</th>\n",
       "      <td>9579</td>\n",
       "      <td>treatment</td>\n",
       "      <td>0</td>\n",
       "    </tr>\n",
       "    <tr>\n",
       "      <th>3</th>\n",
       "      <td>2601</td>\n",
       "      <td>treatment</td>\n",
       "      <td>0</td>\n",
       "    </tr>\n",
       "    <tr>\n",
       "      <th>4</th>\n",
       "      <td>7136</td>\n",
       "      <td>control</td>\n",
       "      <td>0</td>\n",
       "    </tr>\n",
       "  </tbody>\n",
       "</table>\n",
       "</div>"
      ],
      "text/plain": [
       "   user_id  variation  converted\n",
       "0     4681    control          1\n",
       "1     9052  treatment          0\n",
       "2     9579  treatment          0\n",
       "3     2601  treatment          0\n",
       "4     7136    control          0"
      ]
     },
     "execution_count": 254,
     "metadata": {},
     "output_type": "execute_result"
    }
   ],
   "source": [
    "df = pd.read_csv('AB_Test_data.csv')\n",
    "df.head()"
   ]
  },
  {
   "cell_type": "code",
   "execution_count": 255,
   "id": "ba475cb8-40dd-4ba1-b569-f551dac031c3",
   "metadata": {},
   "outputs": [
    {
     "name": "stdout",
     "output_type": "stream",
     "text": [
      "<class 'pandas.core.frame.DataFrame'>\n",
      "RangeIndex: 10000 entries, 0 to 9999\n",
      "Data columns (total 3 columns):\n",
      " #   Column     Non-Null Count  Dtype \n",
      "---  ------     --------------  ----- \n",
      " 0   user_id    10000 non-null  int64 \n",
      " 1   variation  10000 non-null  object\n",
      " 2   converted  10000 non-null  int64 \n",
      "dtypes: int64(2), object(1)\n",
      "memory usage: 234.5+ KB\n"
     ]
    }
   ],
   "source": [
    "df.info()"
   ]
  },
  {
   "cell_type": "code",
   "execution_count": 256,
   "id": "274fe3fe-8d61-4993-ae3e-719be9c72170",
   "metadata": {},
   "outputs": [
    {
     "data": {
      "text/html": [
       "<div>\n",
       "<style scoped>\n",
       "    .dataframe tbody tr th:only-of-type {\n",
       "        vertical-align: middle;\n",
       "    }\n",
       "\n",
       "    .dataframe tbody tr th {\n",
       "        vertical-align: top;\n",
       "    }\n",
       "\n",
       "    .dataframe thead th {\n",
       "        text-align: right;\n",
       "    }\n",
       "</style>\n",
       "<table border=\"1\" class=\"dataframe\">\n",
       "  <thead>\n",
       "    <tr style=\"text-align: right;\">\n",
       "      <th>converted</th>\n",
       "      <th>0</th>\n",
       "      <th>1</th>\n",
       "    </tr>\n",
       "    <tr>\n",
       "      <th>variation</th>\n",
       "      <th></th>\n",
       "      <th></th>\n",
       "    </tr>\n",
       "  </thead>\n",
       "  <tbody>\n",
       "    <tr>\n",
       "      <th>control</th>\n",
       "      <td>3977</td>\n",
       "      <td>999</td>\n",
       "    </tr>\n",
       "    <tr>\n",
       "      <th>treatment</th>\n",
       "      <td>3813</td>\n",
       "      <td>1211</td>\n",
       "    </tr>\n",
       "  </tbody>\n",
       "</table>\n",
       "</div>"
      ],
      "text/plain": [
       "converted     0     1\n",
       "variation            \n",
       "control    3977   999\n",
       "treatment  3813  1211"
      ]
     },
     "execution_count": 256,
     "metadata": {},
     "output_type": "execute_result"
    }
   ],
   "source": [
    "pd.crosstab(df['variation'], df['converted'])"
   ]
  },
  {
   "cell_type": "code",
   "execution_count": 257,
   "id": "f106fbf1-e59c-44b6-ae53-eef03cea9d06",
   "metadata": {},
   "outputs": [
    {
     "data": {
      "text/plain": [
       "user_id\n",
       "4681    1\n",
       "2183    1\n",
       "5520    1\n",
       "4247    1\n",
       "3933    1\n",
       "Name: count, dtype: int64"
      ]
     },
     "execution_count": 257,
     "metadata": {},
     "output_type": "execute_result"
    }
   ],
   "source": [
    "session_counts = df['user_id'].value_counts(ascending = False)\n",
    "session_counts.head()"
   ]
  },
  {
   "cell_type": "code",
   "execution_count": 258,
   "id": "85336e24-d656-484f-8025-aa260e6ab8b2",
   "metadata": {},
   "outputs": [],
   "source": [
    "control_sample = df[df['variation'] == 'control'].sample(n = required_n, random_state = 22)\n",
    "treatment_sample = df[df['variation'] == 'treatment'].sample(n = required_n, random_state = 22)"
   ]
  },
  {
   "cell_type": "code",
   "execution_count": 259,
   "id": "0aecea94-a82a-45af-98dd-7a32efec525b",
   "metadata": {},
   "outputs": [
    {
     "data": {
      "text/html": [
       "<div>\n",
       "<style scoped>\n",
       "    .dataframe tbody tr th:only-of-type {\n",
       "        vertical-align: middle;\n",
       "    }\n",
       "\n",
       "    .dataframe tbody tr th {\n",
       "        vertical-align: top;\n",
       "    }\n",
       "\n",
       "    .dataframe thead th {\n",
       "        text-align: right;\n",
       "    }\n",
       "</style>\n",
       "<table border=\"1\" class=\"dataframe\">\n",
       "  <thead>\n",
       "    <tr style=\"text-align: right;\">\n",
       "      <th></th>\n",
       "      <th>user_id</th>\n",
       "      <th>variation</th>\n",
       "      <th>converted</th>\n",
       "    </tr>\n",
       "  </thead>\n",
       "  <tbody>\n",
       "    <tr>\n",
       "      <th>0</th>\n",
       "      <td>8440</td>\n",
       "      <td>control</td>\n",
       "      <td>0</td>\n",
       "    </tr>\n",
       "    <tr>\n",
       "      <th>1</th>\n",
       "      <td>5864</td>\n",
       "      <td>control</td>\n",
       "      <td>1</td>\n",
       "    </tr>\n",
       "    <tr>\n",
       "      <th>2</th>\n",
       "      <td>185</td>\n",
       "      <td>control</td>\n",
       "      <td>0</td>\n",
       "    </tr>\n",
       "    <tr>\n",
       "      <th>3</th>\n",
       "      <td>8434</td>\n",
       "      <td>control</td>\n",
       "      <td>0</td>\n",
       "    </tr>\n",
       "    <tr>\n",
       "      <th>4</th>\n",
       "      <td>2481</td>\n",
       "      <td>control</td>\n",
       "      <td>0</td>\n",
       "    </tr>\n",
       "    <tr>\n",
       "      <th>...</th>\n",
       "      <td>...</td>\n",
       "      <td>...</td>\n",
       "      <td>...</td>\n",
       "    </tr>\n",
       "    <tr>\n",
       "      <th>9427</th>\n",
       "      <td>7476</td>\n",
       "      <td>treatment</td>\n",
       "      <td>1</td>\n",
       "    </tr>\n",
       "    <tr>\n",
       "      <th>9428</th>\n",
       "      <td>9746</td>\n",
       "      <td>treatment</td>\n",
       "      <td>1</td>\n",
       "    </tr>\n",
       "    <tr>\n",
       "      <th>9429</th>\n",
       "      <td>4811</td>\n",
       "      <td>treatment</td>\n",
       "      <td>0</td>\n",
       "    </tr>\n",
       "    <tr>\n",
       "      <th>9430</th>\n",
       "      <td>8695</td>\n",
       "      <td>treatment</td>\n",
       "      <td>0</td>\n",
       "    </tr>\n",
       "    <tr>\n",
       "      <th>9431</th>\n",
       "      <td>4695</td>\n",
       "      <td>treatment</td>\n",
       "      <td>0</td>\n",
       "    </tr>\n",
       "  </tbody>\n",
       "</table>\n",
       "<p>9432 rows × 3 columns</p>\n",
       "</div>"
      ],
      "text/plain": [
       "      user_id  variation  converted\n",
       "0        8440    control          0\n",
       "1        5864    control          1\n",
       "2         185    control          0\n",
       "3        8434    control          0\n",
       "4        2481    control          0\n",
       "...       ...        ...        ...\n",
       "9427     7476  treatment          1\n",
       "9428     9746  treatment          1\n",
       "9429     4811  treatment          0\n",
       "9430     8695  treatment          0\n",
       "9431     4695  treatment          0\n",
       "\n",
       "[9432 rows x 3 columns]"
      ]
     },
     "execution_count": 259,
     "metadata": {},
     "output_type": "execute_result"
    }
   ],
   "source": [
    "ab_test = pd.concat([control_sample, treatment_sample], axis = 0)\n",
    "ab_test.reset_index(drop = True, inplace = True)\n",
    "ab_test"
   ]
  },
  {
   "cell_type": "code",
   "execution_count": 260,
   "id": "d53579a0-cf57-44b9-b3d8-603c76458cda",
   "metadata": {},
   "outputs": [
    {
     "name": "stdout",
     "output_type": "stream",
     "text": [
      "<class 'pandas.core.frame.DataFrame'>\n",
      "RangeIndex: 9432 entries, 0 to 9431\n",
      "Data columns (total 3 columns):\n",
      " #   Column     Non-Null Count  Dtype \n",
      "---  ------     --------------  ----- \n",
      " 0   user_id    9432 non-null   int64 \n",
      " 1   variation  9432 non-null   object\n",
      " 2   converted  9432 non-null   int64 \n",
      "dtypes: int64(2), object(1)\n",
      "memory usage: 221.2+ KB\n"
     ]
    }
   ],
   "source": [
    "ab_test.info()"
   ]
  },
  {
   "cell_type": "code",
   "execution_count": 261,
   "id": "8961866b-a2e7-4c12-bb20-62780c61bfb4",
   "metadata": {},
   "outputs": [
    {
     "data": {
      "text/plain": [
       "variation\n",
       "control      4716\n",
       "treatment    4716\n",
       "Name: count, dtype: int64"
      ]
     },
     "execution_count": 261,
     "metadata": {},
     "output_type": "execute_result"
    }
   ],
   "source": [
    "ab_test['variation'].value_counts()"
   ]
  },
  {
   "cell_type": "code",
   "execution_count": 262,
   "id": "52797f23-6266-41e7-bab3-63bc448916c7",
   "metadata": {},
   "outputs": [
    {
     "data": {
      "text/html": [
       "<style type=\"text/css\">\n",
       "</style>\n",
       "<table id=\"T_8c838\">\n",
       "  <thead>\n",
       "    <tr>\n",
       "      <th class=\"blank level0\" >&nbsp;</th>\n",
       "      <th id=\"T_8c838_level0_col0\" class=\"col_heading level0 col0\" >конверсия</th>\n",
       "      <th id=\"T_8c838_level0_col1\" class=\"col_heading level0 col1\" >сред. кв. отклонение</th>\n",
       "      <th id=\"T_8c838_level0_col2\" class=\"col_heading level0 col2\" >ошибка среднего</th>\n",
       "    </tr>\n",
       "    <tr>\n",
       "      <th class=\"index_name level0\" >variation</th>\n",
       "      <th class=\"blank col0\" >&nbsp;</th>\n",
       "      <th class=\"blank col1\" >&nbsp;</th>\n",
       "      <th class=\"blank col2\" >&nbsp;</th>\n",
       "    </tr>\n",
       "  </thead>\n",
       "  <tbody>\n",
       "    <tr>\n",
       "      <th id=\"T_8c838_level0_row0\" class=\"row_heading level0 row0\" >control</th>\n",
       "      <td id=\"T_8c838_row0_col0\" class=\"data row0 col0\" >0.200</td>\n",
       "      <td id=\"T_8c838_row0_col1\" class=\"data row0 col1\" >0.400</td>\n",
       "      <td id=\"T_8c838_row0_col2\" class=\"data row0 col2\" >0.006</td>\n",
       "    </tr>\n",
       "    <tr>\n",
       "      <th id=\"T_8c838_level0_row1\" class=\"row_heading level0 row1\" >treatment</th>\n",
       "      <td id=\"T_8c838_row1_col0\" class=\"data row1 col0\" >0.241</td>\n",
       "      <td id=\"T_8c838_row1_col1\" class=\"data row1 col1\" >0.428</td>\n",
       "      <td id=\"T_8c838_row1_col2\" class=\"data row1 col2\" >0.006</td>\n",
       "    </tr>\n",
       "  </tbody>\n",
       "</table>\n"
      ],
      "text/plain": [
       "<pandas.io.formats.style.Styler at 0x15f49dbbed0>"
      ]
     },
     "execution_count": 262,
     "metadata": {},
     "output_type": "execute_result"
    }
   ],
   "source": [
    "conversion_rates = ab_test.groupby('variation')['converted']\n",
    "\n",
    "std_p = lambda x: np.std(x, ddof = 0)\n",
    "se_p = lambda x: stats.sem(x, ddof = 0)\n",
    "\n",
    "conversion_rates = conversion_rates.agg(['mean', std_p, se_p])\n",
    "conversion_rates.columns = ['конверсия', 'сред. кв. отклонение', 'ошибка среднего']\n",
    "conversion_rates.style.format('{:.3F}')"
   ]
  },
  {
   "cell_type": "code",
   "execution_count": 263,
   "id": "0b3a5c74-9399-40dd-9cd1-3920e1c5db45",
   "metadata": {},
   "outputs": [
    {
     "data": {
      "text/plain": [
       "Text(0, 0.5, 'Конверсия (пропорция)')"
      ]
     },
     "execution_count": 263,
     "metadata": {},
     "output_type": "execute_result"
    },
    {
     "data": {
      "image/png": "[encoded data removed]",
      "text/plain": [
       "<Figure size 800x600 with 1 Axes>"
      ]
     },
     "metadata": {},
     "output_type": "display_data"
    }
   ],
   "source": [
    "plt.figure(figsize = (8, 6))\n",
    "\n",
    "sns.barplot(x = ab_test['variation'], y = ab_test['converted'], errorbar = ('ci', False))\n",
    "\n",
    "plt.title('Конверсия по группам', pad = 20)\n",
    "plt.xlabel('Группа', labelpad=15)\n",
    "plt.ylabel('Конверсия (пропорция)', labelpad=15)"
   ]
  },
  {
   "cell_type": "code",
   "execution_count": 264,
   "id": "1c28ff27-2ce6-41f9-bb13-37fdc4a387be",
   "metadata": {},
   "outputs": [],
   "source": [
    "from statsmodels.stats.proportion import proportions_ztest, proportion_confint"
   ]
  },
  {
   "cell_type": "code",
   "execution_count": 265,
   "id": "823619e2-5c40-48ae-a0dc-3ffc32983294",
   "metadata": {},
   "outputs": [],
   "source": [
    "control_results = ab_test[ab_test['variation'] == 'control']['converted']\n",
    "treatment_results = ab_test[ab_test['variation'] == 'treatment']['converted']"
   ]
  },
  {
   "cell_type": "code",
   "execution_count": 266,
   "id": "a696c866-0943-41ff-aae6-e09777fb9f4f",
   "metadata": {},
   "outputs": [
    {
     "name": "stdout",
     "output_type": "stream",
     "text": [
      "z-статистика: -4.84\n",
      "p_value: 0.000\n",
      "ДИ 95% для контрольной группы: [0.188, 0.211]\n",
      "ДИ 95% для тестовой группы: [0.229, 0.253]\n"
     ]
    }
   ],
   "source": [
    "n_con = control_results.count()\n",
    "n_treat = treatment_results.count()\n",
    "successes = [control_results.sum(), treatment_results.sum()]\n",
    "nobs = [n_con, n_treat]\n",
    "\n",
    "z_stat, p_val = proportions_ztest(successes, nobs = nobs)\n",
    "(lower_con, lower_treat), (upper_con, upper_treat) = proportion_confint(successes, nobs = nobs, alpha = 0.05)\n",
    "\n",
    "print(f'z-статистика: {z_stat:.2f}')\n",
    "print(f'p_value: {p_val:.3f}')\n",
    "print(f'ДИ 95% для контрольной группы: [{lower_con:.3f}, {upper_con:.3f}]')\n",
    "print(f'ДИ 95% для тестовой группы: [{lower_treat:.3f}, {upper_treat:.3f}]')"
   ]
  },
  {
   "cell_type": "code",
   "execution_count": 267,
   "id": "38d4e06b-f47a-4b64-ad53-14154f86ba2a",
   "metadata": {},
   "outputs": [
    {
     "data": {
      "text/html": [
       "<div>\n",
       "<style scoped>\n",
       "    .dataframe tbody tr th:only-of-type {\n",
       "        vertical-align: middle;\n",
       "    }\n",
       "\n",
       "    .dataframe tbody tr th {\n",
       "        vertical-align: top;\n",
       "    }\n",
       "\n",
       "    .dataframe thead th {\n",
       "        text-align: right;\n",
       "    }\n",
       "</style>\n",
       "<table border=\"1\" class=\"dataframe\">\n",
       "  <thead>\n",
       "    <tr style=\"text-align: right;\">\n",
       "      <th></th>\n",
       "      <th>userid</th>\n",
       "      <th>version</th>\n",
       "      <th>sum_gamerounds</th>\n",
       "      <th>retention_1</th>\n",
       "      <th>retention_7</th>\n",
       "    </tr>\n",
       "  </thead>\n",
       "  <tbody>\n",
       "    <tr>\n",
       "      <th>0</th>\n",
       "      <td>116</td>\n",
       "      <td>gate_30</td>\n",
       "      <td>3</td>\n",
       "      <td>False</td>\n",
       "      <td>False</td>\n",
       "    </tr>\n",
       "    <tr>\n",
       "      <th>1</th>\n",
       "      <td>337</td>\n",
       "      <td>gate_30</td>\n",
       "      <td>38</td>\n",
       "      <td>True</td>\n",
       "      <td>False</td>\n",
       "    </tr>\n",
       "    <tr>\n",
       "      <th>2</th>\n",
       "      <td>377</td>\n",
       "      <td>gate_40</td>\n",
       "      <td>165</td>\n",
       "      <td>True</td>\n",
       "      <td>False</td>\n",
       "    </tr>\n",
       "    <tr>\n",
       "      <th>3</th>\n",
       "      <td>483</td>\n",
       "      <td>gate_40</td>\n",
       "      <td>1</td>\n",
       "      <td>False</td>\n",
       "      <td>False</td>\n",
       "    </tr>\n",
       "    <tr>\n",
       "      <th>4</th>\n",
       "      <td>488</td>\n",
       "      <td>gate_40</td>\n",
       "      <td>179</td>\n",
       "      <td>True</td>\n",
       "      <td>True</td>\n",
       "    </tr>\n",
       "  </tbody>\n",
       "</table>\n",
       "</div>"
      ],
      "text/plain": [
       "   userid  version  sum_gamerounds  retention_1  retention_7\n",
       "0     116  gate_30               3        False        False\n",
       "1     337  gate_30              38         True        False\n",
       "2     377  gate_40             165         True        False\n",
       "3     483  gate_40               1        False        False\n",
       "4     488  gate_40             179         True         True"
      ]
     },
     "execution_count": 267,
     "metadata": {},
     "output_type": "execute_result"
    }
   ],
   "source": [
    "data = pd.read_csv('cats.csv', sep = ';')\n",
    "data.head()"
   ]
  },
  {
   "cell_type": "code",
   "execution_count": 268,
   "id": "f11849b2-a0c4-4814-bf24-160295bcfa34",
   "metadata": {},
   "outputs": [
    {
     "data": {
      "text/plain": [
       "version\n",
       "gate_30    44700\n",
       "gate_40    45489\n",
       "Name: version, dtype: int64"
      ]
     },
     "execution_count": 268,
     "metadata": {},
     "output_type": "execute_result"
    }
   ],
   "source": [
    "data.groupby('version').version.count()"
   ]
  },
  {
   "cell_type": "code",
   "execution_count": 269,
   "id": "c857283b-45a6-4487-a5bb-167bbde38603",
   "metadata": {},
   "outputs": [
    {
     "data": {
      "text/html": [
       "<div>\n",
       "<style scoped>\n",
       "    .dataframe tbody tr th:only-of-type {\n",
       "        vertical-align: middle;\n",
       "    }\n",
       "\n",
       "    .dataframe tbody tr th {\n",
       "        vertical-align: top;\n",
       "    }\n",
       "\n",
       "    .dataframe thead th {\n",
       "        text-align: right;\n",
       "    }\n",
       "</style>\n",
       "<table border=\"1\" class=\"dataframe\">\n",
       "  <thead>\n",
       "    <tr style=\"text-align: right;\">\n",
       "      <th></th>\n",
       "      <th>userid</th>\n",
       "      <th>sum_gamerounds</th>\n",
       "      <th>retention_1</th>\n",
       "      <th>retention_7</th>\n",
       "    </tr>\n",
       "    <tr>\n",
       "      <th>version</th>\n",
       "      <th></th>\n",
       "      <th></th>\n",
       "      <th></th>\n",
       "      <th></th>\n",
       "    </tr>\n",
       "  </thead>\n",
       "  <tbody>\n",
       "    <tr>\n",
       "      <th>gate_30</th>\n",
       "      <td>222944098441</td>\n",
       "      <td>2344795</td>\n",
       "      <td>20034</td>\n",
       "      <td>8502</td>\n",
       "    </tr>\n",
       "    <tr>\n",
       "      <th>gate_40</th>\n",
       "      <td>227857702576</td>\n",
       "      <td>2333530</td>\n",
       "      <td>20119</td>\n",
       "      <td>8279</td>\n",
       "    </tr>\n",
       "  </tbody>\n",
       "</table>\n",
       "</div>"
      ],
      "text/plain": [
       "               userid  sum_gamerounds  retention_1  retention_7\n",
       "version                                                        \n",
       "gate_30  222944098441         2344795        20034         8502\n",
       "gate_40  227857702576         2333530        20119         8279"
      ]
     },
     "execution_count": 269,
     "metadata": {},
     "output_type": "execute_result"
    }
   ],
   "source": [
    "data.groupby('version').sum()"
   ]
  },
  {
   "cell_type": "code",
   "execution_count": 270,
   "id": "314c9852-15a5-4d5e-b6a9-8b5c412f78de",
   "metadata": {},
   "outputs": [
    {
     "data": {
      "text/html": [
       "<div>\n",
       "<style scoped>\n",
       "    .dataframe tbody tr th:only-of-type {\n",
       "        vertical-align: middle;\n",
       "    }\n",
       "\n",
       "    .dataframe tbody tr th {\n",
       "        vertical-align: top;\n",
       "    }\n",
       "\n",
       "    .dataframe thead th {\n",
       "        text-align: right;\n",
       "    }\n",
       "</style>\n",
       "<table border=\"1\" class=\"dataframe\">\n",
       "  <thead>\n",
       "    <tr style=\"text-align: right;\">\n",
       "      <th></th>\n",
       "      <th>userid</th>\n",
       "      <th>sum_gamerounds</th>\n",
       "      <th>retention_1</th>\n",
       "      <th>retention_7</th>\n",
       "    </tr>\n",
       "    <tr>\n",
       "      <th>version</th>\n",
       "      <th></th>\n",
       "      <th></th>\n",
       "      <th></th>\n",
       "      <th></th>\n",
       "    </tr>\n",
       "  </thead>\n",
       "  <tbody>\n",
       "    <tr>\n",
       "      <th>gate_30</th>\n",
       "      <td>4.987564e+06</td>\n",
       "      <td>52.456264</td>\n",
       "      <td>0.448188</td>\n",
       "      <td>0.190201</td>\n",
       "    </tr>\n",
       "    <tr>\n",
       "      <th>gate_40</th>\n",
       "      <td>5.009073e+06</td>\n",
       "      <td>51.298776</td>\n",
       "      <td>0.442283</td>\n",
       "      <td>0.182000</td>\n",
       "    </tr>\n",
       "  </tbody>\n",
       "</table>\n",
       "</div>"
      ],
      "text/plain": [
       "               userid  sum_gamerounds  retention_1  retention_7\n",
       "version                                                        \n",
       "gate_30  4.987564e+06       52.456264     0.448188     0.190201\n",
       "gate_40  5.009073e+06       51.298776     0.442283     0.182000"
      ]
     },
     "execution_count": 270,
     "metadata": {},
     "output_type": "execute_result"
    }
   ],
   "source": [
    "data.groupby('version').mean()"
   ]
  },
  {
   "cell_type": "code",
   "execution_count": 271,
   "id": "1aa336e8-7ae6-4f48-8987-ecc8399b72b8",
   "metadata": {},
   "outputs": [],
   "source": [
    "v_30 = data.loc[data.version == 'gate_30']\n",
    "v_40 = data.loc[data.version == 'gate_40']\n",
    "v_30 = v_30.drop(v_30.loc[v_30.sum_gamerounds > 200].index)\n",
    "v_40 = v_40.drop(v_40.loc[v_40.sum_gamerounds > 200].index)"
   ]
  },
  {
   "cell_type": "code",
   "execution_count": 272,
   "id": "06e49da4-75b4-41de-8e84-784fe56d7d0e",
   "metadata": {},
   "outputs": [
    {
     "data": {
      "text/html": [
       "<div>\n",
       "<style scoped>\n",
       "    .dataframe tbody tr th:only-of-type {\n",
       "        vertical-align: middle;\n",
       "    }\n",
       "\n",
       "    .dataframe tbody tr th {\n",
       "        vertical-align: top;\n",
       "    }\n",
       "\n",
       "    .dataframe thead th {\n",
       "        text-align: right;\n",
       "    }\n",
       "</style>\n",
       "<table border=\"1\" class=\"dataframe\">\n",
       "  <thead>\n",
       "    <tr style=\"text-align: right;\">\n",
       "      <th></th>\n",
       "      <th>userid</th>\n",
       "      <th>version</th>\n",
       "      <th>sum_gamerounds</th>\n",
       "      <th>retention_1</th>\n",
       "      <th>retention_7</th>\n",
       "    </tr>\n",
       "  </thead>\n",
       "  <tbody>\n",
       "    <tr>\n",
       "      <th>0</th>\n",
       "      <td>116</td>\n",
       "      <td>gate_30</td>\n",
       "      <td>3</td>\n",
       "      <td>False</td>\n",
       "      <td>False</td>\n",
       "    </tr>\n",
       "    <tr>\n",
       "      <th>1</th>\n",
       "      <td>337</td>\n",
       "      <td>gate_30</td>\n",
       "      <td>38</td>\n",
       "      <td>True</td>\n",
       "      <td>False</td>\n",
       "    </tr>\n",
       "    <tr>\n",
       "      <th>6</th>\n",
       "      <td>1066</td>\n",
       "      <td>gate_30</td>\n",
       "      <td>0</td>\n",
       "      <td>False</td>\n",
       "      <td>False</td>\n",
       "    </tr>\n",
       "    <tr>\n",
       "      <th>11</th>\n",
       "      <td>2101</td>\n",
       "      <td>gate_30</td>\n",
       "      <td>0</td>\n",
       "      <td>False</td>\n",
       "      <td>False</td>\n",
       "    </tr>\n",
       "    <tr>\n",
       "      <th>13</th>\n",
       "      <td>2179</td>\n",
       "      <td>gate_30</td>\n",
       "      <td>39</td>\n",
       "      <td>True</td>\n",
       "      <td>False</td>\n",
       "    </tr>\n",
       "    <tr>\n",
       "      <th>...</th>\n",
       "      <td>...</td>\n",
       "      <td>...</td>\n",
       "      <td>...</td>\n",
       "      <td>...</td>\n",
       "      <td>...</td>\n",
       "    </tr>\n",
       "    <tr>\n",
       "      <th>90179</th>\n",
       "      <td>9998576</td>\n",
       "      <td>gate_30</td>\n",
       "      <td>14</td>\n",
       "      <td>True</td>\n",
       "      <td>False</td>\n",
       "    </tr>\n",
       "    <tr>\n",
       "      <th>90180</th>\n",
       "      <td>9998623</td>\n",
       "      <td>gate_30</td>\n",
       "      <td>7</td>\n",
       "      <td>False</td>\n",
       "      <td>False</td>\n",
       "    </tr>\n",
       "    <tr>\n",
       "      <th>90182</th>\n",
       "      <td>9999178</td>\n",
       "      <td>gate_30</td>\n",
       "      <td>21</td>\n",
       "      <td>True</td>\n",
       "      <td>False</td>\n",
       "    </tr>\n",
       "    <tr>\n",
       "      <th>90183</th>\n",
       "      <td>9999349</td>\n",
       "      <td>gate_30</td>\n",
       "      <td>10</td>\n",
       "      <td>False</td>\n",
       "      <td>False</td>\n",
       "    </tr>\n",
       "    <tr>\n",
       "      <th>90186</th>\n",
       "      <td>9999710</td>\n",
       "      <td>gate_30</td>\n",
       "      <td>28</td>\n",
       "      <td>True</td>\n",
       "      <td>False</td>\n",
       "    </tr>\n",
       "  </tbody>\n",
       "</table>\n",
       "<p>42095 rows × 5 columns</p>\n",
       "</div>"
      ],
      "text/plain": [
       "        userid  version  sum_gamerounds  retention_1  retention_7\n",
       "0          116  gate_30               3        False        False\n",
       "1          337  gate_30              38         True        False\n",
       "6         1066  gate_30               0        False        False\n",
       "11        2101  gate_30               0        False        False\n",
       "13        2179  gate_30              39         True        False\n",
       "...        ...      ...             ...          ...          ...\n",
       "90179  9998576  gate_30              14         True        False\n",
       "90180  9998623  gate_30               7        False        False\n",
       "90182  9999178  gate_30              21         True        False\n",
       "90183  9999349  gate_30              10        False        False\n",
       "90186  9999710  gate_30              28         True        False\n",
       "\n",
       "[42095 rows x 5 columns]"
      ]
     },
     "execution_count": 272,
     "metadata": {},
     "output_type": "execute_result"
    }
   ],
   "source": [
    "v_30"
   ]
  },
  {
   "cell_type": "code",
   "execution_count": 273,
   "id": "e93a8e64-e1c5-471e-8bdf-f34ee10c9b4f",
   "metadata": {},
   "outputs": [
    {
     "data": {
      "image/png": "[encoded data removed]",
      "text/plain": [
       "<Figure size 1500x1000 with 1 Axes>"
      ]
     },
     "metadata": {},
     "output_type": "display_data"
    }
   ],
   "source": [
    "bins = 200\n",
    "plt.figure(figsize = (15, 10))\n",
    "plt.hist(v_30['sum_gamerounds'], bins = bins, alpha = 1,   edgecolor = 'black', label = 'gate 30')\n",
    "plt.hist(v_40['sum_gamerounds'], bins = bins, alpha = 0.7,                      label = 'gate 40')\n",
    "plt.legend(loc = 'upper right', bbox_to_anchor = (0.45, 0.35))\n",
    "plt.show()"
   ]
  },
  {
   "cell_type": "code",
   "execution_count": 274,
   "id": "0b43ac2e-41e2-4d1d-b3b6-1c572de4abeb",
   "metadata": {},
   "outputs": [
    {
     "data": {
      "text/plain": [
       "[]"
      ]
     },
     "execution_count": 274,
     "metadata": {},
     "output_type": "execute_result"
    },
    {
     "data": {
      "image/png": "[encoded data removed]",
      "text/plain": [
       "<Figure size 1040.36x500 with 2 Axes>"
      ]
     },
     "metadata": {},
     "output_type": "display_data"
    }
   ],
   "source": [
    "df = data.loc[data['sum_gamerounds'] < 100].copy()\n",
    "\n",
    "sns.catplot(data = df, x = 'version', y = 'sum_gamerounds', hue = 'retention_1', col = 'retention_7', kind = 'box', height = 5, aspect = .95)\n",
    "plt.plot()"
   ]
  },
  {
   "cell_type": "code",
   "execution_count": 275,
   "id": "5451c3dd-e375-4ff4-afad-37bec1bfe7a6",
   "metadata": {},
   "outputs": [],
   "source": [
    "from scipy.stats import f_oneway\n",
    "from scipy.stats import wilcoxon\n",
    "from scipy.stats import mannwhitneyu\n",
    "import scipy.stats as stats"
   ]
  },
  {
   "cell_type": "code",
   "execution_count": 276,
   "id": "8b4f3c2b-bf04-4817-b301-952a7ba38c97",
   "metadata": {},
   "outputs": [
    {
     "name": "stdout",
     "output_type": "stream",
     "text": [
      "Статистика =  1024331250.500; p =  0.050\n",
      "Не отклоняем нулевую гипотезу, распределения, вероятно, одинаковые\n"
     ]
    }
   ],
   "source": [
    "stat, p = mannwhitneyu(data[data['version'] == 'gate_30']['sum_gamerounds'], data[data['version'] == 'gate_40']['sum_gamerounds'])\n",
    "\n",
    "print(f'Статистика = {stat: .3f}; p = {p: .3f}')\n",
    "if p > 0.05:\n",
    "    print('Не отклоняем нулевую гипотезу, распределения, вероятно, одинаковые')\n",
    "else:\n",
    "    print('Отклоняем нулевую гипотезу, распределения, вероятно, различаются')"
   ]
  },
  {
   "cell_type": "code",
   "execution_count": 277,
   "id": "9c986b7b-94ce-48e6-9779-cf5500dba7cc",
   "metadata": {},
   "outputs": [
    {
     "data": {
      "text/plain": [
       "<Axes: ylabel='Density'>"
      ]
     },
     "execution_count": 277,
     "metadata": {},
     "output_type": "execute_result"
    },
    {
     "data": {
      "text/plain": [
       "<Figure size 1500x1000 with 0 Axes>"
      ]
     },
     "metadata": {},
     "output_type": "display_data"
    },
    {
     "data": {
      "image/png": "[encoded data removed]",
      "text/plain": [
       "<Figure size 640x480 with 1 Axes>"
      ]
     },
     "metadata": {},
     "output_type": "display_data"
    }
   ],
   "source": [
    "plt.figure(figsize = (15, 10))\n",
    "\n",
    "boot_1d = []\n",
    "for i in range(1000):\n",
    "    boot_mean = data.sample(frac = 1, replace = True).groupby('version')['retention_7'].mean()\n",
    "    boot_1d.append(boot_mean)\n",
    "\n",
    "boot_1d = pd.DataFrame(boot_1d)\n",
    "\n",
    "boot_1d.plot(kind = 'density')"
   ]
  },
  {
   "cell_type": "code",
   "execution_count": 278,
   "id": "bba544f8-91cd-4d0d-bdaa-9368342866ed",
   "metadata": {},
   "outputs": [
    {
     "data": {
      "text/html": [
       "<div>\n",
       "<style scoped>\n",
       "    .dataframe tbody tr th:only-of-type {\n",
       "        vertical-align: middle;\n",
       "    }\n",
       "\n",
       "    .dataframe tbody tr th {\n",
       "        vertical-align: top;\n",
       "    }\n",
       "\n",
       "    .dataframe thead th {\n",
       "        text-align: right;\n",
       "    }\n",
       "</style>\n",
       "<table border=\"1\" class=\"dataframe\">\n",
       "  <thead>\n",
       "    <tr style=\"text-align: right;\">\n",
       "      <th>version</th>\n",
       "      <th>gate_30</th>\n",
       "      <th>gate_40</th>\n",
       "    </tr>\n",
       "  </thead>\n",
       "  <tbody>\n",
       "    <tr>\n",
       "      <th>retention_7</th>\n",
       "      <td>0.192859</td>\n",
       "      <td>0.183460</td>\n",
       "    </tr>\n",
       "    <tr>\n",
       "      <th>retention_7</th>\n",
       "      <td>0.191300</td>\n",
       "      <td>0.181125</td>\n",
       "    </tr>\n",
       "    <tr>\n",
       "      <th>retention_7</th>\n",
       "      <td>0.189582</td>\n",
       "      <td>0.184858</td>\n",
       "    </tr>\n",
       "    <tr>\n",
       "      <th>retention_7</th>\n",
       "      <td>0.191251</td>\n",
       "      <td>0.184182</td>\n",
       "    </tr>\n",
       "    <tr>\n",
       "      <th>retention_7</th>\n",
       "      <td>0.188766</td>\n",
       "      <td>0.184722</td>\n",
       "    </tr>\n",
       "    <tr>\n",
       "      <th>retention_7</th>\n",
       "      <td>0.190531</td>\n",
       "      <td>0.183986</td>\n",
       "    </tr>\n",
       "    <tr>\n",
       "      <th>retention_7</th>\n",
       "      <td>0.191100</td>\n",
       "      <td>0.181505</td>\n",
       "    </tr>\n",
       "    <tr>\n",
       "      <th>retention_7</th>\n",
       "      <td>0.188463</td>\n",
       "      <td>0.181172</td>\n",
       "    </tr>\n",
       "    <tr>\n",
       "      <th>retention_7</th>\n",
       "      <td>0.187337</td>\n",
       "      <td>0.183081</td>\n",
       "    </tr>\n",
       "    <tr>\n",
       "      <th>retention_7</th>\n",
       "      <td>0.188209</td>\n",
       "      <td>0.181810</td>\n",
       "    </tr>\n",
       "  </tbody>\n",
       "</table>\n",
       "</div>"
      ],
      "text/plain": [
       "version       gate_30   gate_40\n",
       "retention_7  0.192859  0.183460\n",
       "retention_7  0.191300  0.181125\n",
       "retention_7  0.189582  0.184858\n",
       "retention_7  0.191251  0.184182\n",
       "retention_7  0.188766  0.184722\n",
       "retention_7  0.190531  0.183986\n",
       "retention_7  0.191100  0.181505\n",
       "retention_7  0.188463  0.181172\n",
       "retention_7  0.187337  0.183081\n",
       "retention_7  0.188209  0.181810"
      ]
     },
     "execution_count": 278,
     "metadata": {},
     "output_type": "execute_result"
    }
   ],
   "source": [
    "boot_1d.head(10)"
   ]
  },
  {
   "cell_type": "code",
   "execution_count": 279,
   "id": "0a86d710-37f5-4e86-b10b-21420724930c",
   "metadata": {},
   "outputs": [],
   "source": [
    "def f_test(group_1, group_2):\n",
    "    f = np.var(group_1, ddof = 1) / np.var(group_2, ddof = 1)\n",
    "    nun = group_1.size - 1\n",
    "    dun = group_2.size - 1\n",
    "    p_value = 1 - st.f.cdf(f, nun, dun)\n",
    "    return f, p_value"
   ]
  },
  {
   "cell_type": "code",
   "execution_count": 280,
   "id": "c0445b37-6a04-4d1f-8e1a-b02a00b63871",
   "metadata": {},
   "outputs": [
    {
     "name": "stdout",
     "output_type": "stream",
     "text": [
      "Статистика =  1.033; p =  0.30597\n",
      "Не отклоняем нулевую гипотезу, дисперсии, вероятно, одинаковые\n"
     ]
    }
   ],
   "source": [
    "stat, p = f_test(boot_1d['gate_30'], boot_1d['gate_40'])\n",
    "\n",
    "print(f'Статистика = {stat: .3f}; p = {p: .5f}')\n",
    "if p > 0.05:\n",
    "    print('Не отклоняем нулевую гипотезу, дисперсии, вероятно, одинаковые')\n",
    "else:\n",
    "    print('Отклоняем нулевую гипотезу, дисперсии, вероятно, различаются')"
   ]
  },
  {
   "cell_type": "code",
   "execution_count": 281,
   "id": "060fa71e-d319-4008-b5f3-0300d5c407a7",
   "metadata": {},
   "outputs": [
    {
     "name": "stdout",
     "output_type": "stream",
     "text": [
      "Статистика =  101.699; p =  0.00000\n",
      "Отклоняем нулевую гипотезу, средние, вероятно, различаются\n"
     ]
    }
   ],
   "source": [
    "stat, p = st.ttest_ind(boot_1d['gate_30'], boot_1d['gate_40'])\n",
    "\n",
    "print(f'Статистика = {stat: .3f}; p = {p: .5f}')\n",
    "if p > 0.05:\n",
    "    print('Не отклоняем нулевую гипотезу, средние, вероятно, одинаковые')\n",
    "else:\n",
    "    print('Отклоняем нулевую гипотезу, средние, вероятно, различаются')"
   ]
  }
 ],
 "metadata": {
  "kernelspec": {
   "display_name": "Python 3 (ipykernel)",
   "language": "python",
   "name": "python3"
  },
  "language_info": {
   "codemirror_mode": {
    "name": "ipython",
    "version": 3
   },
   "file_extension": ".py",
   "mimetype": "text/x-python",
   "name": "python",
   "nbconvert_exporter": "python",
   "pygments_lexer": "ipython3",
   "version": "3.11.7"
  }
 },
 "nbformat": 4,
 "nbformat_minor": 5
}
