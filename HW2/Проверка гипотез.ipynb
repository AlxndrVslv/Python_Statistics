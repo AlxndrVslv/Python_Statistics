{
 "cells": [
  {
   "cell_type": "markdown",
   "metadata": {
    "id": "YwwsvrnrGZv7"
   },
   "source": [
    " ## Домашнее задание Проверка гипотез"
   ]
  },
  {
   "cell_type": "markdown",
   "metadata": {
    "id": "FOsgMF44GZv8"
   },
   "source": [
    "<div class=\"alert alert-info\">\n",
    "<b>Задание № 1</b>\n",
    "    \n",
    "Разработайте функцию для проверки нормальности распределения выборки данных, используя шаблон ниже. Вы можете использовать один из известных Вам статистических тестов.\n",
    "</div>"
   ]
  },
  {
   "cell_type": "code",
   "execution_count": 80,
   "metadata": {},
   "outputs": [],
   "source": [
    "from scipy import stats\n",
    "import numpy as np\n",
    "import matplotlib.pyplot as plt\n",
    "import pandas as pd"
   ]
  },
  {
   "cell_type": "code",
   "execution_count": 19,
   "metadata": {
    "id": "M2tSYeV9GZv9"
   },
   "outputs": [],
   "source": [
    "def check_normality(data):\n",
    "\n",
    "    stat, p = stats.shapiro(data)\n",
    "    \n",
    "    if p < 0.05:\n",
    "        print(\"Отклоняем нулевую гипотезу >> Данные распределены не нормально\")\n",
    "    else:\n",
    "        print(\"Не отклоняем нулевую гипотезу >> Данные распределены нормально\")"
   ]
  },
  {
   "cell_type": "code",
   "execution_count": 20,
   "metadata": {},
   "outputs": [
    {
     "name": "stdout",
     "output_type": "stream",
     "text": [
      "Не отклоняем нулевую гипотезу >> Данные распределены нормально\n"
     ]
    }
   ],
   "source": [
    "check_normality(np.random.normal(loc = 50, scale = 10, size = 100))"
   ]
  },
  {
   "cell_type": "markdown",
   "metadata": {
    "id": "AseiCYEmGZv-"
   },
   "source": [
    "<div class=\"alert alert-info\">\n",
    "<b>Задание № 2</b>\n",
    "\n",
    "Даны две выборки роста мужчин и женщин.\n",
    "- Докажите, используя `t-Тест Стьдента`, что различие между выборками незначительно, если уровень значимости равен $\\alpha$ `= 0.001`.\n",
    "- Покажите различия визуально\n",
    "- Является ли результат полезным с практической точки зрения? Почему да или нет?\n",
    "</div>"
   ]
  },
  {
   "cell_type": "code",
   "execution_count": 22,
   "metadata": {
    "id": "7e39zGu1GZv-"
   },
   "outputs": [],
   "source": [
    "np.random.seed(42) #фиксация случайности\n",
    "\n",
    "mens  = stats.norm.rvs(loc=171, scale=10, size=150000)  # Выборка мужчин со средним ростом 171\n",
    "womens = stats.norm.rvs(loc=170, scale=10, size=150000)  # Выборка женщин со средним ростом 170"
   ]
  },
  {
   "cell_type": "code",
   "execution_count": 45,
   "metadata": {},
   "outputs": [
    {
     "name": "stdout",
     "output_type": "stream",
     "text": [
      "Отклоняем нулевую гипотезу >> В выборках есть статистически значимые различия\n"
     ]
    }
   ],
   "source": [
    "stat, p = stats.ttest_ind(mens, womens)\n",
    "\n",
    "if p < 0.001:\n",
    "    print('Отклоняем нулевую гипотезу >> В выборках есть статистически значимые различия')\n",
    "else:\n",
    "    print('Принимаем нулевую гипотезу >> В выборках нет статистически значимых различий')"
   ]
  },
  {
   "cell_type": "code",
   "execution_count": 24,
   "metadata": {},
   "outputs": [
    {
     "data": {
      "text/plain": [
       "[]"
      ]
     },
     "execution_count": 24,
     "metadata": {},
     "output_type": "execute_result"
    },
    {
     "data": {
      "image/png": "[encoded data removed]",
      "text/plain": [
       "<Figure size 640x480 with 1 Axes>"
      ]
     },
     "metadata": {},
     "output_type": "display_data"
    }
   ],
   "source": [
    "plt.hist(mens, bins = 100)\n",
    "plt.hist(womens, bins = 100)\n",
    "plt.plot()"
   ]
  },
  {
   "cell_type": "markdown",
   "metadata": {},
   "source": [
    "<p>Наблюдение за возрастом мужчин и женщин на достаточно большой выборке (15000) показал, что различия между ними есть. Также отклонение нулевой гипотезы означает, что между ними есть взаимосвязь.</p>\n",
    "<p>Т.о., с практической точки зрения наблюдение является полезным. Между ростом мужчин и женщин есть взаимосвязь. Можно оценивать взаимное влияние.</p>"
   ]
  },
  {
   "cell_type": "markdown",
   "metadata": {},
   "source": [
    "<i>Принцип нулевой гипотезы является фундаментальной концепцией при статистической проверке гипотез. Он включает в себя предположение о совокупном параметре или отсутствии эффекта или взаимосвязи между переменными.</i>\n",
    "\n",
    "<i>По сути, нулевая гипотеза (H0) предполагает, что между переменными нет существенной разницы, эффекта или взаимосвязи. Она служит отправной точкой или предположением по умолчанию о том, что между группами или условиями нет реальных изменений, эффекта или разницы.</i>\n",
    "\n",
    "<i>Нулевая гипотеза обычно формулируется для проверки на альтернативную гипотезу (H1 или Hαα), которая предполагает, что в популяции присутствует эффект, различие или взаимосвязь.</i>"
   ]
  },
  {
   "cell_type": "markdown",
   "metadata": {
    "id": "pJYWS2hsGZwA"
   },
   "source": [
    "<div class=\"alert alert-info\">\n",
    "<b>Задание № 3</b>\n",
    "\n",
    "Специалист по кадрам, работающий в технологической компании, интересуется сверхурочным временем разных команд. Чтобы выяснить, есть ли разница между сверхурочной работой команды разработчиков программного обеспечения и группы тестирования, она случайным образом выбрала 17 сотрудников в каждой из двух команд и записала их среднее сверхурочное время за неделю в пересчете на час. Данные ниже.\n",
    "\n",
    "В соответствии с этой информацией проведите проверку гипотезы, чтобы проверить, есть ли разница между переутомлением двух команд, используя уровень значимости 0,05. Прежде чем приступать к проверке гипотез, проверьте предположение нормальности.\n",
    "</div>"
   ]
  },
  {
   "cell_type": "code",
   "execution_count": 28,
   "metadata": {
    "id": "4z72q2FzGZwA"
   },
   "outputs": [],
   "source": [
    "test_team = [6.2, 7.1, 1.5, 2,3 , 2, 1.5, 6.1, 2.4, 2.3, 12.4, 1.8, 5.3, 3.1, 9.4, 2.3, 4.1]\n",
    "developer_team = [2.3, 2.1, 1.4, 2.0, 8.7, 2.2, 3.1, 4.2, 3.6, 2.5, 3.1, 6.2, 12.1, 3.9, 2.2, 1.2 ,3.4]"
   ]
  },
  {
   "cell_type": "code",
   "execution_count": 29,
   "metadata": {},
   "outputs": [
    {
     "name": "stdout",
     "output_type": "stream",
     "text": [
      "Отклоняем нулевую гипотезу >> Данные распределены не нормально\n",
      "Отклоняем нулевую гипотезу >> Данные распределены не нормально\n"
     ]
    }
   ],
   "source": [
    "check_normality(test_team)\n",
    "check_normality(developer_team)"
   ]
  },
  {
   "cell_type": "markdown",
   "metadata": {},
   "source": [
    "Т.к. распределения не нормальные, применяем не параметрические тесты:"
   ]
  },
  {
   "cell_type": "code",
   "execution_count": 49,
   "metadata": {},
   "outputs": [
    {
     "name": "stdout",
     "output_type": "stream",
     "text": [
      "Принимаем нулевую гипотезу >> Переутомляемость двух команд не связана\n"
     ]
    }
   ],
   "source": [
    "stat, p = stats.mannwhitneyu(test_team, developer_team)\n",
    "\n",
    "if p < 0.05:\n",
    "    print('Отклоняем нулевую гипотезу >> Переутомляемость двух команд связана между собой')\n",
    "else:\n",
    "    print('Принимаем нулевую гипотезу >> Переутомляемость двух команд не связана')"
   ]
  },
  {
   "cell_type": "markdown",
   "metadata": {
    "id": "tUZelZD5GZwB"
   },
   "source": [
    "<div class=\"alert alert-info\">\n",
    "<b>Задание № 4</b>\n",
    "\n",
    "Педиатр хочет увидеть влияние потребления смеси на среднемесячную прибавку в весе у новорожденных. По этой причине она собрала данные из трех разных групп. Первая группа – дети исключительно грудного вскармливания, вторая группа – дети, которых кормят только смесью, и последняя группа – это дети, находящиеся на искусственном вскармливании и на грудном вскармливании. Эти данные приведены ниже.\n",
    "\n",
    "В соответствии с этой информацией проведите проверку гипотезы, чтобы проверить, есть ли разница между среднемесячным приростом этих трех групп, используя уровень значимости 0,05. Если есть значительная разница, выполните дальнейший анализ, чтобы найти причину разницы.\n",
    "</div>"
   ]
  },
  {
   "cell_type": "code",
   "execution_count": 51,
   "metadata": {
    "id": "WYRMd6LnGZwB"
   },
   "outputs": [],
   "source": [
    "only_breast = [794.1, 716.9, 993. , 724.7, 760.9, 908.2, 659.3 , 690.8, 768.7, 717.3 , 630.7, 729.5, 714.1, 810.3, 583.5, 679.9, 865.1];\n",
    "only_formula = [898.8, 881.2, 940.2, 966.2, 957.5, 1061.7, 1046.2, 980.4, 895.6, 919.7, 1074.1, 952.5, 796.3, 859.6, 871.1 , 1047.5, 919.1 , 1160.5, 996.9];\n",
    "both = [976.4, 656.4, 861.2, 706.8, 718.5, 717.1, 759.8, 894.6, 867.6, 805.6, 765.4, 800.3, 789.9, 875.3, 740. , 799.4, 790.3, 795.2 , 823.6, 818.7, 926.8, 791.7, 948.3];"
   ]
  },
  {
   "cell_type": "code",
   "execution_count": 53,
   "metadata": {},
   "outputs": [
    {
     "name": "stdout",
     "output_type": "stream",
     "text": [
      "Не отклоняем нулевую гипотезу >> Данные распределены нормально\n",
      "Не отклоняем нулевую гипотезу >> Данные распределены нормально\n",
      "Не отклоняем нулевую гипотезу >> Данные распределены нормально\n"
     ]
    }
   ],
   "source": [
    "check_normality(only_breast)\n",
    "check_normality(only_formula)\n",
    "check_normality(both)"
   ]
  },
  {
   "cell_type": "code",
   "execution_count": 75,
   "metadata": {},
   "outputs": [
    {
     "name": "stdout",
     "output_type": "stream",
     "text": [
      "Различия между группами детей вскормленных грудью и смесью статистически значимы\n",
      "Различия между группами детей вскормленных грудью и на смешанном питании статистически значимы\n",
      "Различия между группами детей на искусственном и на смешанном питании статистически значимы\n"
     ]
    }
   ],
   "source": [
    "stat, p = stats.ttest_ind(only_breast, only_formula)\n",
    "if p < 0.05:\n",
    "    print('Различия между группами детей вскормленных грудью и смесью статистически значимы')\n",
    "else:\n",
    "    print('Различия между группами детей вскормленных грудью и смесью не значимы')\n",
    "stat, p = stats.ttest_ind(only_breast, both)\n",
    "if p < 0.05:\n",
    "    print('Различия между группами детей вскормленных грудью и на смешанном питании статистически значимы')\n",
    "else:\n",
    "    print('Различия между группами детей вскормленных грудью и на смешанном питании не значимы')\n",
    "stat, p = stats.ttest_ind(only_formula, both)\n",
    "if p < 0.05:\n",
    "    print('Различия между группами детей на искусственном и на смешанном питании статистически значимы')\n",
    "else:\n",
    "    print('Различия между группами детей на искусственном и на смешанном питании не значимы')"
   ]
  },
  {
   "cell_type": "markdown",
   "metadata": {},
   "source": [
    "Т.о., изменение способа питания значительно влияет на прирост веса у новорожденных."
   ]
  },
  {
   "cell_type": "markdown",
   "metadata": {
    "id": "O0LhesbhGZwH"
   },
   "source": [
    "<div class=\"alert alert-info\">\n",
    "<b>Задание № 5 (Опционально) </b>\n",
    "\n",
    "Аналитик финансовой инвестиционной компании интересуется взаимосвязью между полом и склонностью к риску. Из базы данных была взята случайная выборка из 660 клиентов. Клиенты в выборке были классифицированы в соответствии с их полом и склонностью к риску. Результат приведен в следующей таблице.\n",
    "    \n",
    "Проверьте гипотезу о том, что склонность к риску клиентов этой компании не зависит от их пола. Используйте α = 0.01.    \n",
    "</div>"
   ]
  },
  {
   "cell_type": "code",
   "execution_count": 82,
   "metadata": {
    "id": "UP998NjNGZwI",
    "outputId": "594d4e97-97c7-4475-f572-6dcd187effec"
   },
   "outputs": [
    {
     "name": "stdout",
     "output_type": "stream",
     "text": [
      "Уровень риска\n",
      "    0   1   2   3    4\n",
      "Ж  53  23  30  36   88\n",
      "М  71  48  51  57  203\n"
     ]
    }
   ],
   "source": [
    "contingency_table = pd.DataFrame(\n",
    "    [\n",
    "        [53, 23, 30, 36, 88],\n",
    "        [71, 48, 51, 57, 203]\n",
    "    ],\n",
    "    #columns = ['Machine Learning', 'Data Science', 'Analytics'],\n",
    "    index = ['Ж', 'М'])\n",
    "\n",
    "print('Уровень риска')\n",
    "print(contingency_table)"
   ]
  },
  {
   "cell_type": "code",
   "execution_count": 106,
   "metadata": {},
   "outputs": [
    {
     "name": "stdout",
     "output_type": "stream",
     "text": [
      "Принимаем нулевую гипотезу >> Показатели риска не зависят от пола\n"
     ]
    }
   ],
   "source": [
    "stat, p, dof, exp = stats.chi2_contingency(contingency_table.values)\n",
    "if p < 0.01:\n",
    "    print('Отклоняем нулевую гипотезу >> Показатели риска зависят от пола')\n",
    "else:\n",
    "    print('Принимаем нулевую гипотезу >> Показатели риска не зависят от пола')"
   ]
  },
  {
   "cell_type": "markdown",
   "metadata": {
    "id": "nImsQh5LGZwM"
   },
   "source": [
    "<div class=\"alert alert-info\">\n",
    "<b>Задание № 6 (Опционально)</b>\n",
    "\n",
    "Компания электронной коммерции регулярно размещает рекламу своих кампаний на YouTube, Instagram и Facebook. Однако новому менеджеру было любопытно, есть ли разница между количеством клиентов, привлеченных этими платформами. Поэтому она начала использовать Adjust — приложение, позволяющее узнать, откуда приходят ваши пользователи. Ежедневные цифры, сообщаемые Adjust для каждой платформы, приведены ниже.\n",
    "    \n",
    "В соответствии с этой информацией проведите проверку гипотез, чтобы проверить, есть ли разница между средним числом привлеченных клиентов на этих трех платформах с использованием уровня значимости 0,05. Если есть значительная разница, выполните дальнейший анализ, чтобы найти причину разницы. Прежде чем приступать к проверке гипотез, проверьте соответствующие предположения.\n",
    "</div>"
   ]
  },
  {
   "cell_type": "code",
   "execution_count": 110,
   "metadata": {
    "id": "Hrhaf-J0GZwN"
   },
   "outputs": [],
   "source": [
    "youtube=[1913, 1879, 1939, 2146, 2040, 2127, 2122, 2156, 2036, 1974, 1956, 2146, 2151, 1943, 2125]\n",
    "instagram = [2305., 2355., 2203., 2231., 2185., 2420., 2386., 2410., 2340., 2349., 2241., 2396., 2244., 2267., 2281.]\n",
    "facebook = [2133., 2522., 2124., 2551., 2293., 2367., 2460., 2311., 2178., 2113., 2048., 2443., 2265., 2095., 2528.]"
   ]
  },
  {
   "cell_type": "markdown",
   "metadata": {},
   "source": [
    "Сначала проверим совпадение средних между каналами поступления клиентов:"
   ]
  },
  {
   "cell_type": "code",
   "execution_count": 158,
   "metadata": {},
   "outputs": [
    {
     "name": "stdout",
     "output_type": "stream",
     "text": [
      "Отклоняем нулевую гипотезу >> Средние для youtube и instagram отличаются\n",
      "Отклоняем нулевую гипотезу >> Средние для youtube и facebook отличаются\n",
      "Принимаем нулевую гипотезу >> Средние для instagram и facebook совпадают\n"
     ]
    }
   ],
   "source": [
    "stat, p = stats.ttest_ind(youtube, instagram)\n",
    "if p < 0.05:\n",
    "    print('Отклоняем нулевую гипотезу >> Средние для youtube и instagram отличаются')\n",
    "else:\n",
    "    print('Принимаем нулевую гипотезу >> Средние для  youtube и instagram совпадают')\n",
    "\n",
    "stat, p = stats.ttest_ind(youtube, facebook)\n",
    "if p < 0.05:\n",
    "    print('Отклоняем нулевую гипотезу >> Средние для youtube и facebook отличаются')\n",
    "else:\n",
    "    print('Принимаем нулевую гипотезу >> Средние для youtube и facebook совпадают')\n",
    "\n",
    "stat, p = stats.ttest_ind(instagram, facebook)\n",
    "if p < 0.05:\n",
    "    print('Отклоняем нулевую гипотезу >> Средние для instagram и facebook отличаются')\n",
    "else:\n",
    "    print('Принимаем нулевую гипотезу >> Средние для instagram и facebook совпадают')"
   ]
  },
  {
   "cell_type": "markdown",
   "metadata": {},
   "source": [
    "Видим, что есть различия в средних у youtube с instagram и facebook. <br/> Средние по instagram и facebook одинаковые."
   ]
  },
  {
   "cell_type": "code",
   "execution_count": 155,
   "metadata": {},
   "outputs": [
    {
     "name": "stdout",
     "output_type": "stream",
     "text": [
      "Отклоняем нулевую гипотезу >> Кол-во клиентов, привлеченных ч/з youtube и instagram взаимосвязаны друг с другом\n",
      "Отклоняем нулевую гипотезу >> Кол-во клиентов, привлеченных ч/з youtube и facebook взаимосвязаны друг с другом\n",
      "Принимаем нулевую гипотезу >> Кол-во клиентов, привлеченных ч/з instagram и facebook не зависят друг от друга\n"
     ]
    }
   ],
   "source": [
    "stat, p = stats.mannwhitneyu(youtube, instagram)\n",
    "if p < 0.05:\n",
    "    print('Отклоняем нулевую гипотезу >> Кол-во клиентов, привлеченных ч/з youtube и instagram взаимосвязаны друг с другом')\n",
    "else:\n",
    "    print('Принимаем нулевую гипотезу >> Кол-во клиентов, привлеченных ч/з youtube и instagram не зависят друг от друга')\n",
    "\n",
    "stat, p = stats.mannwhitneyu(youtube, facebook)\n",
    "if p < 0.05:\n",
    "    print('Отклоняем нулевую гипотезу >> Кол-во клиентов, привлеченных ч/з youtube и facebook взаимосвязаны друг с другом')\n",
    "else:\n",
    "    print('Принимаем нулевую гипотезу >> Кол-во клиентов, привлеченных ч/з youtube и facebook не зависят друг от друга')\n",
    "\n",
    "stat, p = stats.mannwhitneyu(instagram, facebook)\n",
    "if p < 0.05:\n",
    "    print('Отклоняем нулевую гипотезу >> Кол-во клиентов, привлеченных ч/з instagram и facebook взаимосвязаны друг с другом')\n",
    "else:\n",
    "    print('Принимаем нулевую гипотезу >> Кол-во клиентов, привлеченных ч/з instagram и facebook не зависят друг от друга')"
   ]
  },
  {
   "cell_type": "markdown",
   "metadata": {},
   "source": [
    "Из статистического теста видно, что на привлечение клиентов через youtube влияют привлечения через instagram и facebook. Отсюда, по-видимому, и разница в средних.<br/> Привлечение через instagram и facebook никак не связано между собой."
   ]
  }
 ],
 "metadata": {
  "colab": {
   "provenance": []
  },
  "kernelspec": {
   "display_name": "Python 3 (ipykernel)",
   "language": "python",
   "name": "python3"
  },
  "language_info": {
   "codemirror_mode": {
    "name": "ipython",
    "version": 3
   },
   "file_extension": ".py",
   "mimetype": "text/x-python",
   "name": "python",
   "nbconvert_exporter": "python",
   "pygments_lexer": "ipython3",
   "version": "3.11.7"
  },
  "toc": {
   "base_numbering": 1,
   "nav_menu": {},
   "number_sections": true,
   "sideBar": true,
   "skip_h1_title": false,
   "title_cell": "Table of Contents",
   "title_sidebar": "Contents",
   "toc_cell": false,
   "toc_position": {},
   "toc_section_display": true,
   "toc_window_display": false
  }
 },
 "nbformat": 4,
 "nbformat_minor": 4
}
