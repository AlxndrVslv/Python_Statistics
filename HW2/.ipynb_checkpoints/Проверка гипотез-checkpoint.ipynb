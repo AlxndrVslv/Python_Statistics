{
 "cells": [
  {
   "cell_type": "markdown",
   "metadata": {
    "id": "YwwsvrnrGZv7"
   },
   "source": [
    " ## Домашнее задание Проверка гипотез"
   ]
  },
  {
   "cell_type": "markdown",
   "metadata": {
    "id": "FOsgMF44GZv8"
   },
   "source": [
    "<div class=\"alert alert-info\">\n",
    "<b>Задание № 1</b>\n",
    "    \n",
    "Разработайте функцию для проверки нормальности распределения выборки данных, используя шаблон ниже. Вы можете использовать один из известных Вам статистических тестов.\n",
    "</div>"
   ]
  },
  {
   "cell_type": "code",
   "execution_count": 65,
   "metadata": {},
   "outputs": [],
   "source": [
    "from scipy import stats\n",
    "import numpy as np\n",
    "import matplotlib.pyplot as plt\n",
    "import pandas as pd\n",
    "import seaborn as sns"
   ]
  },
  {
   "cell_type": "code",
   "execution_count": 5,
   "metadata": {
    "id": "M2tSYeV9GZv9"
   },
   "outputs": [],
   "source": [
    "def check_normality(data):\n",
    "\n",
    "    stat, p = stats.shapiro(data)\n",
    "    \n",
    "    if p < 0.05:\n",
    "        print(\"Отклоняем нулевую гипотезу >> Данные распределены не нормально\")\n",
    "    else:\n",
    "        print(\"Не отклоняем нулевую гипотезу >> Данные распределены нормально\")"
   ]
  },
  {
   "cell_type": "markdown",
   "metadata": {
    "id": "AseiCYEmGZv-"
   },
   "source": [
    "<div class=\"alert alert-info\">\n",
    "<b>Задание № 2</b>\n",
    "\n",
    "Даны две выборки роста мужчин и женщин.\n",
    "- Докажите, используя `t-Тест Стьдента`, что различие между выборками незначительно, если уровень значимости равен $\\alpha$ `= 0.001`.\n",
    "- Покажите различия визуально\n",
    "- Является ли результат полезным с практической точки зрения? Почему да или нет?\n",
    "</div>"
   ]
  },
  {
   "cell_type": "code",
   "execution_count": 8,
   "metadata": {
    "id": "7e39zGu1GZv-"
   },
   "outputs": [],
   "source": [
    "np.random.seed(42) #фиксация случайности\n",
    "\n",
    "mens  = stats.norm.rvs(loc=171, scale=10, size=150000)  # Выборка мужчин со средним ростом 171\n",
    "womens = stats.norm.rvs(loc=170, scale=10, size=150000)  # Выборка женщин со средним ростом 170"
   ]
  },
  {
   "cell_type": "code",
   "execution_count": 9,
   "metadata": {},
   "outputs": [
    {
     "name": "stdout",
     "output_type": "stream",
     "text": [
      "Отклоняем нулевую гипотезу >> В выборках есть статистически значимые различия\n"
     ]
    }
   ],
   "source": [
    "stat, p = stats.ttest_ind(mens, womens, equal_var = False)\n",
    "\n",
    "if p < 0.001:\n",
    "    print('Отклоняем нулевую гипотезу >> В выборках есть статистически значимые различия')\n",
    "else:\n",
    "    print('Принимаем нулевую гипотезу >> В выборках нет статистически значимых различий')"
   ]
  },
  {
   "cell_type": "code",
   "execution_count": 10,
   "metadata": {},
   "outputs": [
    {
     "data": {
      "text/plain": [
       "[]"
      ]
     },
     "execution_count": 10,
     "metadata": {},
     "output_type": "execute_result"
    },
    {
     "data": {
      "image/png": "[encoded data removed]",
      "text/plain": [
       "<Figure size 640x480 with 1 Axes>"
      ]
     },
     "metadata": {},
     "output_type": "display_data"
    }
   ],
   "source": [
    "plt.hist(mens, bins = 100)\n",
    "plt.hist(womens, bins = 100)\n",
    "plt.plot()"
   ]
  },
  {
   "cell_type": "markdown",
   "metadata": {},
   "source": [
    "<p>Наблюдение за возрастом мужчин и женщин на достаточно большой выборке (15000) показал, что различия между ними есть. Также отклонение нулевой гипотезы означает, что между ними есть взаимосвязь.</p>\n",
    "<p>Т.о., с практической точки зрения наблюдение является полезным. Между ростом мужчин и женщин есть взаимосвязь. Можно оценивать взаимное влияние.</p>"
   ]
  },
  {
   "cell_type": "markdown",
   "metadata": {},
   "source": [
    "<i>Принцип нулевой гипотезы является фундаментальной концепцией при статистической проверке гипотез. Он включает в себя предположение о совокупном параметре или отсутствии эффекта или взаимосвязи между переменными.</i>\n",
    "\n",
    "<i>По сути, нулевая гипотеза (H0) предполагает, что между переменными нет существенной разницы, эффекта или взаимосвязи. Она служит отправной точкой или предположением по умолчанию о том, что между группами или условиями нет реальных изменений, эффекта или разницы.</i>\n",
    "\n",
    "<i>Нулевая гипотеза обычно формулируется для проверки на альтернативную гипотезу (H1 или Hαα), которая предполагает, что в популяции присутствует эффект, различие или взаимосвязь.</i>"
   ]
  },
  {
   "cell_type": "markdown",
   "metadata": {
    "id": "pJYWS2hsGZwA"
   },
   "source": [
    "<div class=\"alert alert-info\">\n",
    "<b>Задание № 3</b>\n",
    "\n",
    "Специалист по кадрам, работающий в технологической компании, интересуется сверхурочным временем разных команд. Чтобы выяснить, есть ли разница между сверхурочной работой команды разработчиков программного обеспечения и группы тестирования, она случайным образом выбрала 17 сотрудников в каждой из двух команд и записала их среднее сверхурочное время за неделю в пересчете на час. Данные ниже.\n",
    "\n",
    "В соответствии с этой информацией проведите проверку гипотезы, чтобы проверить, есть ли разница между переутомлением двух команд, используя уровень значимости 0,05. Прежде чем приступать к проверке гипотез, проверьте предположение нормальности.\n",
    "</div>"
   ]
  },
  {
   "cell_type": "code",
   "execution_count": 14,
   "metadata": {
    "id": "4z72q2FzGZwA"
   },
   "outputs": [],
   "source": [
    "test_team = [6.2, 7.1, 1.5, 2,3 , 2, 1.5, 6.1, 2.4, 2.3, 12.4, 1.8, 5.3, 3.1, 9.4, 2.3, 4.1]\n",
    "developer_team = [2.3, 2.1, 1.4, 2.0, 8.7, 2.2, 3.1, 4.2, 3.6, 2.5, 3.1, 6.2, 12.1, 3.9, 2.2, 1.2 ,3.4]"
   ]
  },
  {
   "cell_type": "code",
   "execution_count": 15,
   "metadata": {},
   "outputs": [
    {
     "name": "stdout",
     "output_type": "stream",
     "text": [
      "Отклоняем нулевую гипотезу >> Данные распределены не нормально\n",
      "Отклоняем нулевую гипотезу >> Данные распределены не нормально\n"
     ]
    }
   ],
   "source": [
    "check_normality(test_team)\n",
    "check_normality(developer_team)"
   ]
  },
  {
   "cell_type": "markdown",
   "metadata": {},
   "source": [
    "Т.к. распределения не нормальные, применяем не параметрические тесты:"
   ]
  },
  {
   "cell_type": "code",
   "execution_count": 17,
   "metadata": {},
   "outputs": [
    {
     "name": "stdout",
     "output_type": "stream",
     "text": [
      "Принимаем нулевую гипотезу >> Переутомляемость двух команд не связана\n"
     ]
    }
   ],
   "source": [
    "stat, p = stats.mannwhitneyu(test_team, developer_team)\n",
    "\n",
    "if p < 0.05:\n",
    "    print('Отклоняем нулевую гипотезу >> Переутомляемость двух команд связана между собой')\n",
    "else:\n",
    "    print('Принимаем нулевую гипотезу >> Переутомляемость двух команд не связана')"
   ]
  },
  {
   "cell_type": "markdown",
   "metadata": {
    "id": "tUZelZD5GZwB"
   },
   "source": [
    "<div class=\"alert alert-info\">\n",
    "<b>Задание № 4</b>\n",
    "\n",
    "Педиатр хочет увидеть влияние потребления смеси на среднемесячную прибавку в весе у новорожденных. По этой причине она собрала данные из трех разных групп. Первая группа – дети исключительно грудного вскармливания, вторая группа – дети, которых кормят только смесью, и последняя группа – это дети, находящиеся на искусственном вскармливании и на грудном вскармливании. Эти данные приведены ниже.\n",
    "\n",
    "В соответствии с этой информацией проведите проверку гипотезы, чтобы проверить, есть ли разница между среднемесячным приростом этих трех групп, используя уровень значимости 0,05. Если есть значительная разница, выполните дальнейший анализ, чтобы найти причину разницы.\n",
    "</div>"
   ]
  },
  {
   "cell_type": "code",
   "execution_count": 19,
   "metadata": {
    "id": "WYRMd6LnGZwB"
   },
   "outputs": [],
   "source": [
    "only_breast = [794.1, 716.9, 993. , 724.7, 760.9, 908.2, 659.3 , 690.8, 768.7, 717.3 , 630.7, 729.5, 714.1, 810.3, 583.5, 679.9, 865.1];\n",
    "only_formula = [898.8, 881.2, 940.2, 966.2, 957.5, 1061.7, 1046.2, 980.4, 895.6, 919.7, 1074.1, 952.5, 796.3, 859.6, 871.1 , 1047.5, 919.1 , 1160.5, 996.9];\n",
    "both = [976.4, 656.4, 861.2, 706.8, 718.5, 717.1, 759.8, 894.6, 867.6, 805.6, 765.4, 800.3, 789.9, 875.3, 740. , 799.4, 790.3, 795.2 , 823.6, 818.7, 926.8, 791.7, 948.3];"
   ]
  },
  {
   "cell_type": "markdown",
   "metadata": {},
   "source": [
    "1. Проверим нормальные ли распределения:"
   ]
  },
  {
   "cell_type": "code",
   "execution_count": 21,
   "metadata": {},
   "outputs": [
    {
     "name": "stdout",
     "output_type": "stream",
     "text": [
      "Не отклоняем нулевую гипотезу >> Данные распределены нормально\n",
      "Не отклоняем нулевую гипотезу >> Данные распределены нормально\n",
      "Не отклоняем нулевую гипотезу >> Данные распределены нормально\n"
     ]
    }
   ],
   "source": [
    "check_normality(only_breast)\n",
    "check_normality(only_formula)\n",
    "check_normality(both)"
   ]
  },
  {
   "cell_type": "markdown",
   "metadata": {},
   "source": [
    "2. Проверим выборки на равенства дисперсий:"
   ]
  },
  {
   "cell_type": "code",
   "execution_count": 23,
   "metadata": {},
   "outputs": [
    {
     "name": "stdout",
     "output_type": "stream",
     "text": [
      "Дисперсии всех выборок примерно одинаковы\n"
     ]
    }
   ],
   "source": [
    "stat, p = stats.levene(only_breast, only_formula, both)\n",
    "if p < 0.05:\n",
    "    print('Дисперсии хотя бы двух выборок отличаются значительно')\n",
    "else:\n",
    "    print('Дисперсии всех выборок примерно одинаковы')"
   ]
  },
  {
   "cell_type": "markdown",
   "metadata": {},
   "source": [
    "Т.к. данные в выборках распределены нормально и диспрерсии примерно одинаковы, то можно применить тест ANOVA для сравнения среднего прироста веса."
   ]
  },
  {
   "cell_type": "code",
   "execution_count": 129,
   "metadata": {},
   "outputs": [
    {
     "data": {
      "text/html": [
       "<div>\n",
       "<style scoped>\n",
       "    .dataframe tbody tr th:only-of-type {\n",
       "        vertical-align: middle;\n",
       "    }\n",
       "\n",
       "    .dataframe tbody tr th {\n",
       "        vertical-align: top;\n",
       "    }\n",
       "\n",
       "    .dataframe thead th {\n",
       "        text-align: right;\n",
       "    }\n",
       "</style>\n",
       "<table border=\"1\" class=\"dataframe\">\n",
       "  <thead>\n",
       "    <tr style=\"text-align: right;\">\n",
       "      <th></th>\n",
       "      <th>Ordinal_pos</th>\n",
       "      <th>Feeding_Type</th>\n",
       "      <th>Weight</th>\n",
       "    </tr>\n",
       "  </thead>\n",
       "  <tbody>\n",
       "    <tr>\n",
       "      <th>0</th>\n",
       "      <td>0</td>\n",
       "      <td>only_breast</td>\n",
       "      <td>794.1</td>\n",
       "    </tr>\n",
       "    <tr>\n",
       "      <th>1</th>\n",
       "      <td>1</td>\n",
       "      <td>only_breast</td>\n",
       "      <td>716.9</td>\n",
       "    </tr>\n",
       "    <tr>\n",
       "      <th>2</th>\n",
       "      <td>2</td>\n",
       "      <td>only_breast</td>\n",
       "      <td>993.0</td>\n",
       "    </tr>\n",
       "    <tr>\n",
       "      <th>3</th>\n",
       "      <td>3</td>\n",
       "      <td>only_breast</td>\n",
       "      <td>724.7</td>\n",
       "    </tr>\n",
       "    <tr>\n",
       "      <th>4</th>\n",
       "      <td>4</td>\n",
       "      <td>only_breast</td>\n",
       "      <td>760.9</td>\n",
       "    </tr>\n",
       "  </tbody>\n",
       "</table>\n",
       "</div>"
      ],
      "text/plain": [
       "   Ordinal_pos Feeding_Type  Weight\n",
       "0            0  only_breast   794.1\n",
       "1            1  only_breast   716.9\n",
       "2            2  only_breast   993.0\n",
       "3            3  only_breast   724.7\n",
       "4            4  only_breast   760.9"
      ]
     },
     "execution_count": 129,
     "metadata": {},
     "output_type": "execute_result"
    }
   ],
   "source": [
    "df = pd.DataFrame([only_breast, only_formula, both], index = ['only_breast', 'only_formula', 'both']).T\n",
    "df_melt = pd.melt(df.reset_index(), id_vars = ['index'], value_vars = ['only_breast', 'only_formula', 'both']).dropna()\n",
    "df_melt.columns = ['Ordinal_pos', 'Feeding_Type', 'Weight']\n",
    "df_melt.head()"
   ]
  },
  {
   "cell_type": "code",
   "execution_count": 131,
   "metadata": {},
   "outputs": [
    {
     "data": {
      "text/plain": [
       "[]"
      ]
     },
     "execution_count": 131,
     "metadata": {},
     "output_type": "execute_result"
    },
    {
     "data": {
      "image/png": "[encoded data removed]",
      "text/plain": [
       "<Figure size 640x480 with 1 Axes>"
      ]
     },
     "metadata": {},
     "output_type": "display_data"
    }
   ],
   "source": [
    "sns.boxplot(data = df_melt, x = 'Feeding_Type', y = 'Weight')\n",
    "plt.plot()"
   ]
  },
  {
   "cell_type": "markdown",
   "metadata": {},
   "source": [
    "Из графиков видно, что средние значения отличаются в зависимости от типов кормления."
   ]
  },
  {
   "cell_type": "code",
   "execution_count": 133,
   "metadata": {},
   "outputs": [],
   "source": [
    "import statsmodels.api as sm\n",
    "from statsmodels.formula.api import ols"
   ]
  },
  {
   "cell_type": "code",
   "execution_count": 135,
   "metadata": {},
   "outputs": [
    {
     "name": "stdout",
     "output_type": "stream",
     "text": [
      "                        sum_sq    df          F        PR(>F)\n",
      "C(Feeding_Type)  429013.775232   2.0  26.701252  7.186236e-09\n",
      "Residual         449880.993243  56.0        NaN           NaN\n"
     ]
    }
   ],
   "source": [
    "model = ols(formula = 'Weight ~ C(Feeding_Type)', data = df_melt).fit()\n",
    "aov_table = sm.stats.anova_lm(model, typ = 2)\n",
    "print(aov_table)"
   ]
  },
  {
   "cell_type": "markdown",
   "metadata": {},
   "source": [
    "Т.к. <i>p_value</i> значимо и очень мало (меньше 0.05), можно сделать вывод, что способ кормления влияет на вес и средний вес различается между группами."
   ]
  },
  {
   "cell_type": "markdown",
   "metadata": {},
   "source": [
    "С помощью теста Тьюки выясним, между какими группами существуют различия в среднем весе:"
   ]
  },
  {
   "cell_type": "code",
   "execution_count": 153,
   "metadata": {},
   "outputs": [],
   "source": [
    "import statsmodels.stats.multicomp as multi"
   ]
  },
  {
   "cell_type": "code",
   "execution_count": 163,
   "metadata": {},
   "outputs": [
    {
     "name": "stdout",
     "output_type": "stream",
     "text": [
      "       Multiple Comparison of Means - Tukey HSD, FWER=0.05        \n",
      "==================================================================\n",
      "   group1      group2    meandiff p-adj    lower    upper   reject\n",
      "------------------------------------------------------------------\n",
      "       both  only_breast -60.1286 0.0995 -129.1485   8.8912  False\n",
      "       both only_formula 149.2636    0.0   82.3651 216.1621   True\n",
      "only_breast only_formula 209.3923    0.0  137.3508 281.4337   True\n",
      "------------------------------------------------------------------\n"
     ]
    }
   ],
   "source": [
    "variables = df_melt['Weight'].to_list()\n",
    "groups = df_melt['Feeding_Type'].to_list()\n",
    "results = multi.pairwise_tukeyhsd(endog = variables, groups = groups, alpha = 0.05)\n",
    "print(results)"
   ]
  },
  {
   "cell_type": "markdown",
   "metadata": {},
   "source": [
    "<tr>Из результата видно, что разница в весе наблюдается между следующими группами:\n",
    "<li>между вскармливаемыми смесью и находящимися на смешанном вскармливании;</li>\n",
    "<li>между вскармливаемыми смесью и на грудном вскармливании;</li>\n",
    "</tr>\n",
    "Между группами детей, которые вскармливались грудью и находящимися на смешанном вскармливании разницы в среднем весе не было выявлено."
   ]
  },
  {
   "cell_type": "markdown",
   "metadata": {
    "id": "O0LhesbhGZwH"
   },
   "source": [
    "<div class=\"alert alert-info\">\n",
    "<b>Задание № 5 (Опционально) </b>\n",
    "\n",
    "Аналитик финансовой инвестиционной компании интересуется взаимосвязью между полом и склонностью к риску. Из базы данных была взята случайная выборка из 660 клиентов. Клиенты в выборке были классифицированы в соответствии с их полом и склонностью к риску. Результат приведен в следующей таблице.\n",
    "    \n",
    "Проверьте гипотезу о том, что склонность к риску клиентов этой компании не зависит от их пола. Используйте α = 0.01.    \n",
    "</div>"
   ]
  },
  {
   "cell_type": "code",
   "execution_count": 29,
   "metadata": {
    "id": "UP998NjNGZwI",
    "outputId": "594d4e97-97c7-4475-f572-6dcd187effec"
   },
   "outputs": [
    {
     "name": "stdout",
     "output_type": "stream",
     "text": [
      "Уровень риска\n",
      "    0   1   2   3    4\n",
      "Ж  53  23  30  36   88\n",
      "М  71  48  51  57  203\n"
     ]
    }
   ],
   "source": [
    "contingency_table = pd.DataFrame(\n",
    "    [\n",
    "        [53, 23, 30, 36, 88],\n",
    "        [71, 48, 51, 57, 203]\n",
    "    ],\n",
    "    #columns = ['Machine Learning', 'Data Science', 'Analytics'],\n",
    "    index = ['Ж', 'М'])\n",
    "\n",
    "print('Уровень риска')\n",
    "print(contingency_table)"
   ]
  },
  {
   "cell_type": "code",
   "execution_count": 30,
   "metadata": {},
   "outputs": [
    {
     "name": "stdout",
     "output_type": "stream",
     "text": [
      "Принимаем нулевую гипотезу >> Показатели риска не зависят от пола\n"
     ]
    }
   ],
   "source": [
    "stat, p, dof, exp = stats.chi2_contingency(contingency_table.values)\n",
    "if p < 0.01:\n",
    "    print('Отклоняем нулевую гипотезу >> Показатели риска зависят от пола')\n",
    "else:\n",
    "    print('Принимаем нулевую гипотезу >> Показатели риска не зависят от пола')"
   ]
  },
  {
   "cell_type": "markdown",
   "metadata": {
    "id": "nImsQh5LGZwM"
   },
   "source": [
    "<div class=\"alert alert-info\">\n",
    "<b>Задание № 6 (Опционально)</b>\n",
    "\n",
    "Компания электронной коммерции регулярно размещает рекламу своих кампаний на YouTube, Instagram и Facebook. Однако новому менеджеру было любопытно, есть ли разница между количеством клиентов, привлеченных этими платформами. Поэтому она начала использовать Adjust — приложение, позволяющее узнать, откуда приходят ваши пользователи. Ежедневные цифры, сообщаемые Adjust для каждой платформы, приведены ниже.\n",
    "    \n",
    "В соответствии с этой информацией проведите проверку гипотез, чтобы проверить, есть ли разница между средним числом привлеченных клиентов на этих трех платформах с использованием уровня значимости 0,05. Если есть значительная разница, выполните дальнейший анализ, чтобы найти причину разницы. Прежде чем приступать к проверке гипотез, проверьте соответствующие предположения.\n",
    "</div>"
   ]
  },
  {
   "cell_type": "code",
   "execution_count": 32,
   "metadata": {
    "id": "Hrhaf-J0GZwN"
   },
   "outputs": [],
   "source": [
    "youtube=[1913, 1879, 1939, 2146, 2040, 2127, 2122, 2156, 2036, 1974, 1956, 2146, 2151, 1943, 2125]\n",
    "instagram = [2305., 2355., 2203., 2231., 2185., 2420., 2386., 2410., 2340., 2349., 2241., 2396., 2244., 2267., 2281.]\n",
    "facebook = [2133., 2522., 2124., 2551., 2293., 2367., 2460., 2311., 2178., 2113., 2048., 2443., 2265., 2095., 2528.]"
   ]
  },
  {
   "cell_type": "markdown",
   "metadata": {},
   "source": [
    "1. Проверим, существуют ли между группами статистически значимые различия:"
   ]
  },
  {
   "cell_type": "code",
   "execution_count": 185,
   "metadata": {},
   "outputs": [
    {
     "name": "stdout",
     "output_type": "stream",
     "text": [
      "Между группами существуют статистически значимые различия\n"
     ]
    }
   ],
   "source": [
    "h_statistic, p = stats.kruskal(youtube, instagram, facebook)\n",
    "if p < 0.05:\n",
    "    print('Между группами существуют статистически значимые различия')\n",
    "else:\n",
    "    print('Между группами отсутствуют статистически значимые различия')"
   ]
  },
  {
   "cell_type": "markdown",
   "metadata": {},
   "source": [
    "2. Выясним, между какими конкретно группами могут быть различия:"
   ]
  },
  {
   "cell_type": "code",
   "execution_count": 196,
   "metadata": {},
   "outputs": [],
   "source": [
    "import scikit_posthocs as sp"
   ]
  },
  {
   "cell_type": "code",
   "execution_count": 206,
   "metadata": {},
   "outputs": [
    {
     "data": {
      "text/html": [
       "<div>\n",
       "<style scoped>\n",
       "    .dataframe tbody tr th:only-of-type {\n",
       "        vertical-align: middle;\n",
       "    }\n",
       "\n",
       "    .dataframe tbody tr th {\n",
       "        vertical-align: top;\n",
       "    }\n",
       "\n",
       "    .dataframe thead th {\n",
       "        text-align: right;\n",
       "    }\n",
       "</style>\n",
       "<table border=\"1\" class=\"dataframe\">\n",
       "  <thead>\n",
       "    <tr style=\"text-align: right;\">\n",
       "      <th></th>\n",
       "      <th>1</th>\n",
       "      <th>2</th>\n",
       "      <th>3</th>\n",
       "    </tr>\n",
       "  </thead>\n",
       "  <tbody>\n",
       "    <tr>\n",
       "      <th>1</th>\n",
       "      <td>1.000000</td>\n",
       "      <td>0.000041</td>\n",
       "      <td>0.000553</td>\n",
       "    </tr>\n",
       "    <tr>\n",
       "      <th>2</th>\n",
       "      <td>0.000041</td>\n",
       "      <td>1.000000</td>\n",
       "      <td>1.000000</td>\n",
       "    </tr>\n",
       "    <tr>\n",
       "      <th>3</th>\n",
       "      <td>0.000553</td>\n",
       "      <td>1.000000</td>\n",
       "      <td>1.000000</td>\n",
       "    </tr>\n",
       "  </tbody>\n",
       "</table>\n",
       "</div>"
      ],
      "text/plain": [
       "          1         2         3\n",
       "1  1.000000  0.000041  0.000553\n",
       "2  0.000041  1.000000  1.000000\n",
       "3  0.000553  1.000000  1.000000"
      ]
     },
     "execution_count": 206,
     "metadata": {},
     "output_type": "execute_result"
    }
   ],
   "source": [
    "data = [youtube, instagram, facebook]\n",
    "sp.posthoc_dunn(a = data, p_adjust = 'bonferroni')"
   ]
  },
  {
   "cell_type": "markdown",
   "metadata": {},
   "source": [
    "Из матрицы <i>p_values</i> видно, что разница есть между 1 и 2 группами и между 1 и 3 группами.<br/>\n",
    "Т.е. междн youtube и instagram, youtube и facebook есть статистически значимия разница между средним числом привлеченных клиентов. От привлеченных через youtube клиентов зависит число клиентов, привлеченных через instagram и facebook.<br/>\n",
    "Количество клиентов, привлеченных через instagram никак не влияет на привлечение через facebook."
   ]
  }
 ],
 "metadata": {
  "colab": {
   "provenance": []
  },
  "kernelspec": {
   "display_name": "Python 3 (ipykernel)",
   "language": "python",
   "name": "python3"
  },
  "language_info": {
   "codemirror_mode": {
    "name": "ipython",
    "version": 3
   },
   "file_extension": ".py",
   "mimetype": "text/x-python",
   "name": "python",
   "nbconvert_exporter": "python",
   "pygments_lexer": "ipython3",
   "version": "3.11.7"
  },
  "toc": {
   "base_numbering": 1,
   "nav_menu": {},
   "number_sections": true,
   "sideBar": true,
   "skip_h1_title": false,
   "title_cell": "Table of Contents",
   "title_sidebar": "Contents",
   "toc_cell": false,
   "toc_position": {},
   "toc_section_display": true,
   "toc_window_display": false
  }
 },
 "nbformat": 4,
 "nbformat_minor": 4
}
