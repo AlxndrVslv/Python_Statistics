{
 "cells": [
  {
   "cell_type": "code",
   "execution_count": 5,
   "id": "ff86720c-46d9-4109-acc5-3593706bbfdf",
   "metadata": {},
   "outputs": [
    {
     "data": {
      "text/html": [
       "<div>\n",
       "<style scoped>\n",
       "    .dataframe tbody tr th:only-of-type {\n",
       "        vertical-align: middle;\n",
       "    }\n",
       "\n",
       "    .dataframe tbody tr th {\n",
       "        vertical-align: top;\n",
       "    }\n",
       "\n",
       "    .dataframe thead th {\n",
       "        text-align: right;\n",
       "    }\n",
       "</style>\n",
       "<table border=\"1\" class=\"dataframe\">\n",
       "  <thead>\n",
       "    <tr style=\"text-align: right;\">\n",
       "      <th></th>\n",
       "      <th>Year</th>\n",
       "      <th>Month</th>\n",
       "      <th>Temperature</th>\n",
       "      <th>Sum</th>\n",
       "    </tr>\n",
       "  </thead>\n",
       "  <tbody>\n",
       "    <tr>\n",
       "      <th>0</th>\n",
       "      <td>2000</td>\n",
       "      <td>1</td>\n",
       "      <td>-1.20</td>\n",
       "      <td>1717175</td>\n",
       "    </tr>\n",
       "    <tr>\n",
       "      <th>1</th>\n",
       "      <td>2000</td>\n",
       "      <td>2</td>\n",
       "      <td>-0.99</td>\n",
       "      <td>1766341</td>\n",
       "    </tr>\n",
       "    <tr>\n",
       "      <th>2</th>\n",
       "      <td>2000</td>\n",
       "      <td>3</td>\n",
       "      <td>6.64</td>\n",
       "      <td>1490537</td>\n",
       "    </tr>\n",
       "    <tr>\n",
       "      <th>3</th>\n",
       "      <td>2000</td>\n",
       "      <td>4</td>\n",
       "      <td>12.11</td>\n",
       "      <td>1096964</td>\n",
       "    </tr>\n",
       "    <tr>\n",
       "      <th>4</th>\n",
       "      <td>2000</td>\n",
       "      <td>5</td>\n",
       "      <td>17.59</td>\n",
       "      <td>790248</td>\n",
       "    </tr>\n",
       "  </tbody>\n",
       "</table>\n",
       "</div>"
      ],
      "text/plain": [
       "   Year  Month  Temperature      Sum\n",
       "0  2000      1        -1.20  1717175\n",
       "1  2000      2        -0.99  1766341\n",
       "2  2000      3         6.64  1490537\n",
       "3  2000      4        12.11  1096964\n",
       "4  2000      5        17.59   790248"
      ]
     },
     "execution_count": 5,
     "metadata": {},
     "output_type": "execute_result"
    }
   ],
   "source": [
    "import pandas as pd\n",
    "\n",
    "df = pd.read_csv('gas_sales_2.csv')\n",
    "df.head()"
   ]
  },
  {
   "cell_type": "code",
   "execution_count": 81,
   "id": "1fc3dffb-c3ea-4abb-a1fd-158698ad3060",
   "metadata": {},
   "outputs": [
    {
     "name": "stdout",
     "output_type": "stream",
     "text": [
      "-0.857653370884551\n",
      "-0.8400290050597393\n",
      "Тип зависимости — отрицательная;\n",
      "Высокая зависимость\n"
     ]
    }
   ],
   "source": [
    "\n",
    "#коэф. корреляции Пирсона:\n",
    "p_coef = df[['Temperature', 'Sum']].corr(method = 'pearson').loc['Temperature', 'Sum']\n",
    "    \n",
    "#коэф. корреляции Спирмана:\n",
    "s_coef = df[['Temperature', 'Sum']].corr(method = 'spearman').loc['Temperature', 'Sum']\n",
    "\n",
    "print(p_coef)\n",
    "print(s_coef)\n",
    "\n",
    "#определение типа зависимости:\n",
    "if p_coef > 0:\n",
    "    print('Тип зависимости — положительная;')\n",
    "elif p_coef < 0:\n",
    "    print('Тип зависимости — отрицательная;')\n",
    "else:\n",
    "    print('Зависимость не обнаружена.')\n",
    "\n",
    "#определение силы связи\n",
    "if 0 <= abs(p_coef) < 0.3:\n",
    "    print('Очень слабая зависимость')\n",
    "elif 0.3 <= abs(p_coef) < 0.5:\n",
    "    print('Слабая зависимость')\n",
    "elif 0.5 <= abs(p_coef) < 0.7:\n",
    "    print('Средняя зависимость')\n",
    "elif 0.7 <= abs(p_coef) < 0.9:\n",
    "    print('Высокая зависимость')\n",
    "elif abs(p_coef) >= 0.9:\n",
    "    print('Очень высокая зависимость')"
   ]
  }
 ],
 "metadata": {
  "kernelspec": {
   "display_name": "Python 3 (ipykernel)",
   "language": "python",
   "name": "python3"
  },
  "language_info": {
   "codemirror_mode": {
    "name": "ipython",
    "version": 3
   },
   "file_extension": ".py",
   "mimetype": "text/x-python",
   "name": "python",
   "nbconvert_exporter": "python",
   "pygments_lexer": "ipython3",
   "version": "3.11.7"
  }
 },
 "nbformat": 4,
 "nbformat_minor": 5
}
