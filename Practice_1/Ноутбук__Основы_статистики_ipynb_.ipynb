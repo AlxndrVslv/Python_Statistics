{
 "cells": [
  {
   "cell_type": "code",
   "execution_count": 271,
   "metadata": {
    "id": "GjFveC25OTRN"
   },
   "outputs": [
    {
     "ename": "ImportError",
     "evalue": "\n`load_boston` has been removed from scikit-learn since version 1.2.\n\nThe Boston housing prices dataset has an ethical problem: as\ninvestigated in [1], the authors of this dataset engineered a\nnon-invertible variable \"B\" assuming that racial self-segregation had a\npositive impact on house prices [2]. Furthermore the goal of the\nresearch that led to the creation of this dataset was to study the\nimpact of air quality but it did not give adequate demonstration of the\nvalidity of this assumption.\n\nThe scikit-learn maintainers therefore strongly discourage the use of\nthis dataset unless the purpose of the code is to study and educate\nabout ethical issues in data science and machine learning.\n\nIn this special case, you can fetch the dataset from the original\nsource::\n\n    import pandas as pd\n    import numpy as np\n\n    data_url = \"http://lib.stat.cmu.edu/datasets/boston\"\n    raw_df = pd.read_csv(data_url, sep=\"\\s+\", skiprows=22, header=None)\n    data = np.hstack([raw_df.values[::2, :], raw_df.values[1::2, :2]])\n    target = raw_df.values[1::2, 2]\n\nAlternative datasets include the California housing dataset and the\nAmes housing dataset. You can load the datasets as follows::\n\n    from sklearn.datasets import fetch_california_housing\n    housing = fetch_california_housing()\n\nfor the California housing dataset and::\n\n    from sklearn.datasets import fetch_openml\n    housing = fetch_openml(name=\"house_prices\", as_frame=True)\n\nfor the Ames housing dataset.\n\n[1] M Carlisle.\n\"Racist data destruction?\"\n<https://medium.com/@docintangible/racist-data-destruction-113e3eff54a8>\n\n[2] Harrison Jr, David, and Daniel L. Rubinfeld.\n\"Hedonic housing prices and the demand for clean air.\"\nJournal of environmental economics and management 5.1 (1978): 81-102.\n<https://www.researchgate.net/publication/4974606_Hedonic_housing_prices_and_the_demand_for_clean_air>\n",
     "output_type": "error",
     "traceback": [
      "\u001b[1;31m---------------------------------------------------------------------------\u001b[0m",
      "\u001b[1;31mImportError\u001b[0m                               Traceback (most recent call last)",
      "Cell \u001b[1;32mIn[271], line 5\u001b[0m\n\u001b[0;32m      2\u001b[0m \u001b[38;5;28;01mimport\u001b[39;00m \u001b[38;5;21;01mnumpy\u001b[39;00m \u001b[38;5;28;01mas\u001b[39;00m \u001b[38;5;21;01mnp\u001b[39;00m\n\u001b[0;32m      4\u001b[0m \u001b[38;5;28;01mfrom\u001b[39;00m \u001b[38;5;21;01msklearn\u001b[39;00m\u001b[38;5;21;01m.\u001b[39;00m\u001b[38;5;21;01mdatasets\u001b[39;00m \u001b[38;5;28;01mimport\u001b[39;00m load_wine\n\u001b[1;32m----> 5\u001b[0m \u001b[38;5;28;01mfrom\u001b[39;00m \u001b[38;5;21;01msklearn\u001b[39;00m\u001b[38;5;21;01m.\u001b[39;00m\u001b[38;5;21;01mdatasets\u001b[39;00m \u001b[38;5;28;01mimport\u001b[39;00m load_boston\n",
      "File \u001b[1;32m~\\anaconda3\\Lib\\site-packages\\sklearn\\datasets\\__init__.py:156\u001b[0m, in \u001b[0;36m__getattr__\u001b[1;34m(name)\u001b[0m\n\u001b[0;32m    105\u001b[0m \u001b[38;5;28;01mif\u001b[39;00m name \u001b[38;5;241m==\u001b[39m \u001b[38;5;124m\"\u001b[39m\u001b[38;5;124mload_boston\u001b[39m\u001b[38;5;124m\"\u001b[39m:\n\u001b[0;32m    106\u001b[0m     msg \u001b[38;5;241m=\u001b[39m textwrap\u001b[38;5;241m.\u001b[39mdedent(\n\u001b[0;32m    107\u001b[0m \u001b[38;5;250m        \u001b[39m\u001b[38;5;124;03m\"\"\"\u001b[39;00m\n\u001b[0;32m    108\u001b[0m \u001b[38;5;124;03m        `load_boston` has been removed from scikit-learn since version 1.2.\u001b[39;00m\n\u001b[1;32m   (...)\u001b[0m\n\u001b[0;32m    154\u001b[0m \u001b[38;5;124;03m        \"\"\"\u001b[39;00m\n\u001b[0;32m    155\u001b[0m     )\n\u001b[1;32m--> 156\u001b[0m     \u001b[38;5;28;01mraise\u001b[39;00m \u001b[38;5;167;01mImportError\u001b[39;00m(msg)\n\u001b[0;32m    157\u001b[0m \u001b[38;5;28;01mtry\u001b[39;00m:\n\u001b[0;32m    158\u001b[0m     \u001b[38;5;28;01mreturn\u001b[39;00m \u001b[38;5;28mglobals\u001b[39m()[name]\n",
      "\u001b[1;31mImportError\u001b[0m: \n`load_boston` has been removed from scikit-learn since version 1.2.\n\nThe Boston housing prices dataset has an ethical problem: as\ninvestigated in [1], the authors of this dataset engineered a\nnon-invertible variable \"B\" assuming that racial self-segregation had a\npositive impact on house prices [2]. Furthermore the goal of the\nresearch that led to the creation of this dataset was to study the\nimpact of air quality but it did not give adequate demonstration of the\nvalidity of this assumption.\n\nThe scikit-learn maintainers therefore strongly discourage the use of\nthis dataset unless the purpose of the code is to study and educate\nabout ethical issues in data science and machine learning.\n\nIn this special case, you can fetch the dataset from the original\nsource::\n\n    import pandas as pd\n    import numpy as np\n\n    data_url = \"http://lib.stat.cmu.edu/datasets/boston\"\n    raw_df = pd.read_csv(data_url, sep=\"\\s+\", skiprows=22, header=None)\n    data = np.hstack([raw_df.values[::2, :], raw_df.values[1::2, :2]])\n    target = raw_df.values[1::2, 2]\n\nAlternative datasets include the California housing dataset and the\nAmes housing dataset. You can load the datasets as follows::\n\n    from sklearn.datasets import fetch_california_housing\n    housing = fetch_california_housing()\n\nfor the California housing dataset and::\n\n    from sklearn.datasets import fetch_openml\n    housing = fetch_openml(name=\"house_prices\", as_frame=True)\n\nfor the Ames housing dataset.\n\n[1] M Carlisle.\n\"Racist data destruction?\"\n<https://medium.com/@docintangible/racist-data-destruction-113e3eff54a8>\n\n[2] Harrison Jr, David, and Daniel L. Rubinfeld.\n\"Hedonic housing prices and the demand for clean air.\"\nJournal of environmental economics and management 5.1 (1978): 81-102.\n<https://www.researchgate.net/publication/4974606_Hedonic_housing_prices_and_the_demand_for_clean_air>\n"
     ]
    }
   ],
   "source": [
    "import pandas as pd\n",
    "import numpy as np\n",
    "\n",
    "from sklearn.datasets import load_wine\n",
    "from sklearn.datasets import load_boston\n"
   ]
  },
  {
   "cell_type": "code",
   "execution_count": 273,
   "metadata": {
    "colab": {
     "base_uri": "https://localhost:8080/",
     "height": 206
    },
    "id": "oOkcbKleOTRR",
    "outputId": "1918c41d-3a01-4b42-c348-20a8744bb10c"
   },
   "outputs": [
    {
     "data": {
      "text/html": [
       "<div>\n",
       "<style scoped>\n",
       "    .dataframe tbody tr th:only-of-type {\n",
       "        vertical-align: middle;\n",
       "    }\n",
       "\n",
       "    .dataframe tbody tr th {\n",
       "        vertical-align: top;\n",
       "    }\n",
       "\n",
       "    .dataframe thead th {\n",
       "        text-align: right;\n",
       "    }\n",
       "</style>\n",
       "<table border=\"1\" class=\"dataframe\">\n",
       "  <thead>\n",
       "    <tr style=\"text-align: right;\">\n",
       "      <th></th>\n",
       "      <th>Gender</th>\n",
       "      <th>Height</th>\n",
       "      <th>Weight</th>\n",
       "    </tr>\n",
       "  </thead>\n",
       "  <tbody>\n",
       "    <tr>\n",
       "      <th>0</th>\n",
       "      <td>Male</td>\n",
       "      <td>73.847017</td>\n",
       "      <td>241.893563</td>\n",
       "    </tr>\n",
       "    <tr>\n",
       "      <th>1</th>\n",
       "      <td>Male</td>\n",
       "      <td>68.781904</td>\n",
       "      <td>162.310473</td>\n",
       "    </tr>\n",
       "    <tr>\n",
       "      <th>2</th>\n",
       "      <td>Male</td>\n",
       "      <td>74.110105</td>\n",
       "      <td>212.740856</td>\n",
       "    </tr>\n",
       "    <tr>\n",
       "      <th>3</th>\n",
       "      <td>Male</td>\n",
       "      <td>71.730978</td>\n",
       "      <td>220.042470</td>\n",
       "    </tr>\n",
       "    <tr>\n",
       "      <th>4</th>\n",
       "      <td>Male</td>\n",
       "      <td>69.881796</td>\n",
       "      <td>206.349801</td>\n",
       "    </tr>\n",
       "  </tbody>\n",
       "</table>\n",
       "</div>"
      ],
      "text/plain": [
       "  Gender     Height      Weight\n",
       "0   Male  73.847017  241.893563\n",
       "1   Male  68.781904  162.310473\n",
       "2   Male  74.110105  212.740856\n",
       "3   Male  71.730978  220.042470\n",
       "4   Male  69.881796  206.349801"
      ]
     },
     "execution_count": 273,
     "metadata": {},
     "output_type": "execute_result"
    }
   ],
   "source": [
    "df = pd.read_csv('https://raw.githubusercontent.com/obulygin/netology_pyda_files/main/weight-height.csv')\n",
    "\n",
    "# какие типы признаков в нашем датафрейме?\n",
    "df.head()"
   ]
  },
  {
   "cell_type": "code",
   "execution_count": 275,
   "metadata": {
    "colab": {
     "base_uri": "https://localhost:8080/",
     "height": 206
    },
    "id": "EP43KeKhOTRT",
    "outputId": "d3357876-28a2-43ed-db55-44ebf5b7163a"
   },
   "outputs": [
    {
     "data": {
      "text/html": [
       "<div>\n",
       "<style scoped>\n",
       "    .dataframe tbody tr th:only-of-type {\n",
       "        vertical-align: middle;\n",
       "    }\n",
       "\n",
       "    .dataframe tbody tr th {\n",
       "        vertical-align: top;\n",
       "    }\n",
       "\n",
       "    .dataframe thead th {\n",
       "        text-align: right;\n",
       "    }\n",
       "</style>\n",
       "<table border=\"1\" class=\"dataframe\">\n",
       "  <thead>\n",
       "    <tr style=\"text-align: right;\">\n",
       "      <th></th>\n",
       "      <th>Gender</th>\n",
       "      <th>Height</th>\n",
       "      <th>Weight</th>\n",
       "    </tr>\n",
       "  </thead>\n",
       "  <tbody>\n",
       "    <tr>\n",
       "      <th>0</th>\n",
       "      <td>Male</td>\n",
       "      <td>187.571423</td>\n",
       "      <td>108.852103</td>\n",
       "    </tr>\n",
       "    <tr>\n",
       "      <th>1</th>\n",
       "      <td>Male</td>\n",
       "      <td>174.706036</td>\n",
       "      <td>73.039713</td>\n",
       "    </tr>\n",
       "    <tr>\n",
       "      <th>2</th>\n",
       "      <td>Male</td>\n",
       "      <td>188.239668</td>\n",
       "      <td>95.733385</td>\n",
       "    </tr>\n",
       "    <tr>\n",
       "      <th>3</th>\n",
       "      <td>Male</td>\n",
       "      <td>182.196685</td>\n",
       "      <td>99.019112</td>\n",
       "    </tr>\n",
       "    <tr>\n",
       "      <th>4</th>\n",
       "      <td>Male</td>\n",
       "      <td>177.499761</td>\n",
       "      <td>92.857410</td>\n",
       "    </tr>\n",
       "  </tbody>\n",
       "</table>\n",
       "</div>"
      ],
      "text/plain": [
       "  Gender      Height      Weight\n",
       "0   Male  187.571423  108.852103\n",
       "1   Male  174.706036   73.039713\n",
       "2   Male  188.239668   95.733385\n",
       "3   Male  182.196685   99.019112\n",
       "4   Male  177.499761   92.857410"
      ]
     },
     "execution_count": 275,
     "metadata": {},
     "output_type": "execute_result"
    }
   ],
   "source": [
    "# переведем в килограммы и сантиметры\n",
    "df['Height'] = df['Height'] * 2.54\n",
    "df['Weight'] = df['Weight'] * 0.45\n",
    "df.head()"
   ]
  },
  {
   "cell_type": "code",
   "execution_count": 277,
   "metadata": {
    "id": "8FxBIt6d9lMB"
   },
   "outputs": [],
   "source": [
    "# нужный датасет встроен в библиотеку sklearn\n",
    "wine = load_wine()"
   ]
  },
  {
   "cell_type": "code",
   "execution_count": 279,
   "metadata": {
    "colab": {
     "base_uri": "https://localhost:8080/"
    },
    "id": "0rjBFrRZ-uAm",
    "outputId": "71613989-01f6-400d-fccc-28489e1b3bd0"
   },
   "outputs": [
    {
     "name": "stdout",
     "output_type": "stream",
     "text": [
      ".. _wine_dataset:\n",
      "\n",
      "Wine recognition dataset\n",
      "------------------------\n",
      "\n",
      "**Data Set Characteristics:**\n",
      "\n",
      "    :Number of Instances: 178\n",
      "    :Number of Attributes: 13 numeric, predictive attributes and the class\n",
      "    :Attribute Information:\n",
      " \t\t- Alcohol\n",
      " \t\t- Malic acid\n",
      " \t\t- Ash\n",
      "\t\t- Alcalinity of ash  \n",
      " \t\t- Magnesium\n",
      "\t\t- Total phenols\n",
      " \t\t- Flavanoids\n",
      " \t\t- Nonflavanoid phenols\n",
      " \t\t- Proanthocyanins\n",
      "\t\t- Color intensity\n",
      " \t\t- Hue\n",
      " \t\t- OD280/OD315 of diluted wines\n",
      " \t\t- Proline\n",
      "\n",
      "    - class:\n",
      "            - class_0\n",
      "            - class_1\n",
      "            - class_2\n",
      "\t\t\n",
      "    :Summary Statistics:\n",
      "    \n",
      "    ============================= ==== ===== ======= =====\n",
      "                                   Min   Max   Mean     SD\n",
      "    ============================= ==== ===== ======= =====\n",
      "    Alcohol:                      11.0  14.8    13.0   0.8\n",
      "    Malic Acid:                   0.74  5.80    2.34  1.12\n",
      "    Ash:                          1.36  3.23    2.36  0.27\n",
      "    Alcalinity of Ash:            10.6  30.0    19.5   3.3\n",
      "    Magnesium:                    70.0 162.0    99.7  14.3\n",
      "    Total Phenols:                0.98  3.88    2.29  0.63\n",
      "    Flavanoids:                   0.34  5.08    2.03  1.00\n",
      "    Nonflavanoid Phenols:         0.13  0.66    0.36  0.12\n",
      "    Proanthocyanins:              0.41  3.58    1.59  0.57\n",
      "    Colour Intensity:              1.3  13.0     5.1   2.3\n",
      "    Hue:                          0.48  1.71    0.96  0.23\n",
      "    OD280/OD315 of diluted wines: 1.27  4.00    2.61  0.71\n",
      "    Proline:                       278  1680     746   315\n",
      "    ============================= ==== ===== ======= =====\n",
      "\n",
      "    :Missing Attribute Values: None\n",
      "    :Class Distribution: class_0 (59), class_1 (71), class_2 (48)\n",
      "    :Creator: R.A. Fisher\n",
      "    :Donor: Michael Marshall (MARSHALL%PLU@io.arc.nasa.gov)\n",
      "    :Date: July, 1988\n",
      "\n",
      "This is a copy of UCI ML Wine recognition datasets.\n",
      "https://archive.ics.uci.edu/ml/machine-learning-databases/wine/wine.data\n",
      "\n",
      "The data is the results of a chemical analysis of wines grown in the same\n",
      "region in Italy by three different cultivators. There are thirteen different\n",
      "measurements taken for different constituents found in the three types of\n",
      "wine.\n",
      "\n",
      "Original Owners: \n",
      "\n",
      "Forina, M. et al, PARVUS - \n",
      "An Extendible Package for Data Exploration, Classification and Correlation. \n",
      "Institute of Pharmaceutical and Food Analysis and Technologies,\n",
      "Via Brigata Salerno, 16147 Genoa, Italy.\n",
      "\n",
      "Citation:\n",
      "\n",
      "Lichman, M. (2013). UCI Machine Learning Repository\n",
      "[https://archive.ics.uci.edu/ml]. Irvine, CA: University of California,\n",
      "School of Information and Computer Science. \n",
      "\n",
      ".. topic:: References\n",
      "\n",
      "  (1) S. Aeberhard, D. Coomans and O. de Vel, \n",
      "  Comparison of Classifiers in High Dimensional Settings, \n",
      "  Tech. Rep. no. 92-02, (1992), Dept. of Computer Science and Dept. of  \n",
      "  Mathematics and Statistics, James Cook University of North Queensland. \n",
      "  (Also submitted to Technometrics). \n",
      "\n",
      "  The data was used with many others for comparing various \n",
      "  classifiers. The classes are separable, though only RDA \n",
      "  has achieved 100% correct classification. \n",
      "  (RDA : 100%, QDA 99.4%, LDA 98.9%, 1NN 96.1% (z-transformed data)) \n",
      "  (All results using the leave-one-out technique) \n",
      "\n",
      "  (2) S. Aeberhard, D. Coomans and O. de Vel, \n",
      "  \"THE CLASSIFICATION PERFORMANCE OF RDA\" \n",
      "  Tech. Rep. no. 92-01, (1992), Dept. of Computer Science and Dept. of \n",
      "  Mathematics and Statistics, James Cook University of North Queensland. \n",
      "  (Also submitted to Journal of Chemometrics).\n",
      "\n"
     ]
    }
   ],
   "source": [
    "print(wine.DESCR)"
   ]
  },
  {
   "cell_type": "code",
   "execution_count": 281,
   "metadata": {
    "id": "N7nQ0HrZ-yFA"
   },
   "outputs": [],
   "source": [
    "# загружаем данные в датафрейм\n",
    "df2 = pd.DataFrame(wine.data, columns=wine.feature_names)"
   ]
  },
  {
   "cell_type": "code",
   "execution_count": 283,
   "metadata": {
    "colab": {
     "base_uri": "https://localhost:8080/",
     "height": 270
    },
    "id": "Z13bI1ew-yHZ",
    "outputId": "fa96f3d9-95cd-45f3-b6b8-50ec89a53e22"
   },
   "outputs": [
    {
     "data": {
      "text/html": [
       "<div>\n",
       "<style scoped>\n",
       "    .dataframe tbody tr th:only-of-type {\n",
       "        vertical-align: middle;\n",
       "    }\n",
       "\n",
       "    .dataframe tbody tr th {\n",
       "        vertical-align: top;\n",
       "    }\n",
       "\n",
       "    .dataframe thead th {\n",
       "        text-align: right;\n",
       "    }\n",
       "</style>\n",
       "<table border=\"1\" class=\"dataframe\">\n",
       "  <thead>\n",
       "    <tr style=\"text-align: right;\">\n",
       "      <th></th>\n",
       "      <th>alcohol</th>\n",
       "      <th>malic_acid</th>\n",
       "      <th>ash</th>\n",
       "      <th>alcalinity_of_ash</th>\n",
       "      <th>magnesium</th>\n",
       "      <th>total_phenols</th>\n",
       "      <th>flavanoids</th>\n",
       "      <th>nonflavanoid_phenols</th>\n",
       "      <th>proanthocyanins</th>\n",
       "      <th>color_intensity</th>\n",
       "      <th>hue</th>\n",
       "      <th>od280/od315_of_diluted_wines</th>\n",
       "      <th>proline</th>\n",
       "    </tr>\n",
       "  </thead>\n",
       "  <tbody>\n",
       "    <tr>\n",
       "      <th>0</th>\n",
       "      <td>14.23</td>\n",
       "      <td>1.71</td>\n",
       "      <td>2.43</td>\n",
       "      <td>15.6</td>\n",
       "      <td>127.0</td>\n",
       "      <td>2.80</td>\n",
       "      <td>3.06</td>\n",
       "      <td>0.28</td>\n",
       "      <td>2.29</td>\n",
       "      <td>5.64</td>\n",
       "      <td>1.04</td>\n",
       "      <td>3.92</td>\n",
       "      <td>1065.0</td>\n",
       "    </tr>\n",
       "    <tr>\n",
       "      <th>1</th>\n",
       "      <td>13.20</td>\n",
       "      <td>1.78</td>\n",
       "      <td>2.14</td>\n",
       "      <td>11.2</td>\n",
       "      <td>100.0</td>\n",
       "      <td>2.65</td>\n",
       "      <td>2.76</td>\n",
       "      <td>0.26</td>\n",
       "      <td>1.28</td>\n",
       "      <td>4.38</td>\n",
       "      <td>1.05</td>\n",
       "      <td>3.40</td>\n",
       "      <td>1050.0</td>\n",
       "    </tr>\n",
       "    <tr>\n",
       "      <th>2</th>\n",
       "      <td>13.16</td>\n",
       "      <td>2.36</td>\n",
       "      <td>2.67</td>\n",
       "      <td>18.6</td>\n",
       "      <td>101.0</td>\n",
       "      <td>2.80</td>\n",
       "      <td>3.24</td>\n",
       "      <td>0.30</td>\n",
       "      <td>2.81</td>\n",
       "      <td>5.68</td>\n",
       "      <td>1.03</td>\n",
       "      <td>3.17</td>\n",
       "      <td>1185.0</td>\n",
       "    </tr>\n",
       "    <tr>\n",
       "      <th>3</th>\n",
       "      <td>14.37</td>\n",
       "      <td>1.95</td>\n",
       "      <td>2.50</td>\n",
       "      <td>16.8</td>\n",
       "      <td>113.0</td>\n",
       "      <td>3.85</td>\n",
       "      <td>3.49</td>\n",
       "      <td>0.24</td>\n",
       "      <td>2.18</td>\n",
       "      <td>7.80</td>\n",
       "      <td>0.86</td>\n",
       "      <td>3.45</td>\n",
       "      <td>1480.0</td>\n",
       "    </tr>\n",
       "    <tr>\n",
       "      <th>4</th>\n",
       "      <td>13.24</td>\n",
       "      <td>2.59</td>\n",
       "      <td>2.87</td>\n",
       "      <td>21.0</td>\n",
       "      <td>118.0</td>\n",
       "      <td>2.80</td>\n",
       "      <td>2.69</td>\n",
       "      <td>0.39</td>\n",
       "      <td>1.82</td>\n",
       "      <td>4.32</td>\n",
       "      <td>1.04</td>\n",
       "      <td>2.93</td>\n",
       "      <td>735.0</td>\n",
       "    </tr>\n",
       "  </tbody>\n",
       "</table>\n",
       "</div>"
      ],
      "text/plain": [
       "   alcohol  malic_acid   ash  alcalinity_of_ash  magnesium  total_phenols  \\\n",
       "0    14.23        1.71  2.43               15.6      127.0           2.80   \n",
       "1    13.20        1.78  2.14               11.2      100.0           2.65   \n",
       "2    13.16        2.36  2.67               18.6      101.0           2.80   \n",
       "3    14.37        1.95  2.50               16.8      113.0           3.85   \n",
       "4    13.24        2.59  2.87               21.0      118.0           2.80   \n",
       "\n",
       "   flavanoids  nonflavanoid_phenols  proanthocyanins  color_intensity   hue  \\\n",
       "0        3.06                  0.28             2.29             5.64  1.04   \n",
       "1        2.76                  0.26             1.28             4.38  1.05   \n",
       "2        3.24                  0.30             2.81             5.68  1.03   \n",
       "3        3.49                  0.24             2.18             7.80  0.86   \n",
       "4        2.69                  0.39             1.82             4.32  1.04   \n",
       "\n",
       "   od280/od315_of_diluted_wines  proline  \n",
       "0                          3.92   1065.0  \n",
       "1                          3.40   1050.0  \n",
       "2                          3.17   1185.0  \n",
       "3                          3.45   1480.0  \n",
       "4                          2.93    735.0  "
      ]
     },
     "execution_count": 283,
     "metadata": {},
     "output_type": "execute_result"
    }
   ],
   "source": [
    "df2.head()"
   ]
  },
  {
   "cell_type": "code",
   "execution_count": 285,
   "metadata": {
    "colab": {
     "base_uri": "https://localhost:8080/"
    },
    "id": "B_xRNIh8_C0Z",
    "outputId": "532bebb8-079c-4af9-ea08-d3d8c21d6fa5"
   },
   "outputs": [
    {
     "ename": "NameError",
     "evalue": "name 'load_boston' is not defined",
     "output_type": "error",
     "traceback": [
      "\u001b[1;31m---------------------------------------------------------------------------\u001b[0m",
      "\u001b[1;31mNameError\u001b[0m                                 Traceback (most recent call last)",
      "Cell \u001b[1;32mIn[285], line 2\u001b[0m\n\u001b[0;32m      1\u001b[0m \u001b[38;5;66;03m# нужный датасет встроен в библиотеку sklearn\u001b[39;00m\n\u001b[1;32m----> 2\u001b[0m boston \u001b[38;5;241m=\u001b[39m load_boston()\n",
      "\u001b[1;31mNameError\u001b[0m: name 'load_boston' is not defined"
     ]
    }
   ],
   "source": [
    "# нужный датасет встроен в библиотеку sklearn\n",
    "boston = load_boston()"
   ]
  },
  {
   "cell_type": "code",
   "execution_count": 287,
   "metadata": {
    "colab": {
     "base_uri": "https://localhost:8080/"
    },
    "id": "rRbUhqJW_C2t",
    "outputId": "b27f1510-aa64-4dab-f3a2-65dc1a6d3b64"
   },
   "outputs": [
    {
     "ename": "NameError",
     "evalue": "name 'boston' is not defined",
     "output_type": "error",
     "traceback": [
      "\u001b[1;31m---------------------------------------------------------------------------\u001b[0m",
      "\u001b[1;31mNameError\u001b[0m                                 Traceback (most recent call last)",
      "Cell \u001b[1;32mIn[287], line 1\u001b[0m\n\u001b[1;32m----> 1\u001b[0m \u001b[38;5;28mprint\u001b[39m(boston\u001b[38;5;241m.\u001b[39mDESCR)\n",
      "\u001b[1;31mNameError\u001b[0m: name 'boston' is not defined"
     ]
    }
   ],
   "source": [
    "print(boston.DESCR)"
   ]
  },
  {
   "cell_type": "code",
   "execution_count": 289,
   "metadata": {
    "id": "907x_dRD_C5K"
   },
   "outputs": [
    {
     "ename": "NameError",
     "evalue": "name 'boston' is not defined",
     "output_type": "error",
     "traceback": [
      "\u001b[1;31m---------------------------------------------------------------------------\u001b[0m",
      "\u001b[1;31mNameError\u001b[0m                                 Traceback (most recent call last)",
      "Cell \u001b[1;32mIn[289], line 2\u001b[0m\n\u001b[0;32m      1\u001b[0m \u001b[38;5;66;03m# загружаем данные в датафрейм\u001b[39;00m\n\u001b[1;32m----> 2\u001b[0m df3 \u001b[38;5;241m=\u001b[39m pd\u001b[38;5;241m.\u001b[39mDataFrame(boston\u001b[38;5;241m.\u001b[39mdata, columns\u001b[38;5;241m=\u001b[39mboston\u001b[38;5;241m.\u001b[39mfeature_names)\n",
      "\u001b[1;31mNameError\u001b[0m: name 'boston' is not defined"
     ]
    }
   ],
   "source": [
    "# загружаем данные в датафрейм\n",
    "df3 = pd.DataFrame(boston.data, columns=boston.feature_names)"
   ]
  },
  {
   "cell_type": "code",
   "execution_count": null,
   "metadata": {
    "colab": {
     "base_uri": "https://localhost:8080/",
     "height": 206
    },
    "id": "PfzWgEqK_ytd",
    "outputId": "8a46539e-3f10-49b7-cf56-d8bb48a4f8b1"
   },
   "outputs": [],
   "source": [
    "df3.head()"
   ]
  },
  {
   "cell_type": "markdown",
   "metadata": {
    "id": "pRiYnAwVVPYe"
   },
   "source": [
    "## Минимум, максимум и размах"
   ]
  },
  {
   "cell_type": "markdown",
   "metadata": {
    "id": "ojoEEx05AQVk"
   },
   "source": [
    "### Первый датасет"
   ]
  },
  {
   "cell_type": "code",
   "execution_count": null,
   "metadata": {
    "colab": {
     "base_uri": "https://localhost:8080/"
    },
    "id": "eWoVIZvjVSWm",
    "outputId": "aff45a7a-749a-44b6-bb25-3bb64661eaf7"
   },
   "outputs": [],
   "source": [
    "print(max(df['Height']))\n",
    "print(np.max(df['Height']))\n",
    "print(df['Height'].max())"
   ]
  },
  {
   "cell_type": "code",
   "execution_count": null,
   "metadata": {
    "colab": {
     "base_uri": "https://localhost:8080/"
    },
    "id": "ZmBrfqVQEcmj",
    "outputId": "b84fbc9c-e6f3-40db-d734-f343989428ec"
   },
   "outputs": [],
   "source": [
    "print(min(df['Height']))\n",
    "print(np.min(df['Height']))\n",
    "print(df['Height'].min())"
   ]
  },
  {
   "cell_type": "code",
   "execution_count": null,
   "metadata": {
    "colab": {
     "base_uri": "https://localhost:8080/"
    },
    "id": "nttTWkEFEco9",
    "outputId": "1c9c4706-da96-4ce6-85ae-45b2f43e9bd9"
   },
   "outputs": [],
   "source": [
    "print(max(df['Weight']))\n",
    "print(np.max(df['Weight']))\n",
    "print(df['Weight'].max())"
   ]
  },
  {
   "cell_type": "code",
   "execution_count": null,
   "metadata": {
    "colab": {
     "base_uri": "https://localhost:8080/"
    },
    "id": "lWK_QixaOTRV",
    "outputId": "7849e418-8bff-4211-f477-1a9c36744f74"
   },
   "outputs": [],
   "source": [
    "print(min(df['Weight']))\n",
    "print(np.min(df['Weight']))\n",
    "print(df['Weight'].min())"
   ]
  },
  {
   "cell_type": "code",
   "execution_count": null,
   "metadata": {
    "colab": {
     "base_uri": "https://localhost:8080/",
     "height": 81
    },
    "id": "6JmWIZEbOTRV",
    "outputId": "36096f45-727b-4fa2-c729-12da650daa6d"
   },
   "outputs": [],
   "source": [
    "# смотрим на запись, в которой вес - минимальный\n",
    "df[df['Weight'] == df['Weight'].min()]\n"
   ]
  },
  {
   "cell_type": "code",
   "execution_count": null,
   "metadata": {
    "colab": {
     "base_uri": "https://localhost:8080/",
     "height": 81
    },
    "id": "OsvWi8y0Er_N",
    "outputId": "980ff0f2-235a-43f2-e268-8a26a0572148"
   },
   "outputs": [],
   "source": [
    "# смотрим на запись, в которой вес - максимальный\n",
    "df[df['Weight'] == df['Weight'].max()]"
   ]
  },
  {
   "cell_type": "code",
   "execution_count": null,
   "metadata": {
    "colab": {
     "base_uri": "https://localhost:8080/",
     "height": 81
    },
    "id": "UPERWTmIEHXB",
    "outputId": "b211b338-75b7-42fc-fe69-e4cbc9f6c4e3"
   },
   "outputs": [],
   "source": [
    "# смотрим на запись, в которой рост - максимальный\n",
    "df[df['Height'] == df['Height'].max()]\n"
   ]
  },
  {
   "cell_type": "code",
   "execution_count": null,
   "metadata": {
    "colab": {
     "base_uri": "https://localhost:8080/",
     "height": 81
    },
    "id": "Tx6pWyUcEwIl",
    "outputId": "455d63a0-70a1-4b57-8623-6e41b7018d1b"
   },
   "outputs": [],
   "source": [
    "# смотрим на запись, в которой рост - минимальный\n",
    "df[df['Height'] == df['Height'].min()]\n"
   ]
  },
  {
   "cell_type": "code",
   "execution_count": null,
   "metadata": {
    "colab": {
     "base_uri": "https://localhost:8080/"
    },
    "id": "tJ-8XfmBVU7n",
    "outputId": "3ce4f12b-0719-4a91-8728-4b4d52077973"
   },
   "outputs": [],
   "source": [
    "# размах – разница между минимальным и максимальным значением\n",
    "weight_range = df['Weight'].max() - df['Weight'].min()\n",
    "height_range = df['Height'].max() - df['Height'].min()\n",
    "print(height_range)\n",
    "print(weight_range)"
   ]
  },
  {
   "cell_type": "markdown",
   "metadata": {
    "id": "s1x9RUZvAUIi"
   },
   "source": [
    "### Второй датасет с вином"
   ]
  },
  {
   "cell_type": "code",
   "execution_count": null,
   "metadata": {
    "colab": {
     "base_uri": "https://localhost:8080/",
     "height": 270
    },
    "id": "7wggN4pPDq67",
    "outputId": "efe33c41-76b2-4904-fc69-d6e61fa40232"
   },
   "outputs": [],
   "source": [
    "df2.head()"
   ]
  },
  {
   "cell_type": "code",
   "execution_count": null,
   "metadata": {
    "colab": {
     "base_uri": "https://localhost:8080/"
    },
    "id": "QBYTK_YxAYR9",
    "outputId": "cbc047de-13ba-4e1c-c6f2-2842536532e0"
   },
   "outputs": [],
   "source": [
    "print(max(df2['alcohol']))\n",
    "print(np.max(df2['alcohol']))\n",
    "print(df2['alcohol'].max())"
   ]
  },
  {
   "cell_type": "code",
   "execution_count": null,
   "metadata": {
    "colab": {
     "base_uri": "https://localhost:8080/"
    },
    "id": "rPwGk2kZAYR-",
    "outputId": "db64f286-038d-43d8-db70-0a0c49b9d0d7"
   },
   "outputs": [],
   "source": [
    "print(min(df2['alcohol']))\n",
    "print(np.min(df2['alcohol']))\n",
    "print(df2['alcohol'].min())"
   ]
  },
  {
   "cell_type": "code",
   "execution_count": null,
   "metadata": {
    "colab": {
     "base_uri": "https://localhost:8080/"
    },
    "id": "6575O3GEE6AU",
    "outputId": "af9ba838-fa8e-40f8-a1b2-d4b9884b1597"
   },
   "outputs": [],
   "source": [
    "print(max(df2['malic_acid']))\n",
    "print(np.max(df2['malic_acid']))\n",
    "print(df2['malic_acid'].max())"
   ]
  },
  {
   "cell_type": "code",
   "execution_count": null,
   "metadata": {
    "colab": {
     "base_uri": "https://localhost:8080/"
    },
    "id": "r6VppINpE6AV",
    "outputId": "d8618626-369b-470e-a7c1-edd490615aae"
   },
   "outputs": [],
   "source": [
    "print(min(df2['malic_acid']))\n",
    "print(np.min(df2['malic_acid']))\n",
    "print(df2['malic_acid'].min())"
   ]
  },
  {
   "cell_type": "code",
   "execution_count": null,
   "metadata": {
    "colab": {
     "base_uri": "https://localhost:8080/",
     "height": 145
    },
    "id": "hvNPZLQQAYR-",
    "outputId": "03021eb0-425c-4e0a-9ec8-2790b3a07935"
   },
   "outputs": [],
   "source": [
    "#смотрим на запись, где содержание алкоголя минимальное\n",
    "df2[df2['alcohol'] == df2['alcohol'].min()]"
   ]
  },
  {
   "cell_type": "code",
   "execution_count": null,
   "metadata": {
    "colab": {
     "base_uri": "https://localhost:8080/",
     "height": 145
    },
    "id": "1AK97Yv1FIxv",
    "outputId": "89870620-df1d-45ff-b0af-9ba08b161bcd"
   },
   "outputs": [],
   "source": [
    "#смотрим на запись, где содержание алкоголя максимальное\n",
    "df2[df2['alcohol'] == df2['alcohol'].max()]"
   ]
  },
  {
   "cell_type": "code",
   "execution_count": null,
   "metadata": {
    "colab": {
     "base_uri": "https://localhost:8080/"
    },
    "id": "TNSk6yQbAYR-",
    "outputId": "b692d6e6-d0e9-4748-a2c3-f5eb85e087d8"
   },
   "outputs": [],
   "source": [
    "# размах – разница между минимальным и максимальным значением\n",
    "alco_range = df2['alcohol'].max() - df2['alcohol'].min()\n",
    "acid_range = df2['malic_acid'].max() - df2['malic_acid'].min()\n",
    "print(alco_range)\n",
    "print(acid_range)"
   ]
  },
  {
   "cell_type": "markdown",
   "metadata": {
    "id": "tiTJz0sAFQfC"
   },
   "source": [
    "### Третий датасет с недвижимостью"
   ]
  },
  {
   "cell_type": "code",
   "execution_count": null,
   "metadata": {
    "colab": {
     "base_uri": "https://localhost:8080/",
     "height": 206
    },
    "id": "D_plvmaHEP63",
    "outputId": "ee25b37f-3c5d-4ade-cde6-fb592c22fca5"
   },
   "outputs": [],
   "source": [
    "df3.head()"
   ]
  },
  {
   "cell_type": "code",
   "execution_count": null,
   "metadata": {
    "colab": {
     "base_uri": "https://localhost:8080/"
    },
    "id": "YbEySVotFXM0",
    "outputId": "f030aa5d-3234-4821-f2d6-a4d999e4cec0"
   },
   "outputs": [],
   "source": [
    "print(max(df3['CRIM']))\n",
    "print(np.max(df3['CRIM']))\n",
    "print(df3['CRIM'].max())"
   ]
  },
  {
   "cell_type": "code",
   "execution_count": null,
   "metadata": {
    "colab": {
     "base_uri": "https://localhost:8080/"
    },
    "id": "CbEaxocEFXM1",
    "outputId": "b7a80187-c510-4b02-f5f6-9a1ff4325767"
   },
   "outputs": [],
   "source": [
    "print(min(df3['CRIM']))\n",
    "print(np.min(df3['CRIM']))\n",
    "print(df3['CRIM'].min())"
   ]
  },
  {
   "cell_type": "code",
   "execution_count": null,
   "metadata": {
    "colab": {
     "base_uri": "https://localhost:8080/"
    },
    "id": "mZ9gsNoAFXM1",
    "outputId": "b728ea2c-7e71-497f-8cd4-94f1f216f88f"
   },
   "outputs": [],
   "source": [
    "print(max(df3['AGE']))\n",
    "print(np.max(df3['AGE']))\n",
    "print(df3['AGE'].max())"
   ]
  },
  {
   "cell_type": "code",
   "execution_count": null,
   "metadata": {
    "colab": {
     "base_uri": "https://localhost:8080/"
    },
    "id": "_pmN-rGVFXM1",
    "outputId": "c22a02a2-e5b7-4c9f-d8cb-cd9bea2e810e"
   },
   "outputs": [],
   "source": [
    "print(min(df3['AGE']))\n",
    "print(np.min(df3['AGE']))\n",
    "print(df3['AGE'].min())"
   ]
  },
  {
   "cell_type": "code",
   "execution_count": null,
   "metadata": {
    "colab": {
     "base_uri": "https://localhost:8080/",
     "height": 81
    },
    "id": "685xUEAGFXM1",
    "outputId": "3b376b26-312c-4223-b1a8-db72d2370d34"
   },
   "outputs": [],
   "source": [
    "# смотрим на запись, в которой возраст - минимальный\n",
    "df3[df3['AGE'] == df3['AGE'].min()]\n"
   ]
  },
  {
   "cell_type": "code",
   "execution_count": null,
   "metadata": {
    "colab": {
     "base_uri": "https://localhost:8080/",
     "height": 1000
    },
    "id": "87H4RUhlFXM1",
    "outputId": "47838a06-d967-43cd-e131-a5f5f99a36d5"
   },
   "outputs": [],
   "source": [
    "# смотрим на записи, в которой возраст - максимальный\n",
    "df3[df3['AGE'] == df3['AGE'].max()]"
   ]
  },
  {
   "cell_type": "code",
   "execution_count": null,
   "metadata": {
    "colab": {
     "base_uri": "https://localhost:8080/",
     "height": 81
    },
    "id": "c8diVBdbFXM1",
    "outputId": "19ca0b6a-5e67-4744-ebed-cf640fd0b5b7"
   },
   "outputs": [],
   "source": [
    "# смотрим на запись, в которой уровень преступности района - максимальный\n",
    "df3[df3['CRIM'] == df3['CRIM'].max()]\n"
   ]
  },
  {
   "cell_type": "code",
   "execution_count": null,
   "metadata": {
    "colab": {
     "base_uri": "https://localhost:8080/",
     "height": 81
    },
    "id": "1KoOfNgEFXM1",
    "outputId": "f3d2d41a-099e-4c3f-9e3d-51492c8ccd3f"
   },
   "outputs": [],
   "source": [
    "# смотрим на запись, в которой уровень преступности района - минимальный\n",
    "df3[df3['CRIM'] == df3['CRIM'].min()]\n"
   ]
  },
  {
   "cell_type": "code",
   "execution_count": null,
   "metadata": {
    "colab": {
     "base_uri": "https://localhost:8080/"
    },
    "id": "o0kZS7HxFXM2",
    "outputId": "4470496a-4352-4a56-a432-3845dce7e5eb"
   },
   "outputs": [],
   "source": [
    "# размах – разница между минимальным и максимальным значением\n",
    "age_range = df3['AGE'].max() - df3['AGE'].min()\n",
    "crime_range = df3['CRIM'].max() - df3['CRIM'].min()\n",
    "print(age_range)\n",
    "print(crime_range)"
   ]
  },
  {
   "cell_type": "code",
   "execution_count": null,
   "metadata": {
    "id": "M6ZRUhGfFU4H"
   },
   "outputs": [],
   "source": []
  },
  {
   "cell_type": "markdown",
   "metadata": {
    "id": "0OZnatR5OTRX"
   },
   "source": [
    "## Среднеарифметическое"
   ]
  },
  {
   "cell_type": "markdown",
   "metadata": {
    "id": "5VGvnTzAGt2V"
   },
   "source": [
    "### Первый датасет"
   ]
  },
  {
   "cell_type": "code",
   "execution_count": null,
   "metadata": {
    "colab": {
     "base_uri": "https://localhost:8080/"
    },
    "id": "EV2ZFVsrOTRX",
    "outputId": "a6de6c05-f6f4-4512-e4ff-53033dbd5e82"
   },
   "outputs": [],
   "source": [
    "# ручной подсчет\n",
    "sum(df['Weight']) / len(df['Weight'])"
   ]
  },
  {
   "cell_type": "code",
   "execution_count": null,
   "metadata": {
    "colab": {
     "base_uri": "https://localhost:8080/"
    },
    "id": "Gq0gh73GOTRY",
    "outputId": "dae870bc-9b18-4099-c3b1-e014b5e33da0"
   },
   "outputs": [],
   "source": [
    "print(np.mean(df['Weight']))\n",
    "print(df['Weight'].mean())"
   ]
  },
  {
   "cell_type": "markdown",
   "metadata": {
    "id": "lOGPBb8GGyAV"
   },
   "source": [
    "### Второй датасет с вином"
   ]
  },
  {
   "cell_type": "code",
   "execution_count": null,
   "metadata": {
    "colab": {
     "base_uri": "https://localhost:8080/"
    },
    "id": "SYy5XUXwG1tD",
    "outputId": "8cbee5b8-6293-4f60-ac1e-d43ebb5181d8"
   },
   "outputs": [],
   "source": [
    "# ручной подсчет\n",
    "sum(df2['alcohol']) / len(df2['alcohol'])"
   ]
  },
  {
   "cell_type": "code",
   "execution_count": null,
   "metadata": {
    "colab": {
     "base_uri": "https://localhost:8080/"
    },
    "id": "iqeXAJHNG1tE",
    "outputId": "42fb9432-2364-4db5-c42d-80dbc69a401a"
   },
   "outputs": [],
   "source": [
    "print(np.mean(df2['alcohol']))\n",
    "print(df2['alcohol'].mean())"
   ]
  },
  {
   "cell_type": "markdown",
   "metadata": {
    "id": "lyW-_nfIG2Vl"
   },
   "source": [
    "### Третий датасет с недвижимостью"
   ]
  },
  {
   "cell_type": "code",
   "execution_count": null,
   "metadata": {
    "colab": {
     "base_uri": "https://localhost:8080/"
    },
    "id": "NSDS1ngSG5nA",
    "outputId": "9996e33b-3bce-4b86-d2de-2a2170606a05"
   },
   "outputs": [],
   "source": [
    "# ручной подсчет\n",
    "sum(df3['AGE']) / len(df3['AGE'])"
   ]
  },
  {
   "cell_type": "code",
   "execution_count": null,
   "metadata": {
    "colab": {
     "base_uri": "https://localhost:8080/"
    },
    "id": "AM1UC1-TG5nA",
    "outputId": "d95b7848-f6f8-4d7e-92d9-0f0f08650e79"
   },
   "outputs": [],
   "source": [
    "print(np.mean(df3['AGE']))\n",
    "print(df3['AGE'].mean())"
   ]
  },
  {
   "cell_type": "markdown",
   "metadata": {
    "id": "Vcp_Pij5OTRY"
   },
   "source": [
    "## Мода"
   ]
  },
  {
   "cell_type": "code",
   "execution_count": 163,
   "metadata": {
    "colab": {
     "base_uri": "https://localhost:8080/"
    },
    "id": "ypW6zf7jOTRZ",
    "outputId": "d9973eaa-d51d-4270-c33b-bf831bfdec0a",
    "scrolled": true
   },
   "outputs": [
    {
     "name": "stdout",
     "output_type": "stream",
     "text": [
      "Значение моды: 139.0 количество встречаемости: 126\n"
     ]
    }
   ],
   "source": [
    "# Создаём пустой словарь, в котором будем считать количество появлений значений веса\n",
    "weight_counts = {}\n",
    "for w in df['Weight'].round():\n",
    "    if w not in weight_counts:\n",
    "        weight_counts[w] = 1\n",
    "    else:\n",
    "        weight_counts[w] += 1\n",
    "\n",
    "# Проходимся по словарю и ищем максимальное количество повторений\n",
    "# Алгоритм поиска максимума\n",
    "maxw = 0\n",
    "mode_weight = None\n",
    "for k, v in weight_counts.items():\n",
    "    if maxw < v:\n",
    "        maxw = v\n",
    "        mode_weight = k\n",
    "print('Значение моды:', mode_weight, 'количество встречаемости:', maxw)"
   ]
  },
  {
   "cell_type": "code",
   "execution_count": 173,
   "metadata": {
    "colab": {
     "base_uri": "https://localhost:8080/"
    },
    "id": "YF8FcqPTOTRb",
    "outputId": "f1acfeab-d506-4a18-c5ed-c57fc5f677f3"
   },
   "outputs": [
    {
     "name": "stdout",
     "output_type": "stream",
     "text": [
      "Значение моды:  0        64.700127\n",
      "1        68.982530\n",
      "2        71.393749\n",
      "3        72.750145\n",
      "4        77.523774\n",
      "           ...    \n",
      "9995    253.889004\n",
      "9996    254.209073\n",
      "9997    255.690835\n",
      "9998    255.863326\n",
      "9999    269.989699\n",
      "Name: Weight, Length: 10000, dtype: float64\n"
     ]
    }
   ],
   "source": [
    "print('Значение моды: ', df['Weight'].mode())"
   ]
  },
  {
   "cell_type": "code",
   "execution_count": null,
   "metadata": {
    "id": "WJsOQ1IxHgAl"
   },
   "outputs": [],
   "source": []
  },
  {
   "cell_type": "markdown",
   "metadata": {
    "id": "eTvWv8vyHh8Z"
   },
   "source": [
    "### Датасет с вином"
   ]
  },
  {
   "cell_type": "code",
   "execution_count": null,
   "metadata": {
    "id": "tQWloHgHHoKG",
    "scrolled": true
   },
   "outputs": [],
   "source": [
    "# Добавим код, который разработали выше - в функцию. Оставляем все на своих местах, кроме изменяемого аргумента - его выносим во вводимый параметр.\n",
    "\n",
    "def mode_custom(frame_col):\n",
    "  weight_counts = {}\n",
    "  for w in frame_col.round():\n",
    "      if w not in weight_counts:\n",
    "          weight_counts[w] = 1\n",
    "      else:\n",
    "          weight_counts[w] += 1\n",
    "\n",
    "  maxw = 0\n",
    "  mode_weight = None\n",
    "  for k, v in weight_counts.items():\n",
    "      if maxw < v:\n",
    "          maxw = v\n",
    "          mode_weight = k\n",
    "  print('Значение моды:', mode_weight, 'количество встречаемости:', maxw)\n",
    "  return mode_weight, maxw"
   ]
  },
  {
   "cell_type": "code",
   "execution_count": null,
   "metadata": {
    "colab": {
     "base_uri": "https://localhost:8080/"
    },
    "id": "HDCAeOz1IHE-",
    "outputId": "c3b0a7c1-a411-447d-f75b-8b15ce67f1b7"
   },
   "outputs": [],
   "source": [
    "# Проверяем на исходных данных, что все работает так, как и работало\n",
    "mode_custom(df['Weight'])"
   ]
  },
  {
   "cell_type": "code",
   "execution_count": null,
   "metadata": {
    "colab": {
     "base_uri": "https://localhost:8080/"
    },
    "id": "qrH2d4hfIgFG",
    "outputId": "570da762-394a-480f-ba0b-45818c821cdc"
   },
   "outputs": [],
   "source": [
    "# Теперь подставляем данные из датасета с вином\n",
    "mode_custom(df2['alcohol'])"
   ]
  },
  {
   "cell_type": "code",
   "execution_count": null,
   "metadata": {
    "colab": {
     "base_uri": "https://localhost:8080/"
    },
    "id": "EhA9nFuvHoKH",
    "outputId": "b688bc9d-f6b8-4fdf-8aea-3d149c6a6718"
   },
   "outputs": [],
   "source": [
    "print('Значение моды: ', df2['alcohol'].mode()[0])\n",
    "\n",
    "# Заметим, что тут мы уже обращаемся к встроенной в питон функции вычисления моды, а не написанной нами самими по определению моды\n"
   ]
  },
  {
   "cell_type": "markdown",
   "metadata": {
    "id": "TwOKSK04HpR4"
   },
   "source": [
    "### Датасет с недвижимостью"
   ]
  },
  {
   "cell_type": "code",
   "execution_count": null,
   "metadata": {
    "colab": {
     "base_uri": "https://localhost:8080/"
    },
    "id": "1urvmxKiHsQv",
    "outputId": "f0ae960d-8932-4420-b830-7a74561ce4d2"
   },
   "outputs": [],
   "source": [
    "mode_custom(df3['AGE'])"
   ]
  },
  {
   "cell_type": "code",
   "execution_count": null,
   "metadata": {
    "colab": {
     "base_uri": "https://localhost:8080/"
    },
    "id": "0Nx7yTZoHsSu",
    "outputId": "f02bd566-a689-4487-dc3d-8101770c4714"
   },
   "outputs": [],
   "source": [
    "print('Значение моды: ', df3['AGE'].mode()[0])"
   ]
  },
  {
   "cell_type": "code",
   "execution_count": null,
   "metadata": {
    "id": "VwYGI6wBHscb"
   },
   "outputs": [],
   "source": []
  },
  {
   "cell_type": "markdown",
   "metadata": {
    "id": "qWyHSy8xOTRc"
   },
   "source": [
    "## Медиана"
   ]
  },
  {
   "cell_type": "code",
   "execution_count": null,
   "metadata": {
    "colab": {
     "base_uri": "https://localhost:8080/"
    },
    "id": "l4fii1nJOTRc",
    "outputId": "23d125b2-d6c8-4d64-d35d-93bcb0ef0d6d"
   },
   "outputs": [],
   "source": [
    "# ручной подсчет\n",
    "height = df['Height']\n",
    "\n",
    "# Находим  количество значений\n",
    "num_height = len(df['Height'])\n",
    "\n",
    "# Сортируем в порядке возрастания\n",
    "sorted_height = sorted(height)\n",
    "\n",
    "# Ищем индекс среднего элемента\n",
    "# если количество элементов четное, то берем среднее двух элементов в середине\n",
    "middle = (num_height // 2)\n",
    "if num_height % 2 == 0:\n",
    "    result = (sorted_height[middle-1] + sorted_height[middle])/2\n",
    "else:\n",
    "    result = sorted_height[middle]\n",
    "# Находим медиану\n",
    "print('Медиана: ', result)"
   ]
  },
  {
   "cell_type": "code",
   "execution_count": 70,
   "metadata": {
    "colab": {
     "base_uri": "https://localhost:8080/"
    },
    "id": "1YEkytFFOTRd",
    "outputId": "88a563fc-63d2-49ea-df33-accfa0d8e1b1"
   },
   "outputs": [
    {
     "ename": "NameError",
     "evalue": "name 'df' is not defined",
     "output_type": "error",
     "traceback": [
      "\u001b[1;31m---------------------------------------------------------------------------\u001b[0m",
      "\u001b[1;31mNameError\u001b[0m                                 Traceback (most recent call last)",
      "Cell \u001b[1;32mIn[70], line 1\u001b[0m\n\u001b[1;32m----> 1\u001b[0m \u001b[38;5;28mprint\u001b[39m(df[\u001b[38;5;124m'\u001b[39m\u001b[38;5;124mHeight\u001b[39m\u001b[38;5;124m'\u001b[39m]\u001b[38;5;241m.\u001b[39mmedian())\n\u001b[0;32m      2\u001b[0m \u001b[38;5;28mprint\u001b[39m(np\u001b[38;5;241m.\u001b[39mmedian(df[\u001b[38;5;124m'\u001b[39m\u001b[38;5;124mHeight\u001b[39m\u001b[38;5;124m'\u001b[39m]))\n",
      "\u001b[1;31mNameError\u001b[0m: name 'df' is not defined"
     ]
    }
   ],
   "source": [
    "print(df['Height'].median())\n",
    "print(np.median(df['Height']))"
   ]
  },
  {
   "cell_type": "code",
   "execution_count": null,
   "metadata": {
    "id": "HAb-RWZGJQSo"
   },
   "outputs": [],
   "source": [
    "# То же самое, заворачиваем в функцию написанный код\n",
    "\n",
    "def custom_median(frame_col):\n",
    "  # ручной подсчет\n",
    "  height = frame_col\n",
    "\n",
    "  # Находим  количество значений\n",
    "  num_height = len(frame_col)\n",
    "\n",
    "  # Сортируем в порядке возрастания\n",
    "  sorted_height = sorted(height)\n",
    "\n",
    "  # Ищем индекс среднего элемента\n",
    "  # если количество элементов четное, то берем среднее двух элементов в середине\n",
    "  middle = (num_height // 2)\n",
    "  if num_height % 2 == 0:\n",
    "      result = (sorted_height[middle-1] + sorted_height[middle])/2\n",
    "  else:\n",
    "      result = sorted_height[middle]\n",
    "  # Находим медиану\n",
    "  print('Медиана: ', result)\n",
    "  return result"
   ]
  },
  {
   "cell_type": "code",
   "execution_count": null,
   "metadata": {
    "colab": {
     "base_uri": "https://localhost:8080/"
    },
    "id": "pqdDhD-0JQVJ",
    "outputId": "552643be-c62c-41e7-c868-559a81cdb9a6"
   },
   "outputs": [],
   "source": [
    "# Проверяем, что все работает так, как и работало\n",
    "\n",
    "custom_median(df['Height'])"
   ]
  },
  {
   "cell_type": "code",
   "execution_count": null,
   "metadata": {
    "colab": {
     "base_uri": "https://localhost:8080/"
    },
    "id": "SbTXsqjlJQcu",
    "outputId": "b48d78bc-4e93-4ec0-82ec-c6a934563385"
   },
   "outputs": [],
   "source": [
    "# Теперь применяем функцию к датасету с вином\n",
    "\n",
    "custom_median(df2['alcohol'])"
   ]
  },
  {
   "cell_type": "code",
   "execution_count": null,
   "metadata": {
    "colab": {
     "base_uri": "https://localhost:8080/"
    },
    "id": "aAyVoWWIJQfS",
    "outputId": "291d4173-c764-476e-ebb7-fb13fce7eb4b"
   },
   "outputs": [],
   "source": [
    "# Смотрим на медиану по алкоголю на основании встроенной функции\n",
    "\n",
    "print(df2['alcohol'].median())\n",
    "print(np.median(df2['alcohol']))"
   ]
  },
  {
   "cell_type": "code",
   "execution_count": null,
   "metadata": {
    "colab": {
     "base_uri": "https://localhost:8080/"
    },
    "id": "uJLrr8PrJQhb",
    "outputId": "9c185f41-c0fc-49d5-d95a-1c4c5451da68"
   },
   "outputs": [],
   "source": [
    "# Теперь то же самое для возраста недвижимосити\n",
    "\n",
    "custom_median(df3['AGE'])"
   ]
  },
  {
   "cell_type": "code",
   "execution_count": null,
   "metadata": {
    "colab": {
     "base_uri": "https://localhost:8080/"
    },
    "id": "r8v7kH2GKUIK",
    "outputId": "2db71331-baf5-45fd-ebb9-31949d7b1bc1"
   },
   "outputs": [],
   "source": [
    "print(df3['AGE'].median())\n",
    "print(np.median(df3['AGE']))"
   ]
  },
  {
   "cell_type": "code",
   "execution_count": null,
   "metadata": {
    "id": "-4SF01TxKUKX"
   },
   "outputs": [],
   "source": []
  },
  {
   "cell_type": "markdown",
   "metadata": {
    "id": "9Y239gfqVaL-"
   },
   "source": [
    "## СКО"
   ]
  },
  {
   "cell_type": "code",
   "execution_count": null,
   "metadata": {
    "colab": {
     "base_uri": "https://localhost:8080/"
    },
    "id": "J0qTV1YmgBCd",
    "outputId": "5b3e9cc9-0182-414a-db6d-da48b45a7c8d"
   },
   "outputs": [],
   "source": [
    "# ручной подсчет\n",
    "def stdev(nums):\n",
    "    diffs = 0\n",
    "    # считаем среднее значение\n",
    "    avg = sum(nums) / len(nums)\n",
    "    for n in nums:\n",
    "        # считаем сумму квадратичных отклонений\n",
    "        diffs += (n - avg) ** (2)\n",
    "    # считаем корень среднеквадратичного значения\n",
    "    return (diffs / (len(nums) - 1)) ** (0.5)\n",
    "\n",
    "stdev(df['Height'])"
   ]
  },
  {
   "cell_type": "code",
   "execution_count": null,
   "metadata": {
    "colab": {
     "base_uri": "https://localhost:8080/"
    },
    "id": "I08zqKZRNheU",
    "outputId": "7a5c69ec-e3bd-4c5f-9e78-4e5616bbe16c"
   },
   "outputs": [],
   "source": [
    "stdev(df['Weight'])"
   ]
  },
  {
   "cell_type": "code",
   "execution_count": null,
   "metadata": {
    "colab": {
     "base_uri": "https://localhost:8080/"
    },
    "id": "KbJrfmd7faCm",
    "outputId": "5831e344-5b2c-450f-f6a1-0240e815bd11"
   },
   "outputs": [],
   "source": [
    "print('Рост')\n",
    "print(df['Height'].std())\n",
    "print(np.std(df['Height'], ddof=1)) # дельта степеней свободы в numpy по умолчанию 0\n",
    "\n",
    "print('Вес')\n",
    "print(df['Weight'].std())\n",
    "print(np.std(df['Weight'], ddof=1))"
   ]
  },
  {
   "cell_type": "code",
   "execution_count": null,
   "metadata": {
    "colab": {
     "base_uri": "https://localhost:8080/"
    },
    "id": "WqmbkDDaNeda",
    "outputId": "5a4b24ae-16c0-4fac-d75f-1413bd9d7f22"
   },
   "outputs": [],
   "source": [
    "stdev(df2['alcohol'])"
   ]
  },
  {
   "cell_type": "code",
   "execution_count": null,
   "metadata": {
    "colab": {
     "base_uri": "https://localhost:8080/"
    },
    "id": "S52AX7tNNefm",
    "outputId": "608f0d37-dcff-42ff-99c7-60f7c76725a5"
   },
   "outputs": [],
   "source": [
    "print(df2['alcohol'].std())\n",
    "print(np.std(df2['alcohol'], ddof=1))"
   ]
  },
  {
   "cell_type": "code",
   "execution_count": null,
   "metadata": {
    "colab": {
     "base_uri": "https://localhost:8080/"
    },
    "id": "a8E1cXVlNv2Z",
    "outputId": "02052ee4-b4d7-46a7-d544-d846c84e828f"
   },
   "outputs": [],
   "source": [
    "stdev(df3['CRIM'])"
   ]
  },
  {
   "cell_type": "code",
   "execution_count": null,
   "metadata": {
    "colab": {
     "base_uri": "https://localhost:8080/"
    },
    "id": "ohINxu3gNv41",
    "outputId": "6ec7b86a-a14b-41f1-e9af-57d543f9013e"
   },
   "outputs": [],
   "source": [
    "print(df3['CRIM'].std())\n",
    "print(np.std(df3['CRIM'], ddof=1))"
   ]
  },
  {
   "cell_type": "code",
   "execution_count": null,
   "metadata": {
    "id": "R_GuJQUINwNf"
   },
   "outputs": [],
   "source": []
  },
  {
   "cell_type": "code",
   "execution_count": null,
   "metadata": {
    "id": "xE4ba1NlNwPs"
   },
   "outputs": [],
   "source": []
  },
  {
   "cell_type": "markdown",
   "metadata": {
    "id": "6MsGMUEeGLnX"
   },
   "source": [
    "## Дисперсия"
   ]
  },
  {
   "cell_type": "code",
   "execution_count": null,
   "metadata": {
    "colab": {
     "base_uri": "https://localhost:8080/"
    },
    "id": "xgh0WUa9XpKw",
    "outputId": "372ceb1d-6407-48b9-f9fe-39e02d568106",
    "scrolled": true
   },
   "outputs": [],
   "source": [
    "# ручной подсчет\n",
    "def disp(nums):\n",
    "    diffs = 0\n",
    "    # считаем среднее значение\n",
    "    avg = sum(nums)/len(nums)\n",
    "    for n in nums:\n",
    "        # считаем сумму квадратичных отклонений\n",
    "        diffs += (n - avg)**(2)\n",
    "    # считаем среднеквадратичного значения\n",
    "    return diffs/(len(nums)-1)\n",
    "\n",
    "print(disp(df['Height']))\n",
    "print(disp(df['Weight']))"
   ]
  },
  {
   "cell_type": "code",
   "execution_count": null,
   "metadata": {
    "colab": {
     "base_uri": "https://localhost:8080/"
    },
    "id": "addZ1sLdghk5",
    "outputId": "e80a7332-fc2c-4215-c24d-a8f712139083"
   },
   "outputs": [],
   "source": [
    "print('Рост')\n",
    "print(np.var(df['Height'], ddof=1))\n",
    "print(df['Height'].var())\n",
    "\n",
    "print('Вес')\n",
    "print(np.var(df['Weight'], ddof=1))\n",
    "print(df['Weight'].var())"
   ]
  },
  {
   "cell_type": "code",
   "execution_count": null,
   "metadata": {
    "colab": {
     "base_uri": "https://localhost:8080/"
    },
    "id": "Ng1ZiaiIN6Hi",
    "outputId": "d1c9f5c1-927d-4e61-e49a-186a23028567"
   },
   "outputs": [],
   "source": [
    "print(disp(df2['alcohol']))\n",
    "print(disp(df2['malic_acid']))"
   ]
  },
  {
   "cell_type": "code",
   "execution_count": null,
   "metadata": {
    "colab": {
     "base_uri": "https://localhost:8080/"
    },
    "id": "I5ASJKRIN6KH",
    "outputId": "f5175bf5-59a3-44ba-c609-2b106ba350f9"
   },
   "outputs": [],
   "source": [
    "print('Алкоголь')\n",
    "print(np.var(df2['alcohol'], ddof=1))\n",
    "print(df2['alcohol'].var())\n",
    "\n",
    "print('Кислота')\n",
    "print(np.var(df2['malic_acid'], ddof=1))\n",
    "print(df2['malic_acid'].var())"
   ]
  },
  {
   "cell_type": "code",
   "execution_count": null,
   "metadata": {
    "colab": {
     "base_uri": "https://localhost:8080/"
    },
    "id": "duI77vjLN6Md",
    "outputId": "e7d0aac1-9b01-4817-c888-cd40ef1ed0c7"
   },
   "outputs": [],
   "source": [
    "print(disp(df3['CRIM']))\n",
    "print(disp(df3['AGE']))"
   ]
  },
  {
   "cell_type": "code",
   "execution_count": null,
   "metadata": {
    "colab": {
     "base_uri": "https://localhost:8080/"
    },
    "id": "8qcSJNC9OU4r",
    "outputId": "bba85555-ee67-4c04-a975-7043eadb1d45"
   },
   "outputs": [],
   "source": [
    "print('Уровень преступности')\n",
    "print(np.var(df3['CRIM'], ddof=1))\n",
    "print(df3['CRIM'].var())\n",
    "\n",
    "print('Возраст недвижимости')\n",
    "print(np.var(df3['AGE'], ddof=1))\n",
    "print(df3['AGE'].var())"
   ]
  },
  {
   "cell_type": "code",
   "execution_count": null,
   "metadata": {
    "id": "N42KRitOOU7H"
   },
   "outputs": [],
   "source": []
  },
  {
   "cell_type": "code",
   "execution_count": null,
   "metadata": {
    "id": "J7iIIYOvN6Sz"
   },
   "outputs": [],
   "source": []
  },
  {
   "cell_type": "markdown",
   "metadata": {
    "id": "k5m4DmULOTRf"
   },
   "source": [
    "## Квантили"
   ]
  },
  {
   "cell_type": "markdown",
   "metadata": {
    "id": "1zkcyeSRO1DV"
   },
   "source": [
    "### Первый датасет"
   ]
  },
  {
   "cell_type": "code",
   "execution_count": null,
   "metadata": {
    "colab": {
     "base_uri": "https://localhost:8080/"
    },
    "id": "yy0TiAHmOTRg",
    "outputId": "8826c3c2-c7a1-4429-98b2-01e4e2611793"
   },
   "outputs": [],
   "source": [
    "# это же медиана!\n",
    "df['Height'].quantile()"
   ]
  },
  {
   "cell_type": "code",
   "execution_count": null,
   "metadata": {
    "colab": {
     "base_uri": "https://localhost:8080/"
    },
    "id": "E_DI6UBbOTRg",
    "outputId": "a2b50b36-0804-4b58-a242-6958c75179d9"
   },
   "outputs": [],
   "source": [
    "# первый и третий квартили\n",
    "df['Height'].quantile([0.25, 0.75])"
   ]
  },
  {
   "cell_type": "code",
   "execution_count": null,
   "metadata": {
    "colab": {
     "base_uri": "https://localhost:8080/"
    },
    "id": "qAf3oBa_OTRh",
    "outputId": "dc58364f-6737-4ac5-a74c-faf9a3d3adbb",
    "scrolled": true
   },
   "outputs": [],
   "source": [
    "# произвольный перцентиль\n",
    "df['Height'].quantile(0.33)"
   ]
  },
  {
   "cell_type": "code",
   "execution_count": null,
   "metadata": {
    "colab": {
     "base_uri": "https://localhost:8080/"
    },
    "id": "013263LaOTRh",
    "outputId": "191a0ce6-99a5-42e0-fc40-4ed9dd951553"
   },
   "outputs": [],
   "source": [
    "# межквартильный размах\n",
    "Q1 = df['Height'].quantile(0.25)\n",
    "Q3 = df['Height'].quantile(0.75)\n",
    "IQR = Q3 - Q1\n",
    "IQR"
   ]
  },
  {
   "cell_type": "markdown",
   "metadata": {
    "id": "QEM84MJGO4zV"
   },
   "source": [
    "### Второй датасет"
   ]
  },
  {
   "cell_type": "code",
   "execution_count": null,
   "metadata": {
    "colab": {
     "base_uri": "https://localhost:8080/"
    },
    "id": "uCR8sBFeO9hc",
    "outputId": "004f3435-02cd-4dee-af1e-d574b706101a"
   },
   "outputs": [],
   "source": [
    "# опять медиана\n",
    "df2['alcohol'].quantile()"
   ]
  },
  {
   "cell_type": "code",
   "execution_count": null,
   "metadata": {
    "colab": {
     "base_uri": "https://localhost:8080/"
    },
    "id": "IqoID6ywO9hd",
    "outputId": "174ae973-d6f6-4294-f0a7-a5a378bc6805"
   },
   "outputs": [],
   "source": [
    "# первый и третий квартили\n",
    "df2['alcohol'].quantile([0.25, 0.75])"
   ]
  },
  {
   "cell_type": "code",
   "execution_count": null,
   "metadata": {
    "colab": {
     "base_uri": "https://localhost:8080/"
    },
    "id": "ujHT0rcVO9hd",
    "outputId": "eda80cea-a937-4497-d1fd-7080f51f169d",
    "scrolled": true
   },
   "outputs": [],
   "source": [
    "# произвольный перцентиль\n",
    "df2['alcohol'].quantile(0.42)"
   ]
  },
  {
   "cell_type": "code",
   "execution_count": null,
   "metadata": {
    "colab": {
     "base_uri": "https://localhost:8080/"
    },
    "id": "Kl-O-9GLO9hd",
    "outputId": "bfad5823-7251-4304-ce19-2842925c98dc"
   },
   "outputs": [],
   "source": [
    "# межквартильный размах\n",
    "Q1 = df2['alcohol'].quantile(0.25)\n",
    "Q3 = df2['alcohol'].quantile(0.75)\n",
    "IQR = Q3 - Q1\n",
    "IQR"
   ]
  },
  {
   "cell_type": "markdown",
   "metadata": {
    "id": "axKId4_6O6w7"
   },
   "source": [
    "### Третий датасет"
   ]
  },
  {
   "cell_type": "code",
   "execution_count": null,
   "metadata": {
    "colab": {
     "base_uri": "https://localhost:8080/"
    },
    "id": "VXEO1z5qO_AB",
    "outputId": "c4662743-c76c-442e-d182-262cc7bb5d58"
   },
   "outputs": [],
   "source": [
    "df3['AGE'].quantile()"
   ]
  },
  {
   "cell_type": "code",
   "execution_count": null,
   "metadata": {
    "colab": {
     "base_uri": "https://localhost:8080/"
    },
    "id": "p3k66SoIO_AB",
    "outputId": "07ed1a7f-99a6-4261-f2b2-0f891cd1536d"
   },
   "outputs": [],
   "source": [
    "# первый и третий квартили\n",
    "df3['AGE'].quantile([0.25, 0.75])"
   ]
  },
  {
   "cell_type": "code",
   "execution_count": null,
   "metadata": {
    "colab": {
     "base_uri": "https://localhost:8080/"
    },
    "id": "r-6XcDtTO_AC",
    "outputId": "cb594e40-65d5-48a2-a4dd-c045144086db",
    "scrolled": true
   },
   "outputs": [],
   "source": [
    "# произвольный перцентиль\n",
    "df3['AGE'].quantile(0.80)"
   ]
  },
  {
   "cell_type": "code",
   "execution_count": null,
   "metadata": {
    "colab": {
     "base_uri": "https://localhost:8080/"
    },
    "id": "ZWRx87CuO_AC",
    "outputId": "6ac250f6-6bff-4b62-abde-ce2665871c61"
   },
   "outputs": [],
   "source": [
    "# межквартильный размах\n",
    "Q1 = df3['AGE'].quantile(0.25)\n",
    "Q3 = df3['AGE'].quantile(0.75)\n",
    "IQR = Q3 - Q1\n",
    "IQR"
   ]
  },
  {
   "cell_type": "markdown",
   "metadata": {
    "id": "_uKvDfuwOTRi"
   },
   "source": [
    "## Describe"
   ]
  },
  {
   "cell_type": "code",
   "execution_count": null,
   "metadata": {
    "colab": {
     "base_uri": "https://localhost:8080/",
     "height": 300
    },
    "id": "XN7DB46OOTRi",
    "outputId": "0ce7cee5-937d-4983-d0f2-869c975b89cd"
   },
   "outputs": [],
   "source": [
    "df.describe()"
   ]
  },
  {
   "cell_type": "code",
   "execution_count": null,
   "metadata": {
    "colab": {
     "base_uri": "https://localhost:8080/",
     "height": 364
    },
    "id": "g_r43_02uiXo",
    "outputId": "c76d17e2-e49a-4f59-8e38-47d0fdb43beb"
   },
   "outputs": [],
   "source": [
    "df2.describe()"
   ]
  },
  {
   "cell_type": "code",
   "execution_count": null,
   "metadata": {
    "colab": {
     "base_uri": "https://localhost:8080/",
     "height": 300
    },
    "id": "M3Z0AoWIOw3o",
    "outputId": "3e38a1d0-122f-49ad-d1ef-03584eb8dd40"
   },
   "outputs": [],
   "source": [
    "df3.describe()"
   ]
  },
  {
   "cell_type": "code",
   "execution_count": null,
   "metadata": {
    "id": "Og2YllKiOyOc"
   },
   "outputs": [],
   "source": []
  }
 ],
 "metadata": {
  "colab": {
   "collapsed_sections": [
    "ojoEEx05AQVk"
   ],
   "provenance": []
  },
  "kernelspec": {
   "display_name": "Python 3 (ipykernel)",
   "language": "python",
   "name": "python3"
  },
  "language_info": {
   "codemirror_mode": {
    "name": "ipython",
    "version": 3
   },
   "file_extension": ".py",
   "mimetype": "text/x-python",
   "name": "python",
   "nbconvert_exporter": "python",
   "pygments_lexer": "ipython3",
   "version": "3.11.7"
  }
 },
 "nbformat": 4,
 "nbformat_minor": 4
}
