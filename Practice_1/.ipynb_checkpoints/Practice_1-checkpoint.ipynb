{
 "cells": [
  {
   "cell_type": "markdown",
   "id": "44a12871-8203-4fe2-8acc-7e008ce905be",
   "metadata": {},
   "source": [
    "В классе 40 студентов. Они написали тест, который оценили по 100-балльной системе. Ниже приведён список оценок, преобразованный для удобства расчётов в pd.Series.\n",
    "Задание. Рассчитайте базовые статистики: максимальную и минимальную величины, размах, дисперсию (округлить до целого), среднее, медиану и моду (приведите к int)."
   ]
  },
  {
   "cell_type": "code",
   "execution_count": 116,
   "id": "79965003-e80c-4b38-87b0-10e16d540d4e",
   "metadata": {},
   "outputs": [],
   "source": [
    "import pandas as pd\n",
    "\n",
    "\n",
    "grades = [87, 80, 99, 90, 74, 100, 95, 90, 56, 95,\n",
    "          75, 5, 85, 78, 30, 77, 70, 59, 88, 100,\n",
    "          50, 69, 97, 96, 82, 21, 46, 93, 72, 95, \n",
    "          60, 91, 52, 27, 63, 66, 85, 59, 91, 76]\n",
    "\n",
    "\n",
    "sr = pd.Series(grades)"
   ]
  },
  {
   "cell_type": "code",
   "execution_count": 146,
   "id": "d6859fb6-b1bc-4f3c-9a07-65304015a1d2",
   "metadata": {},
   "outputs": [
    {
     "name": "stdout",
     "output_type": "stream",
     "text": [
      "5.0\n",
      "100.0\n",
      "95.0\n",
      "544\n",
      "73.1\n",
      "77.5\n",
      "95\n"
     ]
    }
   ],
   "source": [
    "sr_descr = sr.describe()\n",
    "\n",
    "min_ = sr_descr['min']\n",
    "max_ = sr_descr['max']\n",
    "range_ = sr_descr['max'] - sr_descr['min']\n",
    "disp = int(sr_descr['std'] ** 2)\n",
    "mean = sr_descr['mean']\n",
    "median = sr_descr['50%']\n",
    "mode = int(sr.mode()[0])\n",
    "\n",
    "\n",
    "print(min_, max_, range_, disp, mean, median, mode, sep='\\n')"
   ]
  },
  {
   "cell_type": "markdown",
   "id": "c8ae3275-6c49-4ea4-875a-60e05aa8eb20",
   "metadata": {},
   "source": [
    "Мы попросили 100 человек написать на бумажке свой рост и кинуть в коробку. После занесли эти данные в список, из которого сделали pd.Series для удобства расчётов.\n",
    "\n",
    "Задание: рассчитайте базовые статистики: среднее, медиану, моду, межквартильный размах и с его помощью найдите выбросы."
   ]
  },
  {
   "cell_type": "code",
   "execution_count": 194,
   "id": "2f4b7cb3-621e-4d7f-be6d-115bd258376e",
   "metadata": {},
   "outputs": [
    {
     "name": "stdout",
     "output_type": "stream",
     "text": [
      "170.79\n",
      "171.0\n",
      "163\n",
      "17.5\n",
      "[250, 67]\n"
     ]
    }
   ],
   "source": [
    "height = [154, 185, 170, 184, 175, 180, 187, 164, 178, 185, \n",
    "          157, 179, 183, 159, 178, 189, 172, 167, 163, 166,\n",
    "          156, 165, 181, 164, 171, 185, 171, 168, 161, 184,\n",
    "          178, 161, 184, 150, 168, 187, 175, 175, 174, 154,\n",
    "          180, 164, 163, 163, 165, 185, 161, 166, 163, 171,\n",
    "          163, 184, 160, 161, 155, 185, 152, 169, 178, 154,\n",
    "          188, 158, 177, 250, 190, 189, 163, 168, 158, 182,\n",
    "          165, 67, 166, 167, 188, 185, 182, 172, 162, 156,\n",
    "          175, 184, 171, 174, 153, 154, 151, 176, 179, 161,\n",
    "          175, 154, 167, 180, 186, 174, 188, 176, 160, 179]\n",
    "\n",
    "\n",
    "h = pd.Series(height)\n",
    "\n",
    "h_descr = h.describe()\n",
    "\n",
    "mean = h_descr['mean']\n",
    "median = h_descr['50%']\n",
    "mode = h.mode()[0]\n",
    "iqr = h_descr['75%'] - h_descr['25%']\n",
    "lower_bound = h_descr['25%'] - 1.5 * iqr\n",
    "upper_bound = h_descr['75%'] + 1.5 * iqr\n",
    "outliers = [height_value for height_value in height if height_value > upper_bound or height_value < lower_bound]\n",
    "\n",
    "\n",
    "print(mean, median, mode, iqr, outliers, sep='\\n')"
   ]
  },
  {
   "cell_type": "markdown",
   "id": "ea11fe5f-e373-4f2a-bb5b-ce3cb6e867a0",
   "metadata": {},
   "source": [
    "Требуется смоделировать игру против лотерейного автомата типа “777”.\n",
    "Игрок платит 1 руб., после чего выпадает случайное целое число,\n",
    "равномерно распределённое от 0 до 999 (np.random.randint).\n",
    "При некоторых значениях числа игрок получает выигрыш:\n",
    "777: 200 руб.\n",
    "999: 100 руб.\n",
    "555: 50 руб.\n",
    "333: 15 руб.\n",
    "111: 10 руб.\n",
    "x77: 5 руб.\n",
    "xx7: 3 руб.\n",
    "x00: 2 руб.\n",
    "xx0: 1 руб.\n",
    "где x – любая цифра.\n",
    "Задание: рассчитайте математическое ожидание суммы выигрыша.\n",
    "Результат круглите до пяти знаков после запятой."
   ]
  },
  {
   "cell_type": "code",
   "execution_count": 263,
   "id": "042833cc-df67-4b85-9168-a9ba39e5b4b4",
   "metadata": {},
   "outputs": [
    {
     "name": "stdout",
     "output_type": "stream",
     "text": [
      "0.79953\n"
     ]
    }
   ],
   "source": [
    "import numpy as np\n",
    "\n",
    "# trials - список из 1 млн. целых чисел от 0 до 999\n",
    "# генерируется отдельно в тестовом файле\n",
    "def monte_carlo(trials):\n",
    "    # словарь, содержащий выигрышные комбинации и сумму выигрыша\n",
    "    # случаи с * следует обработать в цикле с помощью\n",
    "    # операции взятия остатка от деления (%)\n",
    "    score = {\n",
    "        999: 100,\n",
    "        777: 200,\n",
    "        555: 50,\n",
    "        333: 15,\n",
    "        111: 10\n",
    "    }\n",
    "    # сумма выигрыша      \n",
    "    balance = 0\n",
    "\n",
    "    for i in trials:\n",
    "        if i in score:\n",
    "            balance += score[i]\n",
    "        elif i % 100 == 77:\n",
    "            balance += 5\n",
    "        elif i % 10 == 7:\n",
    "            balance += 3\n",
    "        elif i % 100 == 0:\n",
    "            balance += 2\n",
    "        elif i % 10 == 0:\n",
    "            balance += 1\n",
    "            \n",
    "            \n",
    "\n",
    "    res = round(balance / len(trials), 5)\n",
    "    return res\n",
    "\n",
    "if __name__ == '__main__':\n",
    "    np.random.seed(42)\n",
    "    trials = np.random.randint(0, 1000, 10000000)\n",
    "    print(monte_carlo(trials))"
   ]
  }
 ],
 "metadata": {
  "kernelspec": {
   "display_name": "Python 3 (ipykernel)",
   "language": "python",
   "name": "python3"
  },
  "language_info": {
   "codemirror_mode": {
    "name": "ipython",
    "version": 3
   },
   "file_extension": ".py",
   "mimetype": "text/x-python",
   "name": "python",
   "nbconvert_exporter": "python",
   "pygments_lexer": "ipython3",
   "version": "3.11.7"
  }
 },
 "nbformat": 4,
 "nbformat_minor": 5
}
