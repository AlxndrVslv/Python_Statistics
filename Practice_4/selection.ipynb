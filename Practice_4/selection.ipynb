{
 "cells": [
  {
   "cell_type": "code",
   "execution_count": 1,
   "id": "33b30329-42fa-4e4d-a577-a1d296010af0",
   "metadata": {},
   "outputs": [],
   "source": [
    "import numpy as np\n",
    "from scipy import stats"
   ]
  },
  {
   "cell_type": "code",
   "execution_count": 59,
   "id": "bf01f1f6-19a8-43ad-846d-b91e2c7a4924",
   "metadata": {},
   "outputs": [],
   "source": [
    "def sample(delta, sigsqr, conf):\n",
    "    sigma = np.sqrt(sigsqr)\n",
    "    quantile = stats.norm.ppf((1 + conf) / 2)\n",
    "    return np.ceil((sigma * quantile / delta)**2)"
   ]
  },
  {
   "cell_type": "code",
   "execution_count": 61,
   "id": "7b06f504-c999-44ea-bccb-febc069e7454",
   "metadata": {},
   "outputs": [
    {
     "data": {
      "text/plain": [
       "60.0"
      ]
     },
     "execution_count": 61,
     "metadata": {},
     "output_type": "execute_result"
    }
   ],
   "source": [
    "sample(delta = 5, sigsqr = 225, conf = 0.99)"
   ]
  },
  {
   "cell_type": "code",
   "execution_count": 121,
   "id": "427b2729-26a3-47e2-9657-cb4a48604504",
   "metadata": {},
   "outputs": [],
   "source": [
    "def interval(n, mean, sig, conf):\n",
    "    #quantile = stats.t.ppf(q = 1 - (1 - conf)/2, df = n - 1)\n",
    "    quantile = stats.norm.ppf(q = 1 - (1 - conf)/2)\n",
    "    delta = sig * quantile / np.sqrt(n)\n",
    "    # h - точность интервальной оценки\n",
    "    h = 2 * delta\n",
    "    return h"
   ]
  },
  {
   "cell_type": "code",
   "execution_count": 123,
   "id": "354c35c2-b530-46e6-85c7-aadfef743711",
   "metadata": {},
   "outputs": [
    {
     "data": {
      "text/plain": [
       "11.26375466490792"
      ]
     },
     "execution_count": 123,
     "metadata": {},
     "output_type": "execute_result"
    }
   ],
   "source": [
    "interval(*(41, 68, 14, 0.99))"
   ]
  }
 ],
 "metadata": {
  "kernelspec": {
   "display_name": "Python 3 (ipykernel)",
   "language": "python",
   "name": "python3"
  },
  "language_info": {
   "codemirror_mode": {
    "name": "ipython",
    "version": 3
   },
   "file_extension": ".py",
   "mimetype": "text/x-python",
   "name": "python",
   "nbconvert_exporter": "python",
   "pygments_lexer": "ipython3",
   "version": "3.11.7"
  }
 },
 "nbformat": 4,
 "nbformat_minor": 5
}
