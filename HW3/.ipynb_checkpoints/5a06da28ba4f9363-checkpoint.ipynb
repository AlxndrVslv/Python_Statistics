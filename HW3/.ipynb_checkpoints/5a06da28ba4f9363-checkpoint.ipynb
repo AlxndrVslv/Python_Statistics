{
 "cells": [
  {
   "cell_type": "markdown",
   "metadata": {
    "id": "SOZozVNIGZwQ"
   },
   "source": [
    "## Домашнее задание к занятию \"A/B-тесты\""
   ]
  },
  {
   "cell_type": "markdown",
   "metadata": {
    "id": "N5Z4Rg7PGZwR"
   },
   "source": [
    "### Описание задачи\n",
    "\n",
    "![banner](https://storage.googleapis.com/kaggle-datasets-images/635/1204/126be74882028aac7241553cef0e27a7/dataset-original.jpg)\n",
    "\n",
    "Покемоны - это маленькие существа, которые сражаются друг с другом на соревнованиях. Все покемоны имеют разные характеристики (сила атаки, защиты и т. д.) И относятся к одному или двум так называемым классам (вода, огонь и т. д.).\n",
    "Профессор Оук является изобретателем Pokedex - портативного устройства, которое хранит информацию обо всех существующих покемонах. Как его ведущий специалист по данным, Вы только что получили от него запрос с просьбой осуществить аналитику данных на всех устройствах Pokedex.\n",
    "\n",
    "### Описание набора данных\n",
    "Профессор Оук скопировал все содержимое в память одного устройства Pokedex, в результате чего получился набор данных, с которым Вы будете работать в этой задаче. В этом файле каждая строка представляет характеристики одного покемона:\n",
    "\n",
    "* `pid`: Numeric - ID покемона\n",
    "* `HP`: Numeric - Очки здоровья\n",
    "* `Attack`: Numeric - Сила обычной атаки\n",
    "* `Defense`: Numeric - Сила обычной защиты\n",
    "* `Sp. Atk`: Numeric - Сила специальной атаки\n",
    "* `Sp. Def`: Numeric - Сила специальной защиты\n",
    "* `Speed`: Numeric - Скорость движений\n",
    "* `Legendary`: Boolean - «True», если покемон редкий\n",
    "* `Class 1`: Categorical - Класс покемона\n",
    "* `Class 2`: Categorical - Класс покемона"
   ]
  },
  {
   "cell_type": "code",
   "execution_count": 3,
   "metadata": {
    "colab": {
     "base_uri": "https://localhost:8080/",
     "height": 172
    },
    "id": "op1t0-0QGZwS",
    "outputId": "be3029cf-0c41-4bea-815f-ef74130e754a"
   },
   "outputs": [
    {
     "data": {
      "text/html": [
       "<div>\n",
       "<style scoped>\n",
       "    .dataframe tbody tr th:only-of-type {\n",
       "        vertical-align: middle;\n",
       "    }\n",
       "\n",
       "    .dataframe tbody tr th {\n",
       "        vertical-align: top;\n",
       "    }\n",
       "\n",
       "    .dataframe thead th {\n",
       "        text-align: right;\n",
       "    }\n",
       "</style>\n",
       "<table border=\"1\" class=\"dataframe\">\n",
       "  <thead>\n",
       "    <tr style=\"text-align: right;\">\n",
       "      <th></th>\n",
       "      <th>pid</th>\n",
       "      <th>Name</th>\n",
       "      <th>Class 1</th>\n",
       "      <th>Class 2</th>\n",
       "      <th>HP</th>\n",
       "      <th>Attack</th>\n",
       "      <th>Defense</th>\n",
       "      <th>Sp. Atk</th>\n",
       "      <th>Sp. Def</th>\n",
       "      <th>Speed</th>\n",
       "      <th>Legendary</th>\n",
       "    </tr>\n",
       "  </thead>\n",
       "  <tbody>\n",
       "    <tr>\n",
       "      <th>0</th>\n",
       "      <td>1</td>\n",
       "      <td>Bulbasaur</td>\n",
       "      <td>Grass</td>\n",
       "      <td>Poison</td>\n",
       "      <td>45</td>\n",
       "      <td>49</td>\n",
       "      <td>49</td>\n",
       "      <td>65</td>\n",
       "      <td>65</td>\n",
       "      <td>45</td>\n",
       "      <td>False</td>\n",
       "    </tr>\n",
       "    <tr>\n",
       "      <th>1</th>\n",
       "      <td>2</td>\n",
       "      <td>Ivysaur</td>\n",
       "      <td>Grass</td>\n",
       "      <td>Poison</td>\n",
       "      <td>60</td>\n",
       "      <td>62</td>\n",
       "      <td>63</td>\n",
       "      <td>80</td>\n",
       "      <td>80</td>\n",
       "      <td>60</td>\n",
       "      <td>False</td>\n",
       "    </tr>\n",
       "    <tr>\n",
       "      <th>2</th>\n",
       "      <td>3</td>\n",
       "      <td>Venusaur</td>\n",
       "      <td>Grass</td>\n",
       "      <td>Poison</td>\n",
       "      <td>80</td>\n",
       "      <td>82</td>\n",
       "      <td>83</td>\n",
       "      <td>100</td>\n",
       "      <td>100</td>\n",
       "      <td>80</td>\n",
       "      <td>False</td>\n",
       "    </tr>\n",
       "    <tr>\n",
       "      <th>3</th>\n",
       "      <td>4</td>\n",
       "      <td>Mega Venusaur</td>\n",
       "      <td>Grass</td>\n",
       "      <td>Poison</td>\n",
       "      <td>80</td>\n",
       "      <td>100</td>\n",
       "      <td>123</td>\n",
       "      <td>122</td>\n",
       "      <td>120</td>\n",
       "      <td>80</td>\n",
       "      <td>False</td>\n",
       "    </tr>\n",
       "    <tr>\n",
       "      <th>4</th>\n",
       "      <td>5</td>\n",
       "      <td>Charmander</td>\n",
       "      <td>Fire</td>\n",
       "      <td>NaN</td>\n",
       "      <td>39</td>\n",
       "      <td>52</td>\n",
       "      <td>43</td>\n",
       "      <td>60</td>\n",
       "      <td>50</td>\n",
       "      <td>65</td>\n",
       "      <td>False</td>\n",
       "    </tr>\n",
       "  </tbody>\n",
       "</table>\n",
       "</div>"
      ],
      "text/plain": [
       "   pid           Name Class 1 Class 2  HP  Attack  Defense  Sp. Atk  Sp. Def  \\\n",
       "0    1      Bulbasaur   Grass  Poison  45      49       49       65       65   \n",
       "1    2        Ivysaur   Grass  Poison  60      62       63       80       80   \n",
       "2    3       Venusaur   Grass  Poison  80      82       83      100      100   \n",
       "3    4  Mega Venusaur   Grass  Poison  80     100      123      122      120   \n",
       "4    5     Charmander    Fire     NaN  39      52       43       60       50   \n",
       "\n",
       "   Speed  Legendary  \n",
       "0     45      False  \n",
       "1     60      False  \n",
       "2     80      False  \n",
       "3     80      False  \n",
       "4     65      False  "
      ]
     },
     "execution_count": 3,
     "metadata": {},
     "output_type": "execute_result"
    }
   ],
   "source": [
    "import warnings\n",
    "# Отключение предупреждений (warnings)\n",
    "warnings.filterwarnings(\"ignore\")\n",
    "\n",
    "import pandas as pd\n",
    "\n",
    "from scipy.stats import ttest_ind\n",
    "from scipy.stats import f_oneway, shapiro\n",
    "\n",
    "pokemon = pd.read_csv('https://raw.githubusercontent.com/a-milenkin/datasets_for_t-tests/main/pokemon.csv', on_bad_lines='skip')  # Откроем датасет\n",
    "pokemon.head()\n",
    "\n",
    "# Обратите внимание, что у покемона может быть один или два класса.\n",
    "# Если у покемона два класса, считается, что они имеют одинаковую значимость."
   ]
  },
  {
   "cell_type": "code",
   "execution_count": 5,
   "metadata": {},
   "outputs": [
    {
     "name": "stdout",
     "output_type": "stream",
     "text": [
      "<class 'pandas.core.frame.DataFrame'>\n",
      "RangeIndex: 800 entries, 0 to 799\n",
      "Data columns (total 11 columns):\n",
      " #   Column     Non-Null Count  Dtype \n",
      "---  ------     --------------  ----- \n",
      " 0   pid        800 non-null    int64 \n",
      " 1   Name       799 non-null    object\n",
      " 2   Class 1    800 non-null    object\n",
      " 3   Class 2    414 non-null    object\n",
      " 4   HP         800 non-null    int64 \n",
      " 5   Attack     800 non-null    int64 \n",
      " 6   Defense    800 non-null    int64 \n",
      " 7   Sp. Atk    800 non-null    int64 \n",
      " 8   Sp. Def    800 non-null    int64 \n",
      " 9   Speed      800 non-null    int64 \n",
      " 10  Legendary  800 non-null    bool  \n",
      "dtypes: bool(1), int64(7), object(3)\n",
      "memory usage: 63.4+ KB\n"
     ]
    }
   ],
   "source": [
    "pokemon.info()"
   ]
  },
  {
   "cell_type": "markdown",
   "metadata": {
    "id": "8KytW3mUGZwT"
   },
   "source": [
    "### Задачи"
   ]
  },
  {
   "cell_type": "markdown",
   "metadata": {
    "id": "i72--cvLGZwT"
   },
   "source": [
    "<div class=\"alert alert-info\">\n",
    "<b>Задание № 1:</b>\n",
    "    \n",
    "Профессор Оук подозревает, что покемоны в классе `Grass` имеют более сильную обычную атаку, чем покемоны в классе `Rock`. Проверьте, прав ли он, и убедите его в своём выводе статистически.\n",
    "    \n",
    "    \n",
    "Примечание: если есть покемоны, которые относятся к обоим классам, просто выбросьте их;\n",
    "    \n",
    "Вы можете предположить, что распределение обычных атак является нормальным для всех классов покемонов.\n",
    "\n",
    "</div>"
   ]
  },
  {
   "cell_type": "markdown",
   "metadata": {},
   "source": [
    "<b>1. Определим, имеются ли статистически значимые отличия между средними у разных классов:</b>"
   ]
  },
  {
   "cell_type": "code",
   "execution_count": 7,
   "metadata": {
    "id": "h6s6LL6mt17A"
   },
   "outputs": [
    {
     "name": "stdout",
     "output_type": "stream",
     "text": [
      "Статистика = -3.417, p_value =  0.00096\n",
      "Значения средних в классах Grass и Rock различаются\n"
     ]
    }
   ],
   "source": [
    "grass_df = pokemon.loc[\n",
    "                (pokemon['Class 1'] == 'Grass') & (pokemon['Class 2'] != 'Rock') |\n",
    "                (pokemon['Class 1'] != 'Rock') & (pokemon['Class 2'] == 'Grass')\n",
    "            ]\n",
    "rock_df = pokemon.loc[\n",
    "                (pokemon['Class 1'] == 'Rock') & (pokemon['Class 2'] != 'Grass') |\n",
    "                (pokemon['Class 1'] != 'Grass') & (pokemon['Class 2'] == 'Rock')\n",
    "            ]\n",
    "\n",
    "stat, p_value = ttest_ind(grass_df['Attack'], rock_df['Attack'], equal_var = False)\n",
    "\n",
    "print(f'Статистика = {stat: .3f}, p_value = {p_value: .5f}')\n",
    "\n",
    "if p_value < 0.05:\n",
    "    print('Значения средних в классах Grass и Rock различаются')\n",
    "else:\n",
    "    print('Значения средних в классах Grass и Rock не различаются')"
   ]
  },
  {
   "cell_type": "markdown",
   "metadata": {},
   "source": [
    "<b>2. Посмотрим распределение основных статистик показателя атаки в каждой группе:</b>"
   ]
  },
  {
   "cell_type": "code",
   "execution_count": 13,
   "metadata": {},
   "outputs": [],
   "source": [
    "import matplotlib.pyplot as plt\n",
    "import seaborn as sns"
   ]
  },
  {
   "cell_type": "code",
   "execution_count": 15,
   "metadata": {},
   "outputs": [
    {
     "data": {
      "image/png": "[encoded data removed]",
      "text/plain": [
       "<Figure size 400x500 with 1 Axes>"
      ]
     },
     "metadata": {},
     "output_type": "display_data"
    }
   ],
   "source": [
    "grass_df['Class'] = 'Grass'\n",
    "rock_df['Class'] = 'Rock'\n",
    "plot_df = pd.concat([grass_df, rock_df])\n",
    "\n",
    "plt.figure(figsize = (4, 5))\n",
    "sns.boxplot(data = plot_df, x = 'Class', y = 'Attack', hue = 'Class')\n",
    "plt.show()"
   ]
  },
  {
   "cell_type": "markdown",
   "metadata": {},
   "source": [
    "<b><u>Вывод:</u></b><br>Т.к. из графика видно, что среднее значение у группы Grass меньше и есть статистически значимые различия между средними, то покемоны класса Grass имеют <b><u>менее сильную</u></b> атаку. Предположение профессора не подтвердилось."
   ]
  },
  {
   "cell_type": "markdown",
   "metadata": {
    "id": "KS2OVjmFGZwV"
   },
   "source": [
    "<div class=\"alert alert-info\">\n",
    "<b>Задание № 2:</b>\n",
    "    \n",
    "Профессор Оук уже долго не может спать по ночам, ведь его волнует вопрос, а правда ли, что покемоны в классе `Water` в среднем быстрее, чем покемоны в классе `Normal`.\n",
    "    \n",
    "    \n",
    "Проверьте, прав ли он, и убедите его в своём выводе статистически.\n",
    "    \n",
    "Примечание: если есть покемоны, которые относятся к обоим классам, выбросьте их;\n",
    "    \n",
    "Вы можете предположить, что распределение скорости движения является нормальным для всех классов покемонов.\n",
    "</div>"
   ]
  },
  {
   "cell_type": "markdown",
   "metadata": {},
   "source": [
    "<b>1. Определим, имеются ли статистически значимые отличия между средними у разных классов:</b>"
   ]
  },
  {
   "cell_type": "code",
   "execution_count": 17,
   "metadata": {
    "id": "h6s6LL6mt17A"
   },
   "outputs": [
    {
     "name": "stdout",
     "output_type": "stream",
     "text": [
      "Статистика = -2.101, p_value =  0.03695\n",
      "Значения средних в классах Water и Normal различаются\n"
     ]
    }
   ],
   "source": [
    "water_df = pokemon.loc[\n",
    "                (pokemon['Class 1'] == 'Water') & (pokemon['Class 2'] != 'Normal') |\n",
    "                (pokemon['Class 1'] != 'Normal') & (pokemon['Class 2'] == 'Water')\n",
    "            ]\n",
    "normal_df = pokemon.loc[\n",
    "                (pokemon['Class 1'] == 'Normal') & (pokemon['Class 2'] != 'Water') |\n",
    "                (pokemon['Class 1'] != 'Water') & (pokemon['Class 2'] == 'Normal')\n",
    "            ]\n",
    "\n",
    "stat, p_value = ttest_ind(water_df['Speed'], normal_df['Speed'], equal_var = False)\n",
    "\n",
    "print(f'Статистика = {stat: .3f}, p_value = {p_value: .5f}')\n",
    "\n",
    "if p_value < 0.05:\n",
    "    print('Значения средних в классах Water и Normal различаются')\n",
    "else:\n",
    "    print('Значения средних в классах Water и Normal не различаются')"
   ]
  },
  {
   "cell_type": "markdown",
   "metadata": {},
   "source": [
    "<b>2. Посмотрим распределение основных статистик показателя атаки в каждой группе:</b>"
   ]
  },
  {
   "cell_type": "code",
   "execution_count": 19,
   "metadata": {},
   "outputs": [
    {
     "data": {
      "image/png": "[encoded data removed]",
      "text/plain": [
       "<Figure size 400x500 with 1 Axes>"
      ]
     },
     "metadata": {},
     "output_type": "display_data"
    }
   ],
   "source": [
    "water_df['Class'] = 'Water'\n",
    "normal_df['Class'] = 'Normal'\n",
    "plot_df = pd.concat([water_df, normal_df])\n",
    "\n",
    "plt.figure(figsize = (4, 5))\n",
    "sns.boxplot(data = plot_df, x = 'Class', y = 'Speed', hue = 'Class')\n",
    "plt.show()"
   ]
  },
  {
   "cell_type": "markdown",
   "metadata": {},
   "source": [
    "<b><u>Вывод:</u></b><br>Т.к. из графика видно, что среднее у группы Water чуть меньше и есть статистически значимые различия между средними, то покемоны класса Water <b><u>в среднем медленнее</u></b>, чем покемоны класса Normal. Предположение профессора не подтвердилось."
   ]
  },
  {
   "cell_type": "markdown",
   "metadata": {
    "id": "p9VPcdu-GZwb"
   },
   "source": [
    "<div class=\"alert alert-info\">\n",
    "<b>Задание № 3:</b>\n",
    "    \n",
    "Профессор Оук тот еще безумец. Он изобрёл сыворотку, способную ускорить покемона. Однако мы усомнились в эффективности его вакцины. Професоор дал эту сыворотку следующим покемонам: смотри массив `treathed_pokemon`. Проверьте, работает ли вообще его сыворотка, убедите всех в своём выводе статистически.\n",
    "    \n",
    "    \n",
    "Вы можете предположить, что распределение скорости движения является нормальным для всех классов покемонов.\n",
    "\n",
    "</div>"
   ]
  },
  {
   "cell_type": "code",
   "execution_count": 21,
   "metadata": {
    "id": "olGBBpq2GZwb"
   },
   "outputs": [],
   "source": [
    "# Покемоны, которые принимали сыворотку увеличения скорости\n",
    "treathed_pokemon = ['Mega Beedrill', 'Mega Alakazam',\n",
    "                    'Deoxys Normal Forme', 'Mega Lopunny']"
   ]
  },
  {
   "cell_type": "markdown",
   "metadata": {},
   "source": [
    "<b>1. Определим, имеются ли статистически значимые отличия между средними у разных классов:</b>"
   ]
  },
  {
   "cell_type": "code",
   "execution_count": 23,
   "metadata": {
    "id": "h6s6LL6mt17A"
   },
   "outputs": [
    {
     "name": "stdout",
     "output_type": "stream",
     "text": [
      "Статистика =  20.964, p_value =  0.00008\n",
      "Значения средних у вакцинированных и не вакцинированных различаются\n"
     ]
    }
   ],
   "source": [
    "vaccine_df = pokemon.loc[pokemon['Name'].isin(treathed_pokemon)]\n",
    "not_vaccine_df = pokemon.loc[~pokemon['Name'].isin(treathed_pokemon)]\n",
    "\n",
    "stat, p_value = ttest_ind(vaccine_df['Speed'], not_vaccine_df['Speed'], equal_var = False)\n",
    "\n",
    "print(f'Статистика = {stat: .3f}, p_value = {p_value: .5f}')\n",
    "\n",
    "if p_value < 0.05:\n",
    "    print('Значения средних у вакцинированных и не вакцинированных различаются')\n",
    "else:\n",
    "    print('Значения средних у вакцинированных и не вакцинированных не различаются')"
   ]
  },
  {
   "cell_type": "markdown",
   "metadata": {},
   "source": [
    "<b>2. Посмотрим распределение основных статистик показателя атаки в каждой группе:</b>"
   ]
  },
  {
   "cell_type": "code",
   "execution_count": 25,
   "metadata": {},
   "outputs": [
    {
     "data": {
      "image/png": "[encoded data removed]",
      "text/plain": [
       "<Figure size 400x500 with 1 Axes>"
      ]
     },
     "metadata": {},
     "output_type": "display_data"
    }
   ],
   "source": [
    "vaccine_df['Vaccinated'] = 'Vaccinated'\n",
    "not_vaccine_df['Vaccinated'] = 'Not vaccinated'\n",
    "plot_df = pd.concat([vaccine_df, not_vaccine_df])\n",
    "\n",
    "plt.figure(figsize = (4, 5))\n",
    "sns.boxplot(data = plot_df, x = 'Vaccinated', y = 'Speed', hue = 'Vaccinated')\n",
    "plt.show()"
   ]
  },
  {
   "cell_type": "markdown",
   "metadata": {},
   "source": [
    "<b><u>Вывод:</u></b><br>Т.к. среднее у вакцинированных покемонов гораздо больше и есть статистически значимые различия между средними, то вакцинированные покемоны гораздо <b><u>быстрее</u></b> остальных. Сыворотка работает."
   ]
  },
  {
   "cell_type": "markdown",
   "metadata": {
    "id": "IpgS6yk9GZwc"
   },
   "source": [
    "<div class=\"alert alert-info\">\n",
    "<b>Задание № 4:</b>\n",
    "    \n",
    "Профессор Оук всегда любил истории про легендарных покемонов. Однако профессор не очень уверен, что они лучше остальных покемонов. Оук предложил разобраться в этом нам. Проверьте, действительно ли сумма характеристик `HP`,`Attack`,`Defense` у легендарных покемонов выше, чем у других покемонов?\n",
    "\n",
    "А произведение этих же параметров?\n",
    "\n",
    "Найдите ответы на эти вопросы и убедите всех в своём выводе статистически.\n",
    "   \n",
    "\n",
    "Вы можете предположить, что распределение сум и произведений этих параметров является нормальным для всех классов покемонов.\n",
    "\n",
    "</div>"
   ]
  },
  {
   "cell_type": "markdown",
   "metadata": {},
   "source": [
    "<b>1. Посчитаем сумму и произведение характеристик для всего набора данных:</b>"
   ]
  },
  {
   "cell_type": "code",
   "execution_count": 27,
   "metadata": {},
   "outputs": [
    {
     "data": {
      "text/html": [
       "<div>\n",
       "<style scoped>\n",
       "    .dataframe tbody tr th:only-of-type {\n",
       "        vertical-align: middle;\n",
       "    }\n",
       "\n",
       "    .dataframe tbody tr th {\n",
       "        vertical-align: top;\n",
       "    }\n",
       "\n",
       "    .dataframe thead th {\n",
       "        text-align: right;\n",
       "    }\n",
       "</style>\n",
       "<table border=\"1\" class=\"dataframe\">\n",
       "  <thead>\n",
       "    <tr style=\"text-align: right;\">\n",
       "      <th></th>\n",
       "      <th>pid</th>\n",
       "      <th>Name</th>\n",
       "      <th>Class 1</th>\n",
       "      <th>Class 2</th>\n",
       "      <th>HP</th>\n",
       "      <th>Attack</th>\n",
       "      <th>Defense</th>\n",
       "      <th>Sp. Atk</th>\n",
       "      <th>Sp. Def</th>\n",
       "      <th>Speed</th>\n",
       "      <th>Legendary</th>\n",
       "      <th>Skills_Sum</th>\n",
       "      <th>Skills_Multi</th>\n",
       "    </tr>\n",
       "  </thead>\n",
       "  <tbody>\n",
       "    <tr>\n",
       "      <th>0</th>\n",
       "      <td>1</td>\n",
       "      <td>Bulbasaur</td>\n",
       "      <td>Grass</td>\n",
       "      <td>Poison</td>\n",
       "      <td>45</td>\n",
       "      <td>49</td>\n",
       "      <td>49</td>\n",
       "      <td>65</td>\n",
       "      <td>65</td>\n",
       "      <td>45</td>\n",
       "      <td>False</td>\n",
       "      <td>143</td>\n",
       "      <td>108045</td>\n",
       "    </tr>\n",
       "    <tr>\n",
       "      <th>1</th>\n",
       "      <td>2</td>\n",
       "      <td>Ivysaur</td>\n",
       "      <td>Grass</td>\n",
       "      <td>Poison</td>\n",
       "      <td>60</td>\n",
       "      <td>62</td>\n",
       "      <td>63</td>\n",
       "      <td>80</td>\n",
       "      <td>80</td>\n",
       "      <td>60</td>\n",
       "      <td>False</td>\n",
       "      <td>185</td>\n",
       "      <td>234360</td>\n",
       "    </tr>\n",
       "    <tr>\n",
       "      <th>2</th>\n",
       "      <td>3</td>\n",
       "      <td>Venusaur</td>\n",
       "      <td>Grass</td>\n",
       "      <td>Poison</td>\n",
       "      <td>80</td>\n",
       "      <td>82</td>\n",
       "      <td>83</td>\n",
       "      <td>100</td>\n",
       "      <td>100</td>\n",
       "      <td>80</td>\n",
       "      <td>False</td>\n",
       "      <td>245</td>\n",
       "      <td>544480</td>\n",
       "    </tr>\n",
       "    <tr>\n",
       "      <th>3</th>\n",
       "      <td>4</td>\n",
       "      <td>Mega Venusaur</td>\n",
       "      <td>Grass</td>\n",
       "      <td>Poison</td>\n",
       "      <td>80</td>\n",
       "      <td>100</td>\n",
       "      <td>123</td>\n",
       "      <td>122</td>\n",
       "      <td>120</td>\n",
       "      <td>80</td>\n",
       "      <td>False</td>\n",
       "      <td>303</td>\n",
       "      <td>984000</td>\n",
       "    </tr>\n",
       "    <tr>\n",
       "      <th>4</th>\n",
       "      <td>5</td>\n",
       "      <td>Charmander</td>\n",
       "      <td>Fire</td>\n",
       "      <td>NaN</td>\n",
       "      <td>39</td>\n",
       "      <td>52</td>\n",
       "      <td>43</td>\n",
       "      <td>60</td>\n",
       "      <td>50</td>\n",
       "      <td>65</td>\n",
       "      <td>False</td>\n",
       "      <td>134</td>\n",
       "      <td>87204</td>\n",
       "    </tr>\n",
       "  </tbody>\n",
       "</table>\n",
       "</div>"
      ],
      "text/plain": [
       "   pid           Name Class 1 Class 2  HP  Attack  Defense  Sp. Atk  Sp. Def  \\\n",
       "0    1      Bulbasaur   Grass  Poison  45      49       49       65       65   \n",
       "1    2        Ivysaur   Grass  Poison  60      62       63       80       80   \n",
       "2    3       Venusaur   Grass  Poison  80      82       83      100      100   \n",
       "3    4  Mega Venusaur   Grass  Poison  80     100      123      122      120   \n",
       "4    5     Charmander    Fire     NaN  39      52       43       60       50   \n",
       "\n",
       "   Speed  Legendary  Skills_Sum  Skills_Multi  \n",
       "0     45      False         143        108045  \n",
       "1     60      False         185        234360  \n",
       "2     80      False         245        544480  \n",
       "3     80      False         303        984000  \n",
       "4     65      False         134         87204  "
      ]
     },
     "execution_count": 27,
     "metadata": {},
     "output_type": "execute_result"
    }
   ],
   "source": [
    "pokemon['Skills_Sum'] = pokemon['HP'] + pokemon['Attack'] + pokemon['Defense']\n",
    "pokemon['Skills_Multi'] = pokemon['HP'] * pokemon['Attack'] * pokemon['Defense']\n",
    "pokemon.head()"
   ]
  },
  {
   "cell_type": "markdown",
   "metadata": {},
   "source": [
    "<b>2. Определим, имеются ли статистически значимые отличия между средними у разных классов:</b>"
   ]
  },
  {
   "cell_type": "code",
   "execution_count": 29,
   "metadata": {
    "id": "h6s6LL6mt17A"
   },
   "outputs": [
    {
     "name": "stdout",
     "output_type": "stream",
     "text": [
      "Статистика =  15.198, p_value =  0.00000\n",
      "Значения суммы характеристик у легендарных покемонов отличаются от остальных\n"
     ]
    }
   ],
   "source": [
    "legendary_df = pokemon.loc[pokemon.Legendary]\n",
    "not_legendary_df = pokemon.loc[~pokemon.Legendary]\n",
    "\n",
    "stat, p_value = ttest_ind(legendary_df['Skills_Sum'], not_legendary_df['Skills_Sum'], equal_var = False)\n",
    "\n",
    "print(f'Статистика = {stat: .3f}, p_value = {p_value: .5f}')\n",
    "\n",
    "if p_value < 0.05:\n",
    "    print('Значения суммы характеристик у легендарных покемонов отличаются от остальных')\n",
    "else:\n",
    "    print('Значения суммы характеристик у легендарных покемонов не отличаются от остальных')"
   ]
  },
  {
   "cell_type": "code",
   "execution_count": 31,
   "metadata": {},
   "outputs": [
    {
     "name": "stdout",
     "output_type": "stream",
     "text": [
      "Статистика =  10.079, p_value =  0.00000\n",
      "Значения произведения характеристик у легендарных покемонов отличаются от остальных\n"
     ]
    }
   ],
   "source": [
    "stat, p_value = ttest_ind(legendary_df['Skills_Multi'], not_legendary_df['Skills_Multi'], equal_var = False)\n",
    "\n",
    "print(f'Статистика = {stat: .3f}, p_value = {p_value: .5f}')\n",
    "\n",
    "if p_value < 0.05:\n",
    "    print('Значения произведения характеристик у легендарных покемонов отличаются от остальных')\n",
    "else:\n",
    "    print('Значения произведения характеристик у легендарных покемонов не отличаются от остальных')"
   ]
  },
  {
   "cell_type": "markdown",
   "metadata": {},
   "source": [
    "<b>3. Посмотрим распределение основных статистик показателя атаки в каждой группе:</b>"
   ]
  },
  {
   "cell_type": "code",
   "execution_count": 33,
   "metadata": {},
   "outputs": [
    {
     "data": {
      "image/png": "[encoded data removed]",
      "text/plain": [
       "<Figure size 1000x500 with 2 Axes>"
      ]
     },
     "metadata": {},
     "output_type": "display_data"
    }
   ],
   "source": [
    "legendary_df['Legendary'] = 'Legendary'\n",
    "not_legendary_df['Legendary'] = 'Not Legendary'\n",
    "plot_df = pd.concat([legendary_df, not_legendary_df])\n",
    "\n",
    "fig, axes = plt.subplots(1, 2, figsize = (10, 5))\n",
    "plt.subplots_adjust(wspace = 0.4)\n",
    "axes[0].set_title('Сумма характеристик')\n",
    "axes[1].set_title('Произведение характеристик')\n",
    "axes[1].ticklabel_format(axis = 'y', style = 'plain')\n",
    "sns.boxplot(data = plot_df, x = 'Legendary', y = 'Skills_Sum', hue = 'Legendary', ax = axes[0])\n",
    "sns.boxplot(data = plot_df, x = 'Legendary', y = 'Skills_Multi', hue = 'Legendary', ax = axes[1])\n",
    "plt.show()"
   ]
  },
  {
   "cell_type": "markdown",
   "metadata": {},
   "source": [
    "<b><u>Вывод:</u></b><br>Т.к. средние значения суммы и произведения характеристик у легендарных покемонов больше остальных и есть статистически значимые различия между средними, то легендарные покемоны действительно отличаются улучшенными характеристиками. "
   ]
  },
  {
   "cell_type": "markdown",
   "metadata": {
    "id": "g9GwcheAGZwc"
   },
   "source": [
    "<div class=\"alert alert-info\">\n",
    "<b>Задание № 5:</b>\n",
    "    \n",
    "Профессор Оук частенько наблюдает за боями покемонов. После очередных таких боёв Оук выделил четыре класса `best_defence_class`, которые на его взгляд одинаковы по \"силе обычной защиты\" `Defense`.\n",
    "\n",
    "Проверьте, действительно ли эти классы покемонов не отличаются по уровню защиты статистически значимо? Всё та же статистика вам в помощь!\n",
    "   \n",
    "\n",
    "Вы можете предположить, что распределение параметров защитных характеристик является нормальным для всех классов покемонов.\n",
    "\n",
    "</div>"
   ]
  },
  {
   "cell_type": "code",
   "execution_count": 35,
   "metadata": {
    "colab": {
     "base_uri": "https://localhost:8080/"
    },
    "id": "F0w6ipNBGZwd",
    "outputId": "e20a4efd-dcf6-4730-8730-91f7fec544ea"
   },
   "outputs": [
    {
     "data": {
      "text/plain": [
       "['Rock', 'Ground', 'Steel', 'Ice']"
      ]
     },
     "execution_count": 35,
     "metadata": {},
     "output_type": "execute_result"
    }
   ],
   "source": [
    "best_defence_class = ['Rock', 'Ground', 'Steel', 'Ice']\n",
    "best_defence_class"
   ]
  },
  {
   "cell_type": "markdown",
   "metadata": {},
   "source": [
    "<b>1. Так как количество выборок у нас больше двух, необходимо выполнить однофакторный дисперсионный анализ (тест ANOVA):</b>"
   ]
  },
  {
   "cell_type": "markdown",
   "metadata": {},
   "source": [
    "Сформируем выборки по всем нужным классам:"
   ]
  },
  {
   "cell_type": "code",
   "execution_count": 37,
   "metadata": {},
   "outputs": [],
   "source": [
    "# Выделим покемонов, у которых Class 1 и Class 2 принимают дублирующиеся значения из списка\n",
    "double_class_df = pokemon.loc[\n",
    "    (pokemon['Class 1'] == best_defence_class[0]) & (pokemon['Class 2'].isin([x for n, x in enumerate(best_defence_class) if n != 0])) |\n",
    "    (pokemon['Class 1'] == best_defence_class[1]) & (pokemon['Class 2'].isin([x for n, x in enumerate(best_defence_class) if n != 1])) |\n",
    "    (pokemon['Class 1'] == best_defence_class[2]) & (pokemon['Class 2'].isin([x for n, x in enumerate(best_defence_class) if n != 2])) |\n",
    "    (pokemon['Class 1'] == best_defence_class[3]) & (pokemon['Class 2'].isin([x for n, x in enumerate(best_defence_class) if n != 3]))\n",
    "]\n",
    "# Исключим их их набора данных\n",
    "pokemon_without_double_class = pokemon.loc[~pokemon.index.isin(double_class_df.index)]\n",
    "\n",
    "group_1_df = pokemon_without_double_class.loc[\n",
    "                (pokemon_without_double_class['Class 1'] == best_defence_class[0]) | (pokemon_without_double_class['Class 2'] == best_defence_class[0])\n",
    "]\n",
    "group_2_df = pokemon_without_double_class.loc[\n",
    "                (pokemon_without_double_class['Class 1'] == best_defence_class[1]) | (pokemon_without_double_class['Class 2'] == best_defence_class[1])\n",
    "]\n",
    "group_3_df = pokemon_without_double_class.loc[\n",
    "                (pokemon_without_double_class['Class 1'] == best_defence_class[2]) | (pokemon_without_double_class['Class 2'] == best_defence_class[2])\n",
    "]\n",
    "group_4_df = pokemon_without_double_class.loc[\n",
    "                (pokemon_without_double_class['Class 1'] == best_defence_class[3]) | (pokemon_without_double_class['Class 2'] == best_defence_class[3])\n",
    "]"
   ]
  },
  {
   "cell_type": "markdown",
   "metadata": {},
   "source": [
    "Для проведения данного теста ANOVA необходимо соблюдение условия равенства диспрерсий.<br> Проверим его с помощью теста Левене:"
   ]
  },
  {
   "cell_type": "code",
   "execution_count": 39,
   "metadata": {},
   "outputs": [],
   "source": [
    "from scipy import stats"
   ]
  },
  {
   "cell_type": "code",
   "execution_count": 41,
   "metadata": {},
   "outputs": [
    {
     "name": "stdout",
     "output_type": "stream",
     "text": [
      "Статистика =  0.388, p_value =  0.76164\n",
      "Значения дисперсий похожи\n"
     ]
    }
   ],
   "source": [
    "levene_stat, p_value = stats.levene(group_1_df['Defense'], group_2_df['Defense'], group_3_df['Defense'], group_4_df['Defense'])\n",
    "\n",
    "print(f'Статистика = {levene_stat: .3f}, p_value = {p_value: .5f}')\n",
    "\n",
    "if p_value < 0.05:\n",
    "    print('Значения дисперсий значительно отличаются')\n",
    "else:\n",
    "    print('Значения дисперсий похожи')"
   ]
  },
  {
   "cell_type": "markdown",
   "metadata": {},
   "source": [
    "Т.к. значения дисперсий похожи, можем провести тест ANOVA:"
   ]
  },
  {
   "cell_type": "code",
   "execution_count": 43,
   "metadata": {},
   "outputs": [
    {
     "name": "stdout",
     "output_type": "stream",
     "text": [
      "Статистика =  8.820, p_value =  0.00002\n",
      "Значения показателей защиты в данных группах отличаются\n"
     ]
    }
   ],
   "source": [
    "f_value, p_value = f_oneway(group_1_df['Defense'], group_2_df['Defense'], group_3_df['Defense'], group_4_df['Defense'])\n",
    "\n",
    "print(f'Статистика = {f_value: .3f}, p_value = {p_value: .5f}')\n",
    "\n",
    "if p_value < 0.05:\n",
    "    print('Значения показателей защиты в данных группах отличаются')\n",
    "else:\n",
    "    print('Значения защиты в данных группах похожи')"
   ]
  },
  {
   "cell_type": "markdown",
   "metadata": {},
   "source": [
    "<b>2. Посмотрим распределения в разных классах на графике:</b>"
   ]
  },
  {
   "cell_type": "code",
   "execution_count": 45,
   "metadata": {},
   "outputs": [
    {
     "data": {
      "image/png": "[encoded data removed]",
      "text/plain": [
       "<Figure size 800x500 with 1 Axes>"
      ]
     },
     "metadata": {},
     "output_type": "display_data"
    }
   ],
   "source": [
    "group_1_df['Class'] = best_defence_class[0]\n",
    "group_2_df['Class'] = best_defence_class[1]\n",
    "group_3_df['Class'] = best_defence_class[2]\n",
    "group_4_df['Class'] = best_defence_class[3]\n",
    "plot_df = pd.concat([group_1_df, group_2_df, group_3_df, group_4_df])\n",
    "\n",
    "plt.figure(figsize = (8, 5))\n",
    "sns.boxplot(data = plot_df, x = 'Class', y = 'Defense', hue = 'Class')\n",
    "plt.show()"
   ]
  },
  {
   "cell_type": "markdown",
   "metadata": {},
   "source": [
    "<b><u>Вывод:</u></b><br>Из графика не совсем легко понять, но статистический тест показал, что показатели обычной защиты у данных четырех групп различаются. Т.о. предположение профессора не подтвердилось."
   ]
  },
  {
   "cell_type": "markdown",
   "metadata": {
    "id": "If3qgUORDFBb"
   },
   "source": [
    "# **Примечание:**\n",
    "\n",
    "Домашнее задание сдается ссылкой [Google Colab](https://colab.research.google.com/). Мы не сможем проверить его или помочь, если вы пришлете:\n",
    "\n",
    "*   файлы;\n",
    "*   архивы;\n",
    "*   скриншоты кода.\n",
    "\n",
    "Все обсуждения и консультации по выполнению домашнего задания ведутся только на соответствующем канале в Discord.\n",
    "\n",
    "**Как правильно задавать вопросы аспирантам, преподавателям и коллегам:**\n",
    "\n",
    "Прежде чем задать вопрос, попробуйте найти ответ в интернете. Навык самостоятельного поиска информации — один из важнейших. Каждый практикующий специалист любого уровня делает это ежедневно.\n",
    "\n",
    "Сформулируйте вопрос по алгоритму:\n",
    "\n",
    "1.   Что я делаю?\n",
    "2.   Какого результата я ожидаю?\n",
    "3.   Как фактический результат отличается от ожидаемого?\n",
    "4.   Что я уже попробовал сделать, чтобы исправить проблему?\n",
    "\n",
    "По возможности прикрепите к вопросу скриншоты либо ссылки на код. Не выкладывайте все решение, оставляйте только проблемный и воспроизводимый участок кода."
   ]
  }
 ],
 "metadata": {
  "colab": {
   "provenance": []
  },
  "kernelspec": {
   "display_name": "Python 3 (ipykernel)",
   "language": "python",
   "name": "python3"
  },
  "language_info": {
   "codemirror_mode": {
    "name": "ipython",
    "version": 3
   },
   "file_extension": ".py",
   "mimetype": "text/x-python",
   "name": "python",
   "nbconvert_exporter": "python",
   "pygments_lexer": "ipython3",
   "version": "3.11.7"
  },
  "toc": {
   "base_numbering": 1,
   "nav_menu": {},
   "number_sections": true,
   "sideBar": true,
   "skip_h1_title": false,
   "title_cell": "Table of Contents",
   "title_sidebar": "Contents",
   "toc_cell": false,
   "toc_position": {},
   "toc_section_display": true,
   "toc_window_display": false
  }
 },
 "nbformat": 4,
 "nbformat_minor": 4
}
