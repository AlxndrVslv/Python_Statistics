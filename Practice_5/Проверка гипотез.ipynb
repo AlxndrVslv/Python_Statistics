{
 "cells": [
  {
   "cell_type": "code",
   "execution_count": 33,
   "id": "53f817fb-63f6-48a3-a225-eb39eca306cd",
   "metadata": {},
   "outputs": [],
   "source": [
    "import pandas as pd\n",
    "import numpy as np\n",
    "from scipy import stats"
   ]
  },
  {
   "cell_type": "code",
   "execution_count": 13,
   "id": "9d15f5ef-7c18-4b99-be96-4f6f2a36a7a6",
   "metadata": {},
   "outputs": [],
   "source": [
    "sync = np.round(81 + 6 * np.random.standard_normal(22),1)\n",
    "asyncr = np.round(74 + 6 * np.random.standard_normal(14),1)"
   ]
  },
  {
   "cell_type": "code",
   "execution_count": 31,
   "id": "5a0e84e4-bf8a-4cd3-8841-e6d809614451",
   "metadata": {},
   "outputs": [
    {
     "name": "stdout",
     "output_type": "stream",
     "text": [
      "Статистика =  4.48907, p = 0.00008\n",
      "Отклоняем нулевую гипотезу\n"
     ]
    }
   ],
   "source": [
    "# H0 - выборки не имеют стат. значимых различий\n",
    "# H1 - выборки имеют стат. значимые различия\n",
    "\n",
    "stat, p = stats.ttest_ind(sync, asyncr)\n",
    "print(f\"Статистика = {stat: .5f}, p = {p:.5f}\")\n",
    "\n",
    "if p < 0.05:\n",
    "  print(\"Отклоняем нулевую гипотезу\")\n",
    "else:\n",
    "  print(\"Не отклоняем нулевую гипотезу\")\n",
    "    "
   ]
  },
  {
   "cell_type": "code",
   "execution_count": 149,
   "id": "503ff249-9f6c-41d7-87e0-ae52f760a94b",
   "metadata": {},
   "outputs": [
    {
     "name": "stdout",
     "output_type": "stream",
     "text": [
      "Не отклоняем нулевую гипотезу. Выборки, вероятно, независимы\n"
     ]
    }
   ],
   "source": [
    "d1 = np.random.choice(range(8,18),(1,2))\n",
    "d2 = np.random.choice(range(28,41),(1,2))\n",
    "data = np.concatenate((d1, d2), axis=0)\n",
    "\n",
    "observations = pd.DataFrame(data,\n",
    "                            index=['Дождь','Солнце'],\n",
    "                            columns=['Верные ответы волшебника','Неверные ответы'])\n",
    "observations\n",
    "\n",
    "# # H0 - выборки не зависимы\n",
    "# # H1 - выборки зависимы\n",
    "\n",
    "\n",
    "chi, pval, dof, exp = stats.chi2_contingency(observations.values) #Критерий Пирсона (хи квадрат)\n",
    "if pval < 0.05:\n",
    "    print('Отклоняем нулевую гипотезу. Есть некоторая зависимость')\n",
    "else:\n",
    "    print('Не отклоняем нулевую гипотезу. Выборки, вероятно, независимы')"
   ]
  },
  {
   "cell_type": "code",
   "execution_count": 141,
   "id": "86342917-befd-4958-a256-381879efa983",
   "metadata": {},
   "outputs": [
    {
     "data": {
      "text/plain": [
       "array([[13, 39],\n",
       "       [ 8, 35]])"
      ]
     },
     "execution_count": 141,
     "metadata": {},
     "output_type": "execute_result"
    }
   ],
   "source": [
    "observations.values.transpose()"
   ]
  }
 ],
 "metadata": {
  "kernelspec": {
   "display_name": "Python 3 (ipykernel)",
   "language": "python",
   "name": "python3"
  },
  "language_info": {
   "codemirror_mode": {
    "name": "ipython",
    "version": 3
   },
   "file_extension": ".py",
   "mimetype": "text/x-python",
   "name": "python",
   "nbconvert_exporter": "python",
   "pygments_lexer": "ipython3",
   "version": "3.11.7"
  }
 },
 "nbformat": 4,
 "nbformat_minor": 5
}
